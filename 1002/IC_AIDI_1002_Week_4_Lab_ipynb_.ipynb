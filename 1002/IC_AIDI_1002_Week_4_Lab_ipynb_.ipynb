{
  "nbformat": 4,
  "nbformat_minor": 0,
  "metadata": {
    "colab": {
      "name": "IC AIDI_1002_Week_4_Lab.ipynb .ipynb",
      "provenance": [],
      "mount_file_id": "1bcexn5lyMXYC7sAUbdvQRFxMzxTZmDIl",
      "authorship_tag": "ABX9TyOWc+mi2tsGUSqnYCYcdLDp",
      "include_colab_link": true
    },
    "kernelspec": {
      "name": "python3",
      "display_name": "Python 3"
    },
    "language_info": {
      "name": "python"
    }
  },
  "cells": [
    {
      "cell_type": "markdown",
      "metadata": {
        "id": "view-in-github",
        "colab_type": "text"
      },
      "source": [
        "<a href=\"https://colab.research.google.com/github/sukha002/AIDI/blob/master/1002/IC_AIDI_1002_Week_4_Lab_ipynb_.ipynb\" target=\"_parent\"><img src=\"https://colab.research.google.com/assets/colab-badge.svg\" alt=\"Open In Colab\"/></a>"
      ]
    },
    {
      "cell_type": "code",
      "execution_count": null,
      "metadata": {
        "id": "UGOrbRc8yvhu"
      },
      "outputs": [],
      "source": [
        "#importing the libraries\n",
        "import numpy as np\n",
        "import matplotlib.pyplot as plt\n",
        "import pandas as pd#importing our cancer dataset\n",
        "\n",
        "path = \"/content/drive/MyDrive/AIDI/0002/breast_cancer.csv.csv\"\n",
        "dataset = pd.read_csv(path)\n",
        "X = dataset.iloc[:, 1:31].values\n",
        "Y = dataset.iloc[:, 31].values"
      ]
    },
    {
      "cell_type": "markdown",
      "source": [
        "Question : Consider the following breast_cancer.csv data from the week 3 lecture and select the kbest features using mutual information statistical measure and compare the results with chi-square metric results.\n"
      ],
      "metadata": {
        "id": "OrBElH--znr3"
      }
    },
    {
      "cell_type": "code",
      "source": [
        "#importing the libraries\n",
        "import numpy as np\n",
        "import matplotlib.pyplot as plt\n",
        "import pandas as pd#importing our cancer dataset\n",
        "\n",
        "\n",
        "dataset['diagnosis'] = dataset['diagnosis'].map({\"M\":1,\"B\":0})\n",
        "X = dataset.iloc[:, 1:31].values\n",
        "Y = dataset.iloc[:, 31].values\n"
      ],
      "metadata": {
        "id": "8FpznoauzwM2"
      },
      "execution_count": null,
      "outputs": []
    },
    {
      "cell_type": "code",
      "source": [
        "#Encoding categorical data values\n",
        "from sklearn.preprocessing import LabelEncoder\n",
        "labelencoder_Y = LabelEncoder()\n",
        "Y = labelencoder_Y.fit_transform(Y)"
      ],
      "metadata": {
        "id": "kLLhzIRt0zCs"
      },
      "execution_count": null,
      "outputs": []
    },
    {
      "cell_type": "code",
      "source": [
        "# Splitting the dataset into the Training set and Test set\n",
        "from sklearn.model_selection import train_test_split\n",
        "X_train, X_test, Y_train, Y_test = train_test_split(X, Y, test_size = 0.25, random_state = 0)"
      ],
      "metadata": {
        "id": "0_ckFk0r02hv"
      },
      "execution_count": null,
      "outputs": []
    },
    {
      "cell_type": "code",
      "source": [
        "#Feature Scaling\n",
        "from sklearn.preprocessing import StandardScaler\n",
        "sc = StandardScaler()\n",
        "X_train = sc.fit_transform(X_train)\n",
        "X_test = sc.transform(X_test)"
      ],
      "metadata": {
        "id": "hLQm_tDh1N0O"
      },
      "execution_count": null,
      "outputs": []
    },
    {
      "cell_type": "markdown",
      "source": [
        "Chi Square test"
      ],
      "metadata": {
        "id": "fX87sdHG1Xt0"
      }
    },
    {
      "cell_type": "code",
      "source": [
        "from sklearn.feature_selection import chi2\n",
        "chi_scores = chi2(X,Y)\n",
        "chi_scores\n",
        "#p_values = pd.Series(chi_scores[1], index = X.index)\n",
        "p_values.sort_values(ascending = False , inplace = True)\n",
        "p_values.plot.bar()\n",
        "X"
      ],
      "metadata": {
        "colab": {
          "base_uri": "https://localhost:8080/",
          "height": 397
        },
        "id": "6yzxLfQ81USp",
        "outputId": "f4bd720a-5038-4ff7-f411-3471078b493c"
      },
      "execution_count": null,
      "outputs": [
        {
          "output_type": "execute_result",
          "data": {
            "text/plain": [
              "array([[ 1.    , 17.99  , 10.38  , ...,  0.7119,  0.2654,  0.4601],\n",
              "       [ 1.    , 20.57  , 17.77  , ...,  0.2416,  0.186 ,  0.275 ],\n",
              "       [ 1.    , 19.69  , 21.25  , ...,  0.4504,  0.243 ,  0.3613],\n",
              "       ...,\n",
              "       [ 1.    , 16.6   , 28.08  , ...,  0.3403,  0.1418,  0.2218],\n",
              "       [ 1.    , 20.6   , 29.33  , ...,  0.9387,  0.265 ,  0.4087],\n",
              "       [ 0.    ,  7.76  , 24.54  , ...,  0.    ,  0.    ,  0.2871]])"
            ]
          },
          "metadata": {},
          "execution_count": 10
        },
        {
          "output_type": "display_data",
          "data": {
            "image/png": "[encoded data removed]",
            "text/plain": [
              "<Figure size 432x288 with 1 Axes>"
            ]
          },
          "metadata": {
            "needs_background": "light"
          }
        }
      ]
    }
  ]
}