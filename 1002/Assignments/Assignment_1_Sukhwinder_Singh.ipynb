{
  "nbformat": 4,
  "nbformat_minor": 0,
  "metadata": {
    "colab": {
      "name": "Assignment_1_Sukhwinder_Singh.ipynb",
      "provenance": [],
      "collapsed_sections": [],
      "mount_file_id": "1tUF336wgTo9smUlLCbf0Co_np_p41p6q",
      "authorship_tag": "ABX9TyMplA6GnCszIOl17PdnxCI0",
      "include_colab_link": true
    },
    "kernelspec": {
      "name": "python3",
      "display_name": "Python 3"
    },
    "language_info": {
      "name": "python"
    }
  },
  "cells": [
    {
      "cell_type": "markdown",
      "metadata": {
        "id": "view-in-github",
        "colab_type": "text"
      },
      "source": [
        "<a href=\"https://colab.research.google.com/github/Sukhi02/aa/blob/master/Assignment_1_Sukhwinder_Singh.ipynb\" target=\"_parent\"><img src=\"https://colab.research.google.com/assets/colab-badge.svg\" alt=\"Open In Colab\"/></a>"
      ]
    },
    {
      "cell_type": "markdown",
      "source": [
        "#Question 1\n"
      ],
      "metadata": {
        "id": "6cRomh9mQk7Q"
      }
    },
    {
      "cell_type": "markdown",
      "source": [
        "Consider the dataset ‘noisy_data.csv’ and apply the following pre-processing techniques and obtain the clean dataset.\n",
        "\n",
        "– Handling missing values by imputation (10 points)\n",
        "\n",
        "– Apply Normality tests to numerical columns and state the hypothesis clearly and comment on the normality of the data (10 points)\n",
        "\n",
        "– Apply encodings for categorical variable and scale the features (10 points)"
      ],
      "metadata": {
        "id": "aMSyWE6c_AOK"
      }
    },
    {
      "cell_type": "code",
      "execution_count": null,
      "metadata": {
        "colab": {
          "base_uri": "https://localhost:8080/"
        },
        "id": "oW0ArZ9y--7t",
        "outputId": "ede7e11e-b25a-4277-c4ca-b507a125f258"
      },
      "outputs": [
        {
          "output_type": "stream",
          "name": "stdout",
          "text": [
            "             Age        Income\n",
            "count   9.000000      9.000000\n",
            "mean   43.777778  76533.333333\n",
            "std     7.693793  14718.695594\n",
            "min    32.000000  57600.000000\n",
            "25%    40.000000  64800.000000\n",
            "50%    43.000000  73200.000000\n",
            "75%    49.000000  86400.000000\n",
            "max    55.000000  99600.000000\n",
            "\n",
            "[['India' 49.0 86400.0]\n",
            " ['Brazil' 32.0 57600.0]\n",
            " ['USA' 35.0 64800.0]\n",
            " ['Brazil' 43.0 73200.0]\n",
            " ['USA' 45.0 nan]\n",
            " ['India' 40.0 69600.0]\n",
            " ['Brazil' nan 62400.0]\n",
            " ['India' 53.0 94800.0]\n",
            " ['USA' 55.0 99600.0]\n",
            " ['India' 42.0 80400.0]]\n",
            "\n",
            "['No' 'Yes' 'No' 'No' 'Yes' 'Yes' 'No' 'Yes' 'No' 'Yes']\n"
          ]
        }
      ],
      "source": [
        "import pandas as pd\n",
        "import numpy as np\n",
        "path = \"/content/drive/MyDrive/AIDI/0002/noisy_data.csv\"\n",
        "data = pd.read_csv(path)\n",
        "\n",
        "print(data.describe())\n",
        "# importing an array of features\n",
        "x = data.iloc[:, :-1].values \n",
        "# importing an array of dependent variable\n",
        "y = data.iloc[:, -1].values\n",
        "print()\n",
        "print(x)\n",
        "print()\n",
        "print(y)"
      ]
    },
    {
      "cell_type": "markdown",
      "source": [
        "Handling missing values by imputation (10 points) "
      ],
      "metadata": {
        "id": "Fy5dGkJzFJ_p"
      }
    },
    {
      "cell_type": "code",
      "source": [
        "from sklearn.impute import SimpleImputer\n",
        "# To replace the missing value we create below object of SimpleImputer class\n",
        "imputar = SimpleImputer(missing_values = np.nan, strategy = 'mean')\n",
        "''' Using the fit method, we apply the `imputa` object on the matrix of our feature x.\n",
        "The `fit()` method identifies the missing values and computes the mean of such feature a missing value is present.\n",
        "'''\n",
        "print(\"Prior to fill Missing values\")\n",
        "print(x)\n",
        "print()\n",
        "imputar.fit(x[:, 1:3])\n",
        "# Repalcing the missing value using transform method\n",
        "x[:, 1:3] = imputar.transform(x[:, 1:3])\n",
        "print(\"After applying Impute() \")\n",
        "print(x)"
      ],
      "metadata": {
        "colab": {
          "base_uri": "https://localhost:8080/"
        },
        "id": "t09xIWmfChH0",
        "outputId": "904f0031-a141-4011-fff7-ca15e83d649c"
      },
      "execution_count": null,
      "outputs": [
        {
          "output_type": "stream",
          "name": "stdout",
          "text": [
            "Prior to fill Missing values\n",
            "[['India' 49.0 86400.0]\n",
            " ['Brazil' 32.0 57600.0]\n",
            " ['USA' 35.0 64800.0]\n",
            " ['Brazil' 43.0 73200.0]\n",
            " ['USA' 45.0 nan]\n",
            " ['India' 40.0 69600.0]\n",
            " ['Brazil' nan 62400.0]\n",
            " ['India' 53.0 94800.0]\n",
            " ['USA' 55.0 99600.0]\n",
            " ['India' 42.0 80400.0]]\n",
            "\n",
            "After applying Impute() \n",
            "[['India' 49.0 86400.0]\n",
            " ['Brazil' 32.0 57600.0]\n",
            " ['USA' 35.0 64800.0]\n",
            " ['Brazil' 43.0 73200.0]\n",
            " ['USA' 45.0 76533.33333333333]\n",
            " ['India' 40.0 69600.0]\n",
            " ['Brazil' 43.77777777777778 62400.0]\n",
            " ['India' 53.0 94800.0]\n",
            " ['USA' 55.0 99600.0]\n",
            " ['India' 42.0 80400.0]]\n"
          ]
        }
      ]
    },
    {
      "cell_type": "markdown",
      "source": [
        "\n",
        "Apply Normality tests to numerical columns and state the hypothesis clearly and comment on the normality of the data (10 points)"
      ],
      "metadata": {
        "id": "UsIzkmBzFPot"
      }
    },
    {
      "cell_type": "code",
      "source": [
        "def noraml_test(data):\n",
        "  from scipy.stats import normaltest\n",
        "\n",
        "  # normality test\n",
        "  stat, p_value = normaltest(data)\n",
        "  print('Statistics=%.3f, p=%.3f' % (stat, p_value))\n",
        "  # interpret\n",
        "  alpha = 0.05\n",
        "  if p_value<=alpha:\n",
        "    print('Sample looks Gaussian (fail to reject H0)')\n",
        "  else:\n",
        "    print('Sample does not look Gaussian (reject H0)')\n",
        "  print()\n",
        "\n",
        "\n",
        "noraml_test(x[:,1])\n",
        "noraml_test(x[:,2])"
      ],
      "metadata": {
        "colab": {
          "base_uri": "https://localhost:8080/"
        },
        "id": "GGh8vjp1GDYG",
        "outputId": "1cb86244-ed5c-4fd8-aee1-ad06eee4124f"
      },
      "execution_count": null,
      "outputs": [
        {
          "output_type": "stream",
          "name": "stdout",
          "text": [
            "Statistics=0.038, p=0.981\n",
            "Sample does not look Gaussian (reject H0)\n",
            "\n",
            "Statistics=0.705, p=0.703\n",
            "Sample does not look Gaussian (reject H0)\n",
            "\n"
          ]
        },
        {
          "output_type": "stream",
          "name": "stderr",
          "text": [
            "/usr/local/lib/python3.7/dist-packages/scipy/stats/stats.py:1535: UserWarning: kurtosistest only valid for n>=20 ... continuing anyway, n=10\n",
            "  \"anyway, n=%i\" % int(n))\n"
          ]
        }
      ]
    },
    {
      "cell_type": "markdown",
      "source": [
        "Apply encodings for categorical variable and scale the features"
      ],
      "metadata": {
        "id": "4mTMMbP8FThi"
      }
    },
    {
      "cell_type": "code",
      "source": [
        "from sklearn.compose import ColumnTransformer\n",
        "from sklearn.preprocessing import OneHotEncoder\n",
        "from sklearn.preprocessing import StandardScaler\n",
        "ct = ColumnTransformer(transformers=[('encoder', OneHotEncoder(), [0])], remainder= 'passthrough')\n",
        "print(\"Before Pre-processing\")\n",
        "print(x)\n",
        "x = np.array(ct.fit_transform(x))\n",
        "print()\n",
        "print(\"After Transformation\")\n",
        "print(x)\n",
        "print()\n",
        "x = x[:,1:]\n",
        "print(\"After Removing Dummy\")\n",
        "print(x)\n",
        "print()\n",
        "# define standard scaler\n",
        "scaler = StandardScaler()\n",
        "# transform data\n",
        "x = scaler.fit_transform(x)\n",
        "print(\"Cleaned Data\")\n",
        "print(x)"
      ],
      "metadata": {
        "colab": {
          "base_uri": "https://localhost:8080/"
        },
        "id": "3V5Em3yXKSjK",
        "outputId": "501ceb41-918c-4a9f-99a6-fe7404cfc027"
      },
      "execution_count": null,
      "outputs": [
        {
          "output_type": "stream",
          "name": "stdout",
          "text": [
            "Before Pre-processing\n",
            "[['India' 49.0 86400.0]\n",
            " ['Brazil' 32.0 57600.0]\n",
            " ['USA' 35.0 64800.0]\n",
            " ['Brazil' 43.0 73200.0]\n",
            " ['USA' 45.0 76533.33333333333]\n",
            " ['India' 40.0 69600.0]\n",
            " ['Brazil' 43.77777777777778 62400.0]\n",
            " ['India' 53.0 94800.0]\n",
            " ['USA' 55.0 99600.0]\n",
            " ['India' 42.0 80400.0]]\n",
            "\n",
            "After Transformation\n",
            "[[0.0 1.0 0.0 49.0 86400.0]\n",
            " [1.0 0.0 0.0 32.0 57600.0]\n",
            " [0.0 0.0 1.0 35.0 64800.0]\n",
            " [1.0 0.0 0.0 43.0 73200.0]\n",
            " [0.0 0.0 1.0 45.0 76533.33333333333]\n",
            " [0.0 1.0 0.0 40.0 69600.0]\n",
            " [1.0 0.0 0.0 43.77777777777778 62400.0]\n",
            " [0.0 1.0 0.0 53.0 94800.0]\n",
            " [0.0 0.0 1.0 55.0 99600.0]\n",
            " [0.0 1.0 0.0 42.0 80400.0]]\n",
            "\n",
            "After Removing Dummy\n",
            "[[1.0 0.0 49.0 86400.0]\n",
            " [0.0 0.0 32.0 57600.0]\n",
            " [0.0 1.0 35.0 64800.0]\n",
            " [0.0 0.0 43.0 73200.0]\n",
            " [0.0 1.0 45.0 76533.33333333333]\n",
            " [1.0 0.0 40.0 69600.0]\n",
            " [0.0 0.0 43.77777777777778 62400.0]\n",
            " [1.0 0.0 53.0 94800.0]\n",
            " [0.0 1.0 55.0 99600.0]\n",
            " [1.0 0.0 42.0 80400.0]]\n",
            "\n",
            "Cleaned Data\n",
            "[[ 1.22474487 -0.65465367  0.75887436  0.74947325]\n",
            " [-0.81649658 -0.65465367 -1.71150388 -1.43817841]\n",
            " [-0.81649658  1.52752523 -1.27555478 -0.89126549]\n",
            " [-0.81649658 -0.65465367 -0.11302384 -0.25320042]\n",
            " [-0.81649658  1.52752523  0.17760889  0.        ]\n",
            " [ 1.22474487 -0.65465367 -0.54897294 -0.52665688]\n",
            " [-0.81649658 -0.65465367  0.         -1.0735698 ]\n",
            " [ 1.22474487 -0.65465367  1.34013983  1.38753832]\n",
            " [-0.81649658  1.52752523  1.63077256  1.75214693]\n",
            " [ 1.22474487 -0.65465367 -0.25834021  0.29371249]]\n"
          ]
        }
      ]
    },
    {
      "cell_type": "code",
      "source": [
        ""
      ],
      "metadata": {
        "id": "keCFu2yCQsQh"
      },
      "execution_count": null,
      "outputs": []
    },
    {
      "cell_type": "markdown",
      "source": [
        "#Question 2"
      ],
      "metadata": {
        "id": "3yMKPhexRCCx"
      }
    },
    {
      "cell_type": "markdown",
      "source": [
        "Consider the text present in the file ‘wiki.txt’ and Answer the following questions :\n",
        "\n",
        "– Write a program to convert following text into tokens with two tokenization methods such as ‘RegexpTokenizer()’ and ‘word_tokenize()’ from NLTk library. (Note :The tokens should not have stop words and punctuation symbols. Feel free to decide about the correct list of stop words; e.g., negative words (don’t) could be important for you.\n",
        "Execute both methods of tokenization along with your code of removing stop words and punctuation.) (10 points)\n",
        "\n",
        "– Write a regular expression to extract all the year mentions in the ‘wiki.txt’ file. (10 points)\n",
        "\n",
        "– State the differences observed in the output of tokenization met\n"
      ],
      "metadata": {
        "id": "VSj98SgJRPB2"
      }
    },
    {
      "cell_type": "code",
      "source": [
        "path = \"/content/drive/MyDrive/AIDI/0002/wiki.txt\"\n",
        "f = open(path, 'r')\n",
        "content = f.read()\n",
        "f.close()\n",
        "print(content)\n"
      ],
      "metadata": {
        "colab": {
          "base_uri": "https://localhost:8080/"
        },
        "id": "qWXJoFXxTHcb",
        "outputId": "d1fc05ad-d5b1-4c3c-b3da-6e6481981e9d"
      },
      "execution_count": null,
      "outputs": [
        {
          "output_type": "stream",
          "name": "stdout",
          "text": [
            "The history of NLP generally started in the 1950s, although work can be found from earlier periods. In 1950, Alan Turing published an article titled \"Computing Machinery and Intelligence\" which proposed what is now called the Turing test as a criterion of intelligence.\n",
            "\n",
            "The Georgetown experiment in 1954 involved fully automatic translation of more than sixty Russian sentences into English. The authors claimed that within three or five years, machine translation would be a solved problem.[2] However, real progress was much slower, and after the ALPAC report in 1966, which found that ten-year-long research had failed to fulfill the expectations, funding for machine translation was dramatically reduced. Little further research in machine translation was conducted until the late 1980s, when the first statistical machine translation systems were developed.\n",
            "\n",
            "Some notably successful NLP systems developed in the 1960s were SHRDLU, a natural-language system working in restricted \"blocks worlds\" with restricted vocabularies, and ELIZA, a simulation of a Rogerian psychotherapist, written by Joseph Weizenbaum between 1964 and 1966. Using almost no information about human thought or emotion, ELIZA sometimes provided a startlingly human-like interaction. When the \"patient\" exceeded the very small knowledge base, ELIZA might provide a generic response, for example, responding to \"My head hurts\" with \"Why do you say your head hurts?\".\n"
          ]
        }
      ]
    },
    {
      "cell_type": "markdown",
      "source": [
        "\n",
        "– Write a program to convert following text into tokens with two tokenization methods such as ‘RegexpTokenizer()’ and ‘word_tokenize()’ from NLTk library. (Note :The tokens should not have stop words and punctuation symbols. Feel free to decide about the correct list of stop words; e.g., negative words (don’t) coul\n",
        "d be important for you.\n",
        "Execute both methods of tokenization along with your code of removing stop words and punctuation.) (10 points)"
      ],
      "metadata": {
        "id": "T-pz4MnvRgbq"
      }
    },
    {
      "cell_type": "code",
      "source": [
        "import nltk\n",
        "nltk.download('punkt')\n",
        "nltk.download('stopwords')\n",
        "from nltk.tokenize import word_tokenize\n",
        "from nltk.tokenize import RegexpTokenizer\n",
        "from nltk.corpus import stopwords\n",
        "from nltk.corpus import stopwords\n",
        "\n",
        "\n",
        "#remove stopwords\n",
        "stop_words = set(stopwords.words('english'))\n",
        "my_stopwords = \"i\", \"me\", \"my\", \"myself\", \"we\", \"our\", \"ours\", \"ourselves\", \"you\", \"your\", \"yours\", \"yourself\", \"yourselves\", \"he\", \"him\", \"his\", \"himself\", \"she\", \"her\", \"hers\", \"herself\", \"it\", \"its\", \"itself\", \"they\", \"them\", \"their\", \"theirs\", \"themselves\", \"what\", \"which\", \"who\", \"whom\", \"this\", \"that\", \"these\", \"those\", \"am\", \"is\", \"are\", \"was\", \"were\", \"be\", \"been\", \"being\", \"have\", \"has\", \"had\", \"having\", \"do\", \"does\", \"did\", \"doing\", \"a\", \"an\", \"the\", \"and\", \"but\", \"if\", \"or\", \"because\", \"as\", \"until\", \"while\", \"of\", \"at\", \"by\", \"for\", \"with\", \"about\", \"against\", \"between\", \"into\", \"through\", \"during\", \"before\", \"after\", \"above\", \"below\", \"to\", \"from\", \"up\", \"down\", \"in\", \"out\", \"on\", \"off\", \"over\", \"under\", \"again\", \"further\", \"then\", \"once\", \"here\", \"there\", \"when\", \"where\", \"why\", \"how\", \"all\", \"any\", \"both\", \"each\", \"few\", \"more\", \"most\", \"other\", \"some\", \"such\", \"no\", \"nor\", \"not\", \"only\", \"own\", \"same\", \"so\", \"than\", \"too\", \"very\", \"s\", \"t\", \"can\", \"will\", \"just\", \"don\", \"should\", \"now\",\"?\",\" \",\".\",\",\"\n",
        "stop_words.add(my_stopwords)\n",
        "print(content)\n",
        "text_tokens = word_tokenize(content)\n",
        "tokens_without_sw = [word for word in text_tokens if not word in stopwords.words()]\n",
        "tokenizer = nltk.RegexpTokenizer(r\"\\w+\")\n",
        "\n",
        "new_words = tokenizer.tokenize(content)\n",
        "print(content)\n",
        "\n",
        "print()\n",
        "number_of_words = len(content)\n",
        "print(\"1. Initiaaly there are \" +str(number_of_words)+\" alphanumeric\")\n",
        "number_of_words = len(tokens_without_sw)\n",
        "print(\"2. After processing there are \" +str(number_of_words)+\" alphanumeric remaining\")\n",
        "print(\"\\n \\n \")\n",
        "\n",
        "capword_tokenizer = RegexpTokenizer('[A-Z]\\w+')\n",
        "print(capword_tokenizer.tokenize(content))\n",
        "tokenizer = RegexpTokenizer('\\s+', gaps=True)\n",
        "print(tokenizer.tokenize(content))\n",
        "\n",
        "\n",
        "\n",
        "\n"
      ],
      "metadata": {
        "colab": {
          "base_uri": "https://localhost:8080/"
        },
        "id": "Ip38NwBthbaB",
        "outputId": "ae81272b-75e5-4397-80a2-51b90a8e66fc"
      },
      "execution_count": null,
      "outputs": [
        {
          "output_type": "stream",
          "name": "stdout",
          "text": [
            "[nltk_data] Downloading package punkt to /root/nltk_data...\n",
            "[nltk_data]   Unzipping tokenizers/punkt.zip.\n",
            "[nltk_data] Downloading package stopwords to /root/nltk_data...\n",
            "[nltk_data]   Unzipping corpora/stopwords.zip.\n",
            "The history of NLP generally started in the 1950s, although work can be found from earlier periods. In 1950, Alan Turing published an article titled \"Computing Machinery and Intelligence\" which proposed what is now called the Turing test as a criterion of intelligence.\n",
            "\n",
            "The Georgetown experiment in 1954 involved fully automatic translation of more than sixty Russian sentences into English. The authors claimed that within three or five years, machine translation would be a solved problem.[2] However, real progress was much slower, and after the ALPAC report in 1966, which found that ten-year-long research had failed to fulfill the expectations, funding for machine translation was dramatically reduced. Little further research in machine translation was conducted until the late 1980s, when the first statistical machine translation systems were developed.\n",
            "\n",
            "Some notably successful NLP systems developed in the 1960s were SHRDLU, a natural-language system working in restricted \"blocks worlds\" with restricted vocabularies, and ELIZA, a simulation of a Rogerian psychotherapist, written by Joseph Weizenbaum between 1964 and 1966. Using almost no information about human thought or emotion, ELIZA sometimes provided a startlingly human-like interaction. When the \"patient\" exceeded the very small knowledge base, ELIZA might provide a generic response, for example, responding to \"My head hurts\" with \"Why do you say your head hurts?\".\n",
            "The history of NLP generally started in the 1950s, although work can be found from earlier periods. In 1950, Alan Turing published an article titled \"Computing Machinery and Intelligence\" which proposed what is now called the Turing test as a criterion of intelligence.\n",
            "\n",
            "The Georgetown experiment in 1954 involved fully automatic translation of more than sixty Russian sentences into English. The authors claimed that within three or five years, machine translation would be a solved problem.[2] However, real progress was much slower, and after the ALPAC report in 1966, which found that ten-year-long research had failed to fulfill the expectations, funding for machine translation was dramatically reduced. Little further research in machine translation was conducted until the late 1980s, when the first statistical machine translation systems were developed.\n",
            "\n",
            "Some notably successful NLP systems developed in the 1960s were SHRDLU, a natural-language system working in restricted \"blocks worlds\" with restricted vocabularies, and ELIZA, a simulation of a Rogerian psychotherapist, written by Joseph Weizenbaum between 1964 and 1966. Using almost no information about human thought or emotion, ELIZA sometimes provided a startlingly human-like interaction. When the \"patient\" exceeded the very small knowledge base, ELIZA might provide a generic response, for example, responding to \"My head hurts\" with \"Why do you say your head hurts?\".\n",
            "\n",
            "1. Initiaaly there are 1442 alphanumeric\n",
            "2. After processing there are 179 alphanumeric remaining\n",
            "\n",
            " \n",
            " \n",
            "['The', 'NLP', 'In', 'Alan', 'Turing', 'Computing', 'Machinery', 'Intelligence', 'Turing', 'The', 'Georgetown', 'Russian', 'English', 'The', 'However', 'ALPAC', 'Little', 'Some', 'NLP', 'SHRDLU', 'ELIZA', 'Rogerian', 'Joseph', 'Weizenbaum', 'Using', 'ELIZA', 'When', 'ELIZA', 'My', 'Why']\n",
            "['The', 'history', 'of', 'NLP', 'generally', 'started', 'in', 'the', '1950s,', 'although', 'work', 'can', 'be', 'found', 'from', 'earlier', 'periods.', 'In', '1950,', 'Alan', 'Turing', 'published', 'an', 'article', 'titled', '\"Computing', 'Machinery', 'and', 'Intelligence\"', 'which', 'proposed', 'what', 'is', 'now', 'called', 'the', 'Turing', 'test', 'as', 'a', 'criterion', 'of', 'intelligence.', 'The', 'Georgetown', 'experiment', 'in', '1954', 'involved', 'fully', 'automatic', 'translation', 'of', 'more', 'than', 'sixty', 'Russian', 'sentences', 'into', 'English.', 'The', 'authors', 'claimed', 'that', 'within', 'three', 'or', 'five', 'years,', 'machine', 'translation', 'would', 'be', 'a', 'solved', 'problem.[2]', 'However,', 'real', 'progress', 'was', 'much', 'slower,', 'and', 'after', 'the', 'ALPAC', 'report', 'in', '1966,', 'which', 'found', 'that', 'ten-year-long', 'research', 'had', 'failed', 'to', 'fulfill', 'the', 'expectations,', 'funding', 'for', 'machine', 'translation', 'was', 'dramatically', 'reduced.', 'Little', 'further', 'research', 'in', 'machine', 'translation', 'was', 'conducted', 'until', 'the', 'late', '1980s,', 'when', 'the', 'first', 'statistical', 'machine', 'translation', 'systems', 'were', 'developed.', 'Some', 'notably', 'successful', 'NLP', 'systems', 'developed', 'in', 'the', '1960s', 'were', 'SHRDLU,', 'a', 'natural-language', 'system', 'working', 'in', 'restricted', '\"blocks', 'worlds\"', 'with', 'restricted', 'vocabularies,', 'and', 'ELIZA,', 'a', 'simulation', 'of', 'a', 'Rogerian', 'psychotherapist,', 'written', 'by', 'Joseph', 'Weizenbaum', 'between', '1964', 'and', '1966.', 'Using', 'almost', 'no', 'information', 'about', 'human', 'thought', 'or', 'emotion,', 'ELIZA', 'sometimes', 'provided', 'a', 'startlingly', 'human-like', 'interaction.', 'When', 'the', '\"patient\"', 'exceeded', 'the', 'very', 'small', 'knowledge', 'base,', 'ELIZA', 'might', 'provide', 'a', 'generic', 'response,', 'for', 'example,', 'responding', 'to', '\"My', 'head', 'hurts\"', 'with', '\"Why', 'do', 'you', 'say', 'your', 'head', 'hurts?\".']\n"
          ]
        }
      ]
    },
    {
      "cell_type": "markdown",
      "source": [
        "– Write a regular expression to extract all the year mentions in the ‘wiki.txt’ file. (10 points)"
      ],
      "metadata": {
        "id": "kqfuI3QWczhZ"
      }
    },
    {
      "cell_type": "code",
      "source": [
        "import re\n",
        "listt = []\n",
        "for line in re.findall(\"\\d{3}[a-zA-Z0-9_]\", content):\n",
        "    listt.append(line)\n",
        "    print(line)\n",
        "print(\"Mentioned years in the wiki files are \" + str(listt))"
      ],
      "metadata": {
        "colab": {
          "base_uri": "https://localhost:8080/"
        },
        "id": "b2m-vb_wXJEx",
        "outputId": "b4ab527b-6fc5-4385-d727-a9aad4074796"
      },
      "execution_count": null,
      "outputs": [
        {
          "output_type": "stream",
          "name": "stdout",
          "text": [
            "1950\n",
            "1950\n",
            "1954\n",
            "1966\n",
            "1980\n",
            "1960\n",
            "1964\n",
            "1966\n",
            "Mentioned years in the wiki files are ['1950', '1950', '1954', '1966', '1980', '1960', '1964', '1966']\n"
          ]
        }
      ]
    },
    {
      "cell_type": "markdown",
      "source": [
        "– State the differences observed in the output of tokenization met\n"
      ],
      "metadata": {
        "id": "jUakpnAOc1GU"
      }
    },
    {
      "cell_type": "code",
      "source": [
        "number_of_words = len(content)\n",
        "print(\"1. Initiaaly there are \" +str(number_of_words)+\" alphanumeric\")\n",
        "number_of_words = len(tokens_without_sw)\n",
        "print(\"2. After processing there are \" +str(number_of_words)+\" alphanumeric remaining\")"
      ],
      "metadata": {
        "colab": {
          "base_uri": "https://localhost:8080/"
        },
        "id": "t55A_HdcdFxr",
        "outputId": "3993ec28-04dc-4317-fcad-a071fc7b8fe5"
      },
      "execution_count": null,
      "outputs": [
        {
          "output_type": "stream",
          "name": "stdout",
          "text": [
            "1. Initiaaly there are 1442 alphanumeric\n",
            "2. After processing there are 179 alphanumeric remaining\n"
          ]
        }
      ]
    },
    {
      "cell_type": "markdown",
      "source": [
        "#Question 3"
      ],
      "metadata": {
        "id": "isdJGfzOrijK"
      }
    },
    {
      "cell_type": "markdown",
      "source": [
        "Consider this dataset from kaggle. (Download the dataset from following link : https://www.kaggle.com/dansbecker/\n",
        "melbourne-housing-snapshot/home) and answer the following questions :\n",
        "\n",
        "– Apply the feature selection techniques over the melbourne-housing -dataset namely (20 points):\n",
        "\n",
        "∗ Correlation\n",
        "\n",
        "∗ Chi-Square\n",
        "\n",
        "∗ Mutual-Information\n",
        "\n",
        "∗ Random Forest feature importance\n",
        "\n",
        "– Compare the importance of selected features using bar chart (10 points)\n",
        "\n",
        "– Comment on the results obtained from various feature selection techniques and which is the best and worst feature selection selection technique on the given dataset (10 points).\n"
      ],
      "metadata": {
        "id": "-X1527aormOt"
      }
    },
    {
      "cell_type": "code",
      "source": [
        ""
      ],
      "metadata": {
        "id": "o8z9D_YMBk-B"
      },
      "execution_count": null,
      "outputs": []
    },
    {
      "cell_type": "code",
      "source": [
        "import pandas as pd\n",
        "from sklearn.model_selection import train_test_split\n",
        "import matplotlib.pyplot as plt\n",
        "import seaborn as sns\n",
        "path = \"/content/drive/MyDrive/AIDI/0002/melb_data.csv\"\n",
        "data = pd.read_csv(path)\n",
        "data = data.dropna( )"
      ],
      "metadata": {
        "id": "JXbXqJ_mFdeC"
      },
      "execution_count": null,
      "outputs": []
    },
    {
      "cell_type": "markdown",
      "source": [
        "## Visualisation"
      ],
      "metadata": {
        "id": "jtt9m2kiPvlR"
      }
    },
    {
      "cell_type": "markdown",
      "source": [
        "1. Visualising the relationship btween Suburb and prices."
      ],
      "metadata": {
        "id": "SZlaSGgUF2zm"
      }
    },
    {
      "cell_type": "code",
      "source": [
        "sns.countplot(x=data[\"Suburb\"], data=data[\"Price\"])"
      ],
      "metadata": {
        "id": "G-wYw06TFggy",
        "colab": {
          "base_uri": "https://localhost:8080/",
          "height": 299
        },
        "outputId": "0f028db7-3383-4dbc-df12-cfc413cf7fcb"
      },
      "execution_count": null,
      "outputs": [
        {
          "output_type": "execute_result",
          "data": {
            "text/plain": [
              "<matplotlib.axes._subplots.AxesSubplot at 0x7f22c1545810>"
            ]
          },
          "metadata": {},
          "execution_count": 10
        },
        {
          "output_type": "display_data",
          "data": {
            "image/png": "[encoded data removed]",
            "text/plain": [
              "<Figure size 432x288 with 1 Axes>"
            ]
          },
          "metadata": {
            "needs_background": "light"
          }
        }
      ]
    },
    {
      "cell_type": "markdown",
      "source": [
        "Variable 2: Room vs Price"
      ],
      "metadata": {
        "id": "QmlN1VV5ITcJ"
      }
    },
    {
      "cell_type": "code",
      "source": [
        "#Price- Remove Rows containing missing values\n",
        "df = data\n",
        "df_nobed= data[data[\"Rooms\"].notnull()]\n",
        "sns.factorplot(x=\"Rooms\", y=\"Price\",  data=df_nobed, kind=\"bar\")\n",
        "#sns.factorplot(x=\"Bedroom2\", y=\"Price\",  data=df_nobed, kind=\"bar\",ax = ax2)\n",
        "plt.show()"
      ],
      "metadata": {
        "id": "5UOvREnaGAeH",
        "colab": {
          "base_uri": "https://localhost:8080/",
          "height": 424
        },
        "outputId": "b1e29d2d-b34d-4a0e-f2a3-4f77eb570189"
      },
      "execution_count": null,
      "outputs": [
        {
          "output_type": "stream",
          "name": "stderr",
          "text": [
            "/usr/local/lib/python3.7/dist-packages/seaborn/categorical.py:3717: UserWarning: The `factorplot` function has been renamed to `catplot`. The original name will be removed in a future release. Please update your code. Note that the default `kind` in `factorplot` (`'point'`) has changed `'strip'` in `catplot`.\n",
            "  warnings.warn(msg)\n"
          ]
        },
        {
          "output_type": "display_data",
          "data": {
            "image/png": "[encoded data removed]",
            "text/plain": [
              "<Figure size 360x360 with 1 Axes>"
            ]
          },
          "metadata": {
            "needs_background": "light"
          }
        }
      ]
    },
    {
      "cell_type": "markdown",
      "source": [
        "Variable 3: Type vs Price"
      ],
      "metadata": {
        "id": "deG79RugI2FW"
      }
    },
    {
      "cell_type": "code",
      "source": [
        "import matplotlib.pyplot as plt\n",
        "fig, ax =plt.subplots(0,2)\n",
        "\n",
        "#facet = sns.lmplot(data=df, x='Rooms', y='Price', hue='Regionname', fit_reg=False, legend=True, legend_out=True)\n",
        "facet = sns.lmplot(data=data, x='Bedroom2', y='Price', hue='Type', fit_reg=False, legend=True, legend_out=True)\n",
        "fig.show()\n",
        "\n",
        "df.loc[df.Bathroom.isnull(), 'Bathroom']  = df.groupby('Rooms')['Bathroom'].transform(lambda x: x.fillna(x.mean()))\n",
        "df.head()\n",
        "df.loc[df.Car.isnull(), 'Car']  = df.groupby('Type')['Car'].transform(lambda x: x.fillna(x.mean()))\n",
        "df.loc[df.Landsize.isnull(), 'Landsize']  = df.groupby('Type')['Landsize'].transform(lambda x: x.fillna(x.mean()))\n",
        "\n",
        "#RegionName, Council Area, Property count- two rows which have all of these values as missing. No way to determine the values\n",
        "df=df[df.Regionname.notnull()]"
      ],
      "metadata": {
        "id": "CPzCFFO2IupJ",
        "colab": {
          "base_uri": "https://localhost:8080/",
          "height": 441
        },
        "outputId": "49bc4557-8437-44fa-be0a-6c16f0f96222"
      },
      "execution_count": null,
      "outputs": [
        {
          "output_type": "stream",
          "name": "stderr",
          "text": [
            "/usr/local/lib/python3.7/dist-packages/seaborn/regression.py:592: UserWarning: legend_out is deprecated from the `lmplot` function signature. Please update your code to pass it using `facet_kws`.\n",
            "  warnings.warn(msg, UserWarning)\n"
          ]
        },
        {
          "output_type": "display_data",
          "data": {
            "text/plain": [
              "<Figure size 432x288 with 0 Axes>"
            ]
          },
          "metadata": {}
        },
        {
          "output_type": "display_data",
          "data": {
            "image/png": "[encoded data removed]",
            "text/plain": [
              "<Figure size 402.375x360 with 1 Axes>"
            ]
          },
          "metadata": {
            "needs_background": "light"
          }
        }
      ]
    },
    {
      "cell_type": "markdown",
      "source": [
        "Variable 4: Method vs Price"
      ],
      "metadata": {
        "id": "LcX01urbJBjS"
      }
    },
    {
      "cell_type": "code",
      "source": [
        "sns.factorplot(x=\"Type\", y=\"Price\", hue=\"Method\", data=df, kind=\"bar\");\n",
        "df.groupby('Regionname', as_index=False).agg({\"Price\": \"mean\"})\n",
        "b=sns.boxplot(x=\"Regionname\", y=\"Price\", data=df, dodge=False);\n",
        "b.axes.set_title(\"Region Wise Prices\",fontsize=10)\n",
        "b.set_xlabel(\"Region\",fontsize=10)\n",
        "b.set_ylabel(\"Price\",fontsize=10)\n",
        "b.tick_params(labelsize=10)"
      ],
      "metadata": {
        "id": "JuYt10iArvF5",
        "colab": {
          "base_uri": "https://localhost:8080/",
          "height": 427
        },
        "outputId": "c4842855-450e-4f1b-faa8-7c562e02e632"
      },
      "execution_count": null,
      "outputs": [
        {
          "output_type": "stream",
          "name": "stderr",
          "text": [
            "/usr/local/lib/python3.7/dist-packages/seaborn/categorical.py:3717: UserWarning: The `factorplot` function has been renamed to `catplot`. The original name will be removed in a future release. Please update your code. Note that the default `kind` in `factorplot` (`'point'`) has changed `'strip'` in `catplot`.\n",
            "  warnings.warn(msg)\n"
          ]
        },
        {
          "output_type": "display_data",
          "data": {
            "image/png": "[encoded data removed]",
            "text/plain": [
              "<Figure size 409.75x360 with 1 Axes>"
            ]
          },
          "metadata": {
            "needs_background": "light"
          }
        }
      ]
    },
    {
      "cell_type": "markdown",
      "source": [
        "Variable 5: SellerG vs Car, and Room "
      ],
      "metadata": {
        "id": "Vv4jOQEVJ4R-"
      }
    },
    {
      "cell_type": "code",
      "source": [
        "df.groupby('Regionname')[['SellerG']].count()\n",
        "df.groupby('Regionname', as_index=False).agg({\"Car\": \"mean\",\"Price\": \"mean\",\"Rooms\": \"mean\"})\n",
        "# Group the data frame by month and item and extract a number of stats from each group\n",
        "df.groupby(['Regionname']).agg({'Rooms':\"mean\",      # find the sum of the durations for each group\n",
        "                                     'SellerG': \"count\" # find the number of network type entries\n",
        "                                     })    # get the first date per group"
      ],
      "metadata": {
        "id": "Io5-ndxyI-ne",
        "colab": {
          "base_uri": "https://localhost:8080/",
          "height": 331
        },
        "outputId": "9130a56d-23bd-4320-b669-61abe9331bc6"
      },
      "execution_count": null,
      "outputs": [
        {
          "output_type": "execute_result",
          "data": {
            "text/html": [
              "\n",
              "  <div id=\"df-24764cb0-bb70-4971-8111-cca5931526a3\">\n",
              "    <div class=\"colab-df-container\">\n",
              "      <div>\n",
              "<style scoped>\n",
              "    .dataframe tbody tr th:only-of-type {\n",
              "        vertical-align: middle;\n",
              "    }\n",
              "\n",
              "    .dataframe tbody tr th {\n",
              "        vertical-align: top;\n",
              "    }\n",
              "\n",
              "    .dataframe thead th {\n",
              "        text-align: right;\n",
              "    }\n",
              "</style>\n",
              "<table border=\"1\" class=\"dataframe\">\n",
              "  <thead>\n",
              "    <tr style=\"text-align: right;\">\n",
              "      <th></th>\n",
              "      <th>Rooms</th>\n",
              "      <th>SellerG</th>\n",
              "    </tr>\n",
              "    <tr>\n",
              "      <th>Regionname</th>\n",
              "      <th></th>\n",
              "      <th></th>\n",
              "    </tr>\n",
              "  </thead>\n",
              "  <tbody>\n",
              "    <tr>\n",
              "      <th>Eastern Metropolitan</th>\n",
              "      <td>3.327496</td>\n",
              "      <td>571</td>\n",
              "    </tr>\n",
              "    <tr>\n",
              "      <th>Eastern Victoria</th>\n",
              "      <td>3.478261</td>\n",
              "      <td>23</td>\n",
              "    </tr>\n",
              "    <tr>\n",
              "      <th>Northern Metropolitan</th>\n",
              "      <td>2.714132</td>\n",
              "      <td>1854</td>\n",
              "    </tr>\n",
              "    <tr>\n",
              "      <th>Northern Victoria</th>\n",
              "      <td>3.473684</td>\n",
              "      <td>19</td>\n",
              "    </tr>\n",
              "    <tr>\n",
              "      <th>South-Eastern Metropolitan</th>\n",
              "      <td>3.369427</td>\n",
              "      <td>157</td>\n",
              "    </tr>\n",
              "    <tr>\n",
              "      <th>Southern Metropolitan</th>\n",
              "      <td>2.897969</td>\n",
              "      <td>2166</td>\n",
              "    </tr>\n",
              "    <tr>\n",
              "      <th>Western Metropolitan</th>\n",
              "      <td>3.038075</td>\n",
              "      <td>1392</td>\n",
              "    </tr>\n",
              "    <tr>\n",
              "      <th>Western Victoria</th>\n",
              "      <td>3.571429</td>\n",
              "      <td>14</td>\n",
              "    </tr>\n",
              "  </tbody>\n",
              "</table>\n",
              "</div>\n",
              "      <button class=\"colab-df-convert\" onclick=\"convertToInteractive('df-24764cb0-bb70-4971-8111-cca5931526a3')\"\n",
              "              title=\"Convert this dataframe to an interactive table.\"\n",
              "              style=\"display:none;\">\n",
              "        \n",
              "  <svg xmlns=\"http://www.w3.org/2000/svg\" height=\"24px\"viewBox=\"0 0 24 24\"\n",
              "       width=\"24px\">\n",
              "    <path d=\"M0 0h24v24H0V0z\" fill=\"none\"/>\n",
              "    <path d=\"M18.56 5.44l.94 2.06.94-2.06 2.06-.94-2.06-.94-.94-2.06-.94 2.06-2.06.94zm-11 1L8.5 8.5l.94-2.06 2.06-.94-2.06-.94L8.5 2.5l-.94 2.06-2.06.94zm10 10l.94 2.06.94-2.06 2.06-.94-2.06-.94-.94-2.06-.94 2.06-2.06.94z\"/><path d=\"M17.41 7.96l-1.37-1.37c-.4-.4-.92-.59-1.43-.59-.52 0-1.04.2-1.43.59L10.3 9.45l-7.72 7.72c-.78.78-.78 2.05 0 2.83L4 21.41c.39.39.9.59 1.41.59.51 0 1.02-.2 1.41-.59l7.78-7.78 2.81-2.81c.8-.78.8-2.07 0-2.86zM5.41 20L4 18.59l7.72-7.72 1.47 1.35L5.41 20z\"/>\n",
              "  </svg>\n",
              "      </button>\n",
              "      \n",
              "  <style>\n",
              "    .colab-df-container {\n",
              "      display:flex;\n",
              "      flex-wrap:wrap;\n",
              "      gap: 12px;\n",
              "    }\n",
              "\n",
              "    .colab-df-convert {\n",
              "      background-color: #E8F0FE;\n",
              "      border: none;\n",
              "      border-radius: 50%;\n",
              "      cursor: pointer;\n",
              "      display: none;\n",
              "      fill: #1967D2;\n",
              "      height: 32px;\n",
              "      padding: 0 0 0 0;\n",
              "      width: 32px;\n",
              "    }\n",
              "\n",
              "    .colab-df-convert:hover {\n",
              "      background-color: #E2EBFA;\n",
              "      box-shadow: 0px 1px 2px rgba(60, 64, 67, 0.3), 0px 1px 3px 1px rgba(60, 64, 67, 0.15);\n",
              "      fill: #174EA6;\n",
              "    }\n",
              "\n",
              "    [theme=dark] .colab-df-convert {\n",
              "      background-color: #3B4455;\n",
              "      fill: #D2E3FC;\n",
              "    }\n",
              "\n",
              "    [theme=dark] .colab-df-convert:hover {\n",
              "      background-color: #434B5C;\n",
              "      box-shadow: 0px 1px 3px 1px rgba(0, 0, 0, 0.15);\n",
              "      filter: drop-shadow(0px 1px 2px rgba(0, 0, 0, 0.3));\n",
              "      fill: #FFFFFF;\n",
              "    }\n",
              "  </style>\n",
              "\n",
              "      <script>\n",
              "        const buttonEl =\n",
              "          document.querySelector('#df-24764cb0-bb70-4971-8111-cca5931526a3 button.colab-df-convert');\n",
              "        buttonEl.style.display =\n",
              "          google.colab.kernel.accessAllowed ? 'block' : 'none';\n",
              "\n",
              "        async function convertToInteractive(key) {\n",
              "          const element = document.querySelector('#df-24764cb0-bb70-4971-8111-cca5931526a3');\n",
              "          const dataTable =\n",
              "            await google.colab.kernel.invokeFunction('convertToInteractive',\n",
              "                                                     [key], {});\n",
              "          if (!dataTable) return;\n",
              "\n",
              "          const docLinkHtml = 'Like what you see? Visit the ' +\n",
              "            '<a target=\"_blank\" href=https://colab.research.google.com/notebooks/data_table.ipynb>data table notebook</a>'\n",
              "            + ' to learn more about interactive tables.';\n",
              "          element.innerHTML = '';\n",
              "          dataTable['output_type'] = 'display_data';\n",
              "          await google.colab.output.renderOutput(dataTable, element);\n",
              "          const docLink = document.createElement('div');\n",
              "          docLink.innerHTML = docLinkHtml;\n",
              "          element.appendChild(docLink);\n",
              "        }\n",
              "      </script>\n",
              "    </div>\n",
              "  </div>\n",
              "  "
            ],
            "text/plain": [
              "                               Rooms  SellerG\n",
              "Regionname                                   \n",
              "Eastern Metropolitan        3.327496      571\n",
              "Eastern Victoria            3.478261       23\n",
              "Northern Metropolitan       2.714132     1854\n",
              "Northern Victoria           3.473684       19\n",
              "South-Eastern Metropolitan  3.369427      157\n",
              "Southern Metropolitan       2.897969     2166\n",
              "Western Metropolitan        3.038075     1392\n",
              "Western Victoria            3.571429       14"
            ]
          },
          "metadata": {},
          "execution_count": 14
        }
      ]
    },
    {
      "cell_type": "markdown",
      "source": [
        "Variable 6: Bedroom2 vs Price"
      ],
      "metadata": {
        "id": "uYR9zB0vPBbu"
      }
    },
    {
      "cell_type": "code",
      "source": [
        "#Price- Remove Rows containing missing values\n",
        "df = data\n",
        "df_nobed= data[data[\"Bedroom2\"].notnull()]\n",
        "sns.factorplot(x=\"Bedroom2\", y=\"Price\",  data=df_nobed, kind=\"bar\")\n",
        "plt.show()"
      ],
      "metadata": {
        "id": "I1Pbkd7ONdLu",
        "colab": {
          "base_uri": "https://localhost:8080/",
          "height": 424
        },
        "outputId": "92aa4038-ddbb-474c-a7e5-6f90b796d85c"
      },
      "execution_count": null,
      "outputs": [
        {
          "output_type": "stream",
          "name": "stderr",
          "text": [
            "/usr/local/lib/python3.7/dist-packages/seaborn/categorical.py:3717: UserWarning: The `factorplot` function has been renamed to `catplot`. The original name will be removed in a future release. Please update your code. Note that the default `kind` in `factorplot` (`'point'`) has changed `'strip'` in `catplot`.\n",
            "  warnings.warn(msg)\n"
          ]
        },
        {
          "output_type": "display_data",
          "data": {
            "image/png": "[encoded data removed]",
            "text/plain": [
              "<Figure size 360x360 with 1 Axes>"
            ]
          },
          "metadata": {
            "needs_background": "light"
          }
        }
      ]
    },
    {
      "cell_type": "markdown",
      "source": [
        "Variable 7: Bathroom vs house"
      ],
      "metadata": {
        "id": "Cq0sAQwrPH1E"
      }
    },
    {
      "cell_type": "code",
      "source": [
        "df_b=df[df.Bathroom.notnull()]\n",
        "df['Bathroom'] = df['Bathroom'].apply(lambda x: round(x))\n",
        "df['Car'] = df['Car'].apply(lambda x: round(x))\n",
        "sns.factorplot(x=\"Bathroom\", y=\"Price\",  data=df_nobed, kind=\"bar\")\n",
        "plt.show()"
      ],
      "metadata": {
        "id": "pE6zxMthJs5O",
        "colab": {
          "base_uri": "https://localhost:8080/",
          "height": 424
        },
        "outputId": "009af46a-1294-4b85-c7ce-545c40e518bc"
      },
      "execution_count": null,
      "outputs": [
        {
          "output_type": "stream",
          "name": "stderr",
          "text": [
            "/usr/local/lib/python3.7/dist-packages/seaborn/categorical.py:3717: UserWarning: The `factorplot` function has been renamed to `catplot`. The original name will be removed in a future release. Please update your code. Note that the default `kind` in `factorplot` (`'point'`) has changed `'strip'` in `catplot`.\n",
            "  warnings.warn(msg)\n"
          ]
        },
        {
          "output_type": "display_data",
          "data": {
            "image/png": "[encoded data removed]",
            "text/plain": [
              "<Figure size 360x360 with 1 Axes>"
            ]
          },
          "metadata": {
            "needs_background": "light"
          }
        }
      ]
    },
    {
      "cell_type": "markdown",
      "source": [
        "Relationship between BuildingArea, Longtitude, Year Built, Lattitude, Bedroom2, Address, Postcode"
      ],
      "metadata": {
        "id": "Q9WOCJYSPOHW"
      }
    },
    {
      "cell_type": "code",
      "source": [
        "from pandas.plotting import scatter_matrix\n",
        "attributes = [ \"Postcode\", \"Price\"]\n",
        "scatter_matrix(df[attributes], figsize=(12, 8))\n",
        "plt.savefig('matrix.png')\n",
        "plt.show()\n",
        "\n",
        "# Get Months out of Dates\n",
        "df['Date'] = pd.to_datetime(df['Date'])\n",
        "column = df['Date']\n",
        "fearure_col = pd.DataFrame({\"month\":column.dt.month})\n",
        "df =  pd.concat([df,fearure_col], axis = 1)\n",
        "\n",
        "len(df.Suburb.unique())\n",
        "\n",
        "df = df.drop(['BuildingArea','Longtitude','YearBuilt','Lattitude','Bedroom2','Address','Postcode'], axis = 1)\n",
        "df.to_csv('data_feature.csv', encoding='utf-8', index=False)\n",
        "f, ax = plt.subplots(figsize=(10, 7))\n",
        "df_nobed= data[data[\"Rooms\"].notnull()]\n",
        "data_priced = data[data.Price.notnull()].drop('Address', axis = 1)\n",
        "sns.barplot(x ='Price',y=\"CouncilArea\", hue=\"Regionname\", data=data_priced, palette=\"nipy_spectral\");"
      ],
      "metadata": {
        "id": "nTrUTVOsDiVa",
        "colab": {
          "base_uri": "https://localhost:8080/",
          "height": 935
        },
        "outputId": "6728d935-7a1d-4fa9-fcd1-6553bfbcc241"
      },
      "execution_count": null,
      "outputs": [
        {
          "output_type": "display_data",
          "data": {
            "image/png": "[encoded data removed]",
            "text/plain": [
              "<Figure size 864x576 with 4 Axes>"
            ]
          },
          "metadata": {
            "needs_background": "light"
          }
        },
        {
          "output_type": "display_data",
          "data": {
            "image/png": "[encoded data removed]",
            "text/plain": [
              "<Figure size 720x504 with 1 Axes>"
            ]
          },
          "metadata": {
            "needs_background": "light"
          }
        }
      ]
    },
    {
      "cell_type": "markdown",
      "source": [
        "Council area vs Prices"
      ],
      "metadata": {
        "id": "lpSdfWYWPfln"
      }
    },
    {
      "cell_type": "code",
      "source": [
        "data_priced = data[data.Price.notnull()].drop('Address', axis = 1)\n",
        "f, ax = plt.subplots(figsize=(10, 7))\n",
        "sns.barplot(x ='Price',y=\"CouncilArea\", hue=\"Regionname\", data=data_priced, palette=\"nipy_spectral\");"
      ],
      "metadata": {
        "id": "SZYchb9qOJvu",
        "colab": {
          "base_uri": "https://localhost:8080/",
          "height": 442
        },
        "outputId": "51d76941-9a77-45cb-e7ea-1a8b16611678"
      },
      "execution_count": null,
      "outputs": [
        {
          "output_type": "display_data",
          "data": {
            "image/png": "[encoded data removed]",
            "text/plain": [
              "<Figure size 720x504 with 1 Axes>"
            ]
          },
          "metadata": {
            "needs_background": "light"
          }
        }
      ]
    },
    {
      "cell_type": "markdown",
      "source": [
        "##– Apply the feature selection techniques over the melbourne-housing -dataset namely (20 points): \n",
        "\n",
        "∗ Correlation \n",
        "\n",
        "∗ Chi-Square \n",
        "\n",
        "∗ Mutual-Information \n",
        "\n",
        "∗ Random Forest feature importance\n"
      ],
      "metadata": {
        "id": "HClTrz3NA3CR"
      }
    },
    {
      "cell_type": "code",
      "source": [
        "#Correlation Matrix\n",
        "corr_matrix = data.corr()\n",
        "print(corr_matrix)\n",
        "\n",
        "# plot the heatmap\n",
        "sns.heatmap(corr_matrix, \n",
        "        xticklabels=corr_matrix.columns,\n",
        "        yticklabels=corr_matrix.columns)"
      ],
      "metadata": {
        "id": "2ewZdA5TRSbe",
        "colab": {
          "base_uri": "https://localhost:8080/",
          "height": 624
        },
        "outputId": "4b10576d-0c8f-4a98-8514-87bf504eb427"
      },
      "execution_count": null,
      "outputs": [
        {
          "output_type": "stream",
          "name": "stdout",
          "text": [
            "                  Rooms     Price  ...  Longtitude  Propertycount\n",
            "Rooms          1.000000  0.533505  ...    0.088031      -0.111422\n",
            "Price          0.533505  1.000000  ...    0.211760      -0.046410\n",
            "Distance       0.283885 -0.148867  ...    0.221861      -0.083969\n",
            "Postcode       0.051237  0.125539  ...    0.471305       0.064534\n",
            "Bedroom2       0.951793  0.514561  ...    0.085895      -0.109401\n",
            "Bathroom       0.613853  0.503922  ...    0.116103      -0.067126\n",
            "Car            0.422526  0.261507  ...    0.054699      -0.046487\n",
            "Landsize       0.098755  0.081419  ...    0.032918      -0.017784\n",
            "BuildingArea   0.608215  0.530574  ...    0.103613      -0.066144\n",
            "YearBuilt     -0.068122 -0.304633  ...   -0.002114      -0.000797\n",
            "Lattitude      0.016049 -0.213574  ...   -0.357988       0.057225\n",
            "Longtitude     0.088031  0.211760  ...    1.000000       0.073856\n",
            "Propertycount -0.111422 -0.046410  ...    0.073856       1.000000\n",
            "\n",
            "[13 rows x 13 columns]\n"
          ]
        },
        {
          "output_type": "execute_result",
          "data": {
            "text/plain": [
              "<matplotlib.axes._subplots.AxesSubplot at 0x7f22b7104190>"
            ]
          },
          "metadata": {},
          "execution_count": 19
        },
        {
          "output_type": "display_data",
          "data": {
            "image/png": "[encoded data removed]",
            "text/plain": [
              "<Figure size 432x288 with 2 Axes>"
            ]
          },
          "metadata": {
            "needs_background": "light"
          }
        }
      ]
    },
    {
      "cell_type": "markdown",
      "source": [
        " Chi-Square "
      ],
      "metadata": {
        "id": "6ictcHR3R5vv"
      }
    },
    {
      "cell_type": "code",
      "source": [
        "# chi-squared test with similar proportions\n",
        "from scipy.stats import chi2_contingency\n",
        "from scipy.stats import chi2\n",
        "\n",
        "def chi_test(data):\n",
        "\tstat, p, dof, expected = chi2_contingency(data_t)\n",
        "\t\n",
        "\tprob = 0.95\n",
        "\tcritical = chi2.ppf(prob, dof)\n",
        "\tprint('(CHI SQUARE) probability=%.3f, critical=%.3f, stat=%.3f, p_value=%.3f' % (prob, critical, stat, p))\n",
        "\tif p >= 0.05:\n",
        "\t\tprint('Dependent (reject H0)')\n",
        "\telse:\n",
        "\t\tprint('Independent (fail to reject H0)')\n",
        "\tprint()\n",
        "\n",
        "\treturn p\n",
        "\n",
        "\n",
        "data_t = data[\"Rooms\"], data[\"Price\"]\n",
        "print(\"Rooms vs Price        >> :\" +str(chi_test(data_t)))\n",
        "\n",
        "data_t = data[\"Distance\"], data[\"Price\"]\n",
        "print(\"Distance vs Price     >> :\"  +str(chi_test(data_t)))\n",
        "\n",
        "\n",
        "data_t = data[\"Bedroom2\"], data[\"Price\"]\n",
        "print(\"Bedroom2 vs Price     >> :\"  +str(chi_test(data_t)))\n",
        "\n",
        "data_t = data[\"Bathroom\"], data[\"Price\"]\n",
        "print(\"Bathroom vs Price     >> :\"  +str(chi_test(data_t)))\n",
        "\n",
        "data_t = data[\"Car\"], data[\"Price\"]\n",
        "print(\"Car vs Price          >> :\"  +str(chi_test(data_t)))\n",
        "\n",
        "data_t = data[\"Landsize\"], data[\"Price\"]\n",
        "print(\"Landsize vs Price     >> :\"  +str(chi_test(data_t)))\n",
        "\n",
        "data_t = data[\"BuildingArea\"], data[\"Price\"]\n",
        "print(\"BuildingArea vs Price >> :\"  +str(chi_test(data_t)))\n",
        "\n",
        "data_t = data[\"YearBuilt\"], data[\"Price\"]\n",
        "print(\"YearBuilt             >> :\"  +str(chi_test(data_t)))\n",
        "\n",
        "data_t = data[\"Propertycount\"], data[\"Price\"]\n",
        "print(\"Property vs Price     >> :\"  +str(chi_test(data_t)))\n",
        "\n"
      ],
      "metadata": {
        "id": "1H0Jc84KR8G1",
        "colab": {
          "base_uri": "https://localhost:8080/"
        },
        "outputId": "2ae56ba2-29fa-4c3b-ade1-75526c2b6b09"
      },
      "execution_count": null,
      "outputs": [
        {
          "output_type": "stream",
          "name": "stdout",
          "text": [
            "(CHI SQUARE) probability=0.950, critical=6379.219, stat=4078.109, p_value=1.000\n",
            "Dependent (reject H0)\n",
            "\n",
            "Rooms vs Price        >> :1.0\n",
            "(CHI SQUARE) probability=0.950, critical=6379.219, stat=58118.902, p_value=0.000\n",
            "Independent (fail to reject H0)\n",
            "\n",
            "Distance vs Price     >> :0.0\n",
            "(CHI SQUARE) probability=0.950, critical=6379.219, stat=4189.713, p_value=1.000\n",
            "Dependent (reject H0)\n",
            "\n",
            "Bedroom2 vs Price     >> :1.0\n",
            "(CHI SQUARE) probability=0.950, critical=6379.219, stat=2716.760, p_value=1.000\n",
            "Dependent (reject H0)\n",
            "\n",
            "Bathroom vs Price     >> :1.0\n",
            "(CHI SQUARE) probability=0.950, critical=6379.219, stat=5195.773, p_value=1.000\n",
            "Dependent (reject H0)\n",
            "\n",
            "Car vs Price          >> :1.0\n",
            "(CHI SQUARE) probability=0.950, critical=6379.219, stat=18649397.647, p_value=0.000\n",
            "Independent (fail to reject H0)\n",
            "\n",
            "Landsize vs Price     >> :0.0\n",
            "(CHI SQUARE) probability=0.950, critical=6379.219, stat=279405.351, p_value=0.000\n",
            "Independent (fail to reject H0)\n",
            "\n",
            "BuildingArea vs Price >> :0.0\n",
            "(CHI SQUARE) probability=0.950, critical=6379.219, stat=4328335.209, p_value=0.000\n",
            "Independent (fail to reject H0)\n",
            "\n",
            "YearBuilt             >> :0.0\n",
            "(CHI SQUARE) probability=0.950, critical=6379.219, stat=43336182.130, p_value=0.000\n",
            "Independent (fail to reject H0)\n",
            "\n",
            "Property vs Price     >> :0.0\n"
          ]
        }
      ]
    },
    {
      "cell_type": "markdown",
      "source": [
        "Mutual-Information "
      ],
      "metadata": {
        "id": "ymcowGMsZwcQ"
      }
    },
    {
      "cell_type": "code",
      "source": [
        "print(\" mutual_info_regression\")\n",
        "from sklearn.feature_selection import mutual_info_regression as mr\n",
        "print(\"Rooms vs Price        >> :\" +str(mr( data[[\"Rooms\"]], data[\"Price\"])))\n",
        "print(\"Distance vs Price     >> :\" +str(mr( data[[\"Distance\"]], data[\"Price\"])))\n",
        "print(\"Bedroom2 vs Price     >> :\" +str(mr( data[[\"Bedroom2\"]], data[\"Price\"])))\n",
        "print(\"Bathroom vs Price     >> :\" +str(mr( data[[\"Bathroom\"]], data[\"Price\"])))\n",
        "print(\"Car vs Price          >> :\" +str(mr( data[[\"Car\"]], data[\"Price\"])))\n",
        "print(\"Landsize vs Price     >> :\" +str(mr( data[[\"Landsize\"]], data[\"Price\"])))\n",
        "print(\"BuildingArea vs Price >> :\" +str(mr( data[[\"BuildingArea\"]], data[\"Price\"])))\n",
        "print(\"YearBuilt             >> :\" +str(mr( data[[\"YearBuilt\"]], data[\"Price\"])))\n",
        "print(\"Property vs Price     >> :\" +str(mr( data[[\"Propertycount\"]], data[\"Price\"])))"
      ],
      "metadata": {
        "id": "mlCypZHPZopq",
        "colab": {
          "base_uri": "https://localhost:8080/"
        },
        "outputId": "5ffb734e-6af7-4481-aee4-77da83d7395b"
      },
      "execution_count": null,
      "outputs": [
        {
          "output_type": "stream",
          "name": "stdout",
          "text": [
            " mutual_info_regression\n",
            "Rooms vs Price        >> :[0.25449646]\n",
            "Distance vs Price     >> :[0.17440564]\n",
            "Bedroom2 vs Price     >> :[0.24525011]\n",
            "Bathroom vs Price     >> :[0.16992899]\n",
            "Car vs Price          >> :[0.10202878]\n",
            "Landsize vs Price     >> :[0.16530932]\n",
            "BuildingArea vs Price >> :[0.40087434]\n",
            "YearBuilt             >> :[0.15922362]\n",
            "Property vs Price     >> :[0.18332358]\n"
          ]
        }
      ]
    },
    {
      "cell_type": "code",
      "source": [
        "import pandas as pd\n",
        "from sklearn.model_selection import train_test_split\n",
        "import matplotlib.pyplot as plt\n",
        "import seaborn as sns\n",
        "import numpy as np\n",
        "\n",
        "path = \"/content/drive/MyDrive/AIDI/0002/melb_data.csv\"\n",
        "\n",
        "\"\"\"3.  Creating Data Frames\n",
        "\n",
        "\"\"\"\n",
        "data = pd.read_csv(path)\n",
        "\n",
        "# Creating Data Frames\n",
        "X_d = data.iloc[:, :]\n",
        "X = data.iloc[:, :].values\n",
        "X = np.delete(X, 3, 1) \n",
        "y = data.iloc[:, 3].values\n",
        "\n",
        "\n",
        "from sklearn.preprocessing import LabelEncoder, OneHotEncoder\n",
        "from sklearn.compose import ColumnTransformer\n",
        "labelencoder = LabelEncoder()\n",
        "X[:,0] = labelencoder.fit_transform(X[:,0])\n",
        "X[:,1] = labelencoder.fit_transform(X[:,1])\n",
        "X[:,2] = labelencoder.fit_transform(X[:,2])\n",
        "X[:,4] = labelencoder.fit_transform(X[:,4])\n",
        "X[:,5] = labelencoder.fit_transform(X[:,5])\n",
        "X[:,6] = labelencoder.fit_transform(X[:,6])\n",
        "X[:,7] = labelencoder.fit_transform(X[:,7])\n",
        "\n",
        "\n",
        "#0 Room = 8\n",
        "#1 Type = 3\n",
        "#2 Method = 5\n",
        "#4 Bedroom2 = 10\n",
        "#5 Bathroom = 8\n",
        "#6 Car = 11\n",
        "#8 Regionname = 8\n",
        "\n",
        "\n",
        "# Multiple categorical columns\n",
        "categorical_cols = ['Rooms', 'Type', 'Method', 'Bedroom2', 'Bathroom', 'Car',  'Regionname']\n",
        "X = pd.get_dummies(data, columns=categorical_cols)\n",
        "df.to_csv(\"/content/drive/MyDrive/AIDI/0002/data_regresson.csv\")"
      ],
      "metadata": {
        "id": "8QJhVxxdlOEy"
      },
      "execution_count": null,
      "outputs": []
    },
    {
      "cell_type": "markdown",
      "source": [
        "Random Forest feature importance"
      ],
      "metadata": {
        "id": "x06ZWEg8Z1o4"
      }
    },
    {
      "cell_type": "code",
      "source": [
        "import pandas as pd\n",
        "df=pd.read_csv(\"/content/drive/MyDrive/AIDI/0002/data_regression.csv\")\n",
        "df.describe()\n"
      ],
      "metadata": {
        "colab": {
          "base_uri": "https://localhost:8080/",
          "height": 399
        },
        "id": "hMuKPD2ghMb2",
        "outputId": "a0a2e3a5-389c-4a8d-a0e4-ba921c1ffc5f"
      },
      "execution_count": null,
      "outputs": [
        {
          "output_type": "execute_result",
          "data": {
            "text/html": [
              "\n",
              "  <div id=\"df-38789147-cc9f-4a7e-81d1-99043d346295\">\n",
              "    <div class=\"colab-df-container\">\n",
              "      <div>\n",
              "<style scoped>\n",
              "    .dataframe tbody tr th:only-of-type {\n",
              "        vertical-align: middle;\n",
              "    }\n",
              "\n",
              "    .dataframe tbody tr th {\n",
              "        vertical-align: top;\n",
              "    }\n",
              "\n",
              "    .dataframe thead th {\n",
              "        text-align: right;\n",
              "    }\n",
              "</style>\n",
              "<table border=\"1\" class=\"dataframe\">\n",
              "  <thead>\n",
              "    <tr style=\"text-align: right;\">\n",
              "      <th></th>\n",
              "      <th>Rooms</th>\n",
              "      <th>Price</th>\n",
              "      <th>Distance</th>\n",
              "      <th>Bathroom</th>\n",
              "      <th>Car</th>\n",
              "      <th>Landsize</th>\n",
              "      <th>Lattitude</th>\n",
              "      <th>Longtitude</th>\n",
              "      <th>Propertycount</th>\n",
              "      <th>month</th>\n",
              "      <th>Type_h</th>\n",
              "      <th>Type_t</th>\n",
              "      <th>Type_u</th>\n",
              "      <th>Method_PI</th>\n",
              "      <th>Method_S</th>\n",
              "      <th>Method_SA</th>\n",
              "      <th>Method_SP</th>\n",
              "      <th>Method_VB</th>\n",
              "      <th>CouncilArea_Banyule City Council</th>\n",
              "      <th>CouncilArea_Bayside City Council</th>\n",
              "      <th>CouncilArea_Boroondara City Council</th>\n",
              "      <th>CouncilArea_Brimbank City Council</th>\n",
              "      <th>CouncilArea_Cardinia Shire Council</th>\n",
              "      <th>CouncilArea_Casey City Council</th>\n",
              "      <th>CouncilArea_Darebin City Council</th>\n",
              "      <th>CouncilArea_Frankston City Council</th>\n",
              "      <th>CouncilArea_Glen Eira City Council</th>\n",
              "      <th>CouncilArea_Greater Dandenong City Council</th>\n",
              "      <th>CouncilArea_Hobsons Bay City Council</th>\n",
              "      <th>CouncilArea_Hume City Council</th>\n",
              "      <th>CouncilArea_Kingston City Council</th>\n",
              "      <th>CouncilArea_Knox City Council</th>\n",
              "      <th>CouncilArea_Macedon Ranges Shire Council</th>\n",
              "      <th>CouncilArea_Manningham City Council</th>\n",
              "      <th>CouncilArea_Maribyrnong City Council</th>\n",
              "      <th>CouncilArea_Maroondah City Council</th>\n",
              "      <th>CouncilArea_Melbourne City Council</th>\n",
              "      <th>CouncilArea_Melton City Council</th>\n",
              "      <th>CouncilArea_Mitchell Shire Council</th>\n",
              "      <th>CouncilArea_Monash City Council</th>\n",
              "      <th>CouncilArea_Moonee Valley City Council</th>\n",
              "      <th>CouncilArea_Moorabool Shire Council</th>\n",
              "      <th>CouncilArea_Moreland City Council</th>\n",
              "      <th>CouncilArea_Nillumbik Shire Council</th>\n",
              "      <th>CouncilArea_Port Phillip City Council</th>\n",
              "      <th>CouncilArea_Stonnington City Council</th>\n",
              "      <th>CouncilArea_Whitehorse City Council</th>\n",
              "      <th>CouncilArea_Whittlesea City Council</th>\n",
              "      <th>CouncilArea_Wyndham City Council</th>\n",
              "      <th>CouncilArea_Yarra City Council</th>\n",
              "      <th>CouncilArea_Yarra Ranges Shire Council</th>\n",
              "      <th>Regionname_Eastern Metropolitan</th>\n",
              "      <th>Regionname_Eastern Victoria</th>\n",
              "      <th>Regionname_Northern Metropolitan</th>\n",
              "      <th>Regionname_Northern Victoria</th>\n",
              "      <th>Regionname_South-Eastern Metropolitan</th>\n",
              "      <th>Regionname_Southern Metropolitan</th>\n",
              "      <th>Regionname_Western Metropolitan</th>\n",
              "      <th>Regionname_Western Victoria</th>\n",
              "    </tr>\n",
              "  </thead>\n",
              "  <tbody>\n",
              "    <tr>\n",
              "      <th>count</th>\n",
              "      <td>27174.000000</td>\n",
              "      <td>2.717400e+04</td>\n",
              "      <td>27174.000000</td>\n",
              "      <td>27174.000000</td>\n",
              "      <td>27174.000000</td>\n",
              "      <td>27174.000000</td>\n",
              "      <td>27174.000000</td>\n",
              "      <td>27174.000000</td>\n",
              "      <td>27174.000000</td>\n",
              "      <td>27174.000000</td>\n",
              "      <td>27174.000000</td>\n",
              "      <td>27174.000000</td>\n",
              "      <td>27174.000000</td>\n",
              "      <td>27174.000000</td>\n",
              "      <td>27174.000000</td>\n",
              "      <td>27174.000000</td>\n",
              "      <td>27174.000000</td>\n",
              "      <td>27174.000000</td>\n",
              "      <td>27174.000000</td>\n",
              "      <td>27174.000000</td>\n",
              "      <td>27174.000000</td>\n",
              "      <td>27174.000000</td>\n",
              "      <td>27174.000000</td>\n",
              "      <td>27174.000000</td>\n",
              "      <td>27174.000000</td>\n",
              "      <td>27174.000000</td>\n",
              "      <td>27174.000000</td>\n",
              "      <td>27174.000000</td>\n",
              "      <td>27174.000000</td>\n",
              "      <td>27174.000000</td>\n",
              "      <td>27174.000000</td>\n",
              "      <td>27174.000000</td>\n",
              "      <td>27174.000000</td>\n",
              "      <td>27174.000000</td>\n",
              "      <td>27174.000000</td>\n",
              "      <td>27174.000000</td>\n",
              "      <td>27174.000000</td>\n",
              "      <td>27174.000000</td>\n",
              "      <td>27174.000000</td>\n",
              "      <td>27174.000000</td>\n",
              "      <td>27174.000000</td>\n",
              "      <td>27174.000000</td>\n",
              "      <td>27174.000000</td>\n",
              "      <td>27174.00000</td>\n",
              "      <td>27174.000000</td>\n",
              "      <td>27174.000000</td>\n",
              "      <td>27174.000000</td>\n",
              "      <td>27174.000000</td>\n",
              "      <td>27174.000000</td>\n",
              "      <td>27174.000000</td>\n",
              "      <td>27174.000000</td>\n",
              "      <td>27174.000000</td>\n",
              "      <td>27174.000000</td>\n",
              "      <td>27174.000000</td>\n",
              "      <td>27174.000000</td>\n",
              "      <td>27174.000000</td>\n",
              "      <td>27174.000000</td>\n",
              "      <td>27174.000000</td>\n",
              "      <td>27174.000000</td>\n",
              "    </tr>\n",
              "    <tr>\n",
              "      <th>mean</th>\n",
              "      <td>2.992051</td>\n",
              "      <td>1.050786e+06</td>\n",
              "      <td>11.274292</td>\n",
              "      <td>1.507691</td>\n",
              "      <td>1.697395</td>\n",
              "      <td>573.627197</td>\n",
              "      <td>-37.807819</td>\n",
              "      <td>144.997731</td>\n",
              "      <td>7575.439538</td>\n",
              "      <td>6.959483</td>\n",
              "      <td>0.678001</td>\n",
              "      <td>0.105174</td>\n",
              "      <td>0.216825</td>\n",
              "      <td>0.119673</td>\n",
              "      <td>0.642600</td>\n",
              "      <td>0.006955</td>\n",
              "      <td>0.132222</td>\n",
              "      <td>0.098550</td>\n",
              "      <td>0.051225</td>\n",
              "      <td>0.048245</td>\n",
              "      <td>0.092736</td>\n",
              "      <td>0.050269</td>\n",
              "      <td>0.000957</td>\n",
              "      <td>0.005042</td>\n",
              "      <td>0.086443</td>\n",
              "      <td>0.008427</td>\n",
              "      <td>0.060462</td>\n",
              "      <td>0.007691</td>\n",
              "      <td>0.029403</td>\n",
              "      <td>0.038125</td>\n",
              "      <td>0.027011</td>\n",
              "      <td>0.010562</td>\n",
              "      <td>0.001435</td>\n",
              "      <td>0.030986</td>\n",
              "      <td>0.044933</td>\n",
              "      <td>0.013064</td>\n",
              "      <td>0.055273</td>\n",
              "      <td>0.008942</td>\n",
              "      <td>0.000405</td>\n",
              "      <td>0.037057</td>\n",
              "      <td>0.058291</td>\n",
              "      <td>0.000147</td>\n",
              "      <td>0.065872</td>\n",
              "      <td>0.00287</td>\n",
              "      <td>0.035033</td>\n",
              "      <td>0.032531</td>\n",
              "      <td>0.016008</td>\n",
              "      <td>0.026091</td>\n",
              "      <td>0.018106</td>\n",
              "      <td>0.033782</td>\n",
              "      <td>0.002576</td>\n",
              "      <td>0.120336</td>\n",
              "      <td>0.006072</td>\n",
              "      <td>0.287039</td>\n",
              "      <td>0.006109</td>\n",
              "      <td>0.049275</td>\n",
              "      <td>0.313682</td>\n",
              "      <td>0.213991</td>\n",
              "      <td>0.003496</td>\n",
              "    </tr>\n",
              "    <tr>\n",
              "      <th>std</th>\n",
              "      <td>0.954765</td>\n",
              "      <td>6.421327e+05</td>\n",
              "      <td>6.791209</td>\n",
              "      <td>0.677807</td>\n",
              "      <td>0.894926</td>\n",
              "      <td>3057.530982</td>\n",
              "      <td>0.091094</td>\n",
              "      <td>0.118265</td>\n",
              "      <td>4494.607718</td>\n",
              "      <td>3.018975</td>\n",
              "      <td>0.467251</td>\n",
              "      <td>0.306783</td>\n",
              "      <td>0.412090</td>\n",
              "      <td>0.324585</td>\n",
              "      <td>0.479243</td>\n",
              "      <td>0.083109</td>\n",
              "      <td>0.338738</td>\n",
              "      <td>0.298062</td>\n",
              "      <td>0.220461</td>\n",
              "      <td>0.214287</td>\n",
              "      <td>0.290067</td>\n",
              "      <td>0.218503</td>\n",
              "      <td>0.030918</td>\n",
              "      <td>0.070826</td>\n",
              "      <td>0.281022</td>\n",
              "      <td>0.091414</td>\n",
              "      <td>0.238346</td>\n",
              "      <td>0.087363</td>\n",
              "      <td>0.168937</td>\n",
              "      <td>0.191501</td>\n",
              "      <td>0.162119</td>\n",
              "      <td>0.102227</td>\n",
              "      <td>0.037857</td>\n",
              "      <td>0.173282</td>\n",
              "      <td>0.207160</td>\n",
              "      <td>0.113551</td>\n",
              "      <td>0.228517</td>\n",
              "      <td>0.094142</td>\n",
              "      <td>0.020116</td>\n",
              "      <td>0.188906</td>\n",
              "      <td>0.234297</td>\n",
              "      <td>0.012132</td>\n",
              "      <td>0.248062</td>\n",
              "      <td>0.05350</td>\n",
              "      <td>0.183868</td>\n",
              "      <td>0.177409</td>\n",
              "      <td>0.125508</td>\n",
              "      <td>0.159409</td>\n",
              "      <td>0.133336</td>\n",
              "      <td>0.180672</td>\n",
              "      <td>0.050690</td>\n",
              "      <td>0.325360</td>\n",
              "      <td>0.077687</td>\n",
              "      <td>0.452388</td>\n",
              "      <td>0.077921</td>\n",
              "      <td>0.216446</td>\n",
              "      <td>0.463997</td>\n",
              "      <td>0.410128</td>\n",
              "      <td>0.059025</td>\n",
              "    </tr>\n",
              "    <tr>\n",
              "      <th>min</th>\n",
              "      <td>1.000000</td>\n",
              "      <td>8.500000e+04</td>\n",
              "      <td>0.000000</td>\n",
              "      <td>0.000000</td>\n",
              "      <td>0.000000</td>\n",
              "      <td>0.000000</td>\n",
              "      <td>-38.190430</td>\n",
              "      <td>144.423790</td>\n",
              "      <td>83.000000</td>\n",
              "      <td>1.000000</td>\n",
              "      <td>0.000000</td>\n",
              "      <td>0.000000</td>\n",
              "      <td>0.000000</td>\n",
              "      <td>0.000000</td>\n",
              "      <td>0.000000</td>\n",
              "      <td>0.000000</td>\n",
              "      <td>0.000000</td>\n",
              "      <td>0.000000</td>\n",
              "      <td>0.000000</td>\n",
              "      <td>0.000000</td>\n",
              "      <td>0.000000</td>\n",
              "      <td>0.000000</td>\n",
              "      <td>0.000000</td>\n",
              "      <td>0.000000</td>\n",
              "      <td>0.000000</td>\n",
              "      <td>0.000000</td>\n",
              "      <td>0.000000</td>\n",
              "      <td>0.000000</td>\n",
              "      <td>0.000000</td>\n",
              "      <td>0.000000</td>\n",
              "      <td>0.000000</td>\n",
              "      <td>0.000000</td>\n",
              "      <td>0.000000</td>\n",
              "      <td>0.000000</td>\n",
              "      <td>0.000000</td>\n",
              "      <td>0.000000</td>\n",
              "      <td>0.000000</td>\n",
              "      <td>0.000000</td>\n",
              "      <td>0.000000</td>\n",
              "      <td>0.000000</td>\n",
              "      <td>0.000000</td>\n",
              "      <td>0.000000</td>\n",
              "      <td>0.000000</td>\n",
              "      <td>0.00000</td>\n",
              "      <td>0.000000</td>\n",
              "      <td>0.000000</td>\n",
              "      <td>0.000000</td>\n",
              "      <td>0.000000</td>\n",
              "      <td>0.000000</td>\n",
              "      <td>0.000000</td>\n",
              "      <td>0.000000</td>\n",
              "      <td>0.000000</td>\n",
              "      <td>0.000000</td>\n",
              "      <td>0.000000</td>\n",
              "      <td>0.000000</td>\n",
              "      <td>0.000000</td>\n",
              "      <td>0.000000</td>\n",
              "      <td>0.000000</td>\n",
              "      <td>0.000000</td>\n",
              "    </tr>\n",
              "    <tr>\n",
              "      <th>25%</th>\n",
              "      <td>2.000000</td>\n",
              "      <td>6.350000e+05</td>\n",
              "      <td>6.400000</td>\n",
              "      <td>1.000000</td>\n",
              "      <td>1.000000</td>\n",
              "      <td>286.924021</td>\n",
              "      <td>-37.861900</td>\n",
              "      <td>144.926200</td>\n",
              "      <td>4380.000000</td>\n",
              "      <td>4.000000</td>\n",
              "      <td>0.000000</td>\n",
              "      <td>0.000000</td>\n",
              "      <td>0.000000</td>\n",
              "      <td>0.000000</td>\n",
              "      <td>0.000000</td>\n",
              "      <td>0.000000</td>\n",
              "      <td>0.000000</td>\n",
              "      <td>0.000000</td>\n",
              "      <td>0.000000</td>\n",
              "      <td>0.000000</td>\n",
              "      <td>0.000000</td>\n",
              "      <td>0.000000</td>\n",
              "      <td>0.000000</td>\n",
              "      <td>0.000000</td>\n",
              "      <td>0.000000</td>\n",
              "      <td>0.000000</td>\n",
              "      <td>0.000000</td>\n",
              "      <td>0.000000</td>\n",
              "      <td>0.000000</td>\n",
              "      <td>0.000000</td>\n",
              "      <td>0.000000</td>\n",
              "      <td>0.000000</td>\n",
              "      <td>0.000000</td>\n",
              "      <td>0.000000</td>\n",
              "      <td>0.000000</td>\n",
              "      <td>0.000000</td>\n",
              "      <td>0.000000</td>\n",
              "      <td>0.000000</td>\n",
              "      <td>0.000000</td>\n",
              "      <td>0.000000</td>\n",
              "      <td>0.000000</td>\n",
              "      <td>0.000000</td>\n",
              "      <td>0.000000</td>\n",
              "      <td>0.00000</td>\n",
              "      <td>0.000000</td>\n",
              "      <td>0.000000</td>\n",
              "      <td>0.000000</td>\n",
              "      <td>0.000000</td>\n",
              "      <td>0.000000</td>\n",
              "      <td>0.000000</td>\n",
              "      <td>0.000000</td>\n",
              "      <td>0.000000</td>\n",
              "      <td>0.000000</td>\n",
              "      <td>0.000000</td>\n",
              "      <td>0.000000</td>\n",
              "      <td>0.000000</td>\n",
              "      <td>0.000000</td>\n",
              "      <td>0.000000</td>\n",
              "      <td>0.000000</td>\n",
              "    </tr>\n",
              "    <tr>\n",
              "      <th>50%</th>\n",
              "      <td>3.000000</td>\n",
              "      <td>8.710000e+05</td>\n",
              "      <td>10.400000</td>\n",
              "      <td>1.000000</td>\n",
              "      <td>2.000000</td>\n",
              "      <td>527.000000</td>\n",
              "      <td>-37.801600</td>\n",
              "      <td>145.005062</td>\n",
              "      <td>6567.000000</td>\n",
              "      <td>7.000000</td>\n",
              "      <td>1.000000</td>\n",
              "      <td>0.000000</td>\n",
              "      <td>0.000000</td>\n",
              "      <td>0.000000</td>\n",
              "      <td>1.000000</td>\n",
              "      <td>0.000000</td>\n",
              "      <td>0.000000</td>\n",
              "      <td>0.000000</td>\n",
              "      <td>0.000000</td>\n",
              "      <td>0.000000</td>\n",
              "      <td>0.000000</td>\n",
              "      <td>0.000000</td>\n",
              "      <td>0.000000</td>\n",
              "      <td>0.000000</td>\n",
              "      <td>0.000000</td>\n",
              "      <td>0.000000</td>\n",
              "      <td>0.000000</td>\n",
              "      <td>0.000000</td>\n",
              "      <td>0.000000</td>\n",
              "      <td>0.000000</td>\n",
              "      <td>0.000000</td>\n",
              "      <td>0.000000</td>\n",
              "      <td>0.000000</td>\n",
              "      <td>0.000000</td>\n",
              "      <td>0.000000</td>\n",
              "      <td>0.000000</td>\n",
              "      <td>0.000000</td>\n",
              "      <td>0.000000</td>\n",
              "      <td>0.000000</td>\n",
              "      <td>0.000000</td>\n",
              "      <td>0.000000</td>\n",
              "      <td>0.000000</td>\n",
              "      <td>0.000000</td>\n",
              "      <td>0.00000</td>\n",
              "      <td>0.000000</td>\n",
              "      <td>0.000000</td>\n",
              "      <td>0.000000</td>\n",
              "      <td>0.000000</td>\n",
              "      <td>0.000000</td>\n",
              "      <td>0.000000</td>\n",
              "      <td>0.000000</td>\n",
              "      <td>0.000000</td>\n",
              "      <td>0.000000</td>\n",
              "      <td>0.000000</td>\n",
              "      <td>0.000000</td>\n",
              "      <td>0.000000</td>\n",
              "      <td>0.000000</td>\n",
              "      <td>0.000000</td>\n",
              "      <td>0.000000</td>\n",
              "    </tr>\n",
              "    <tr>\n",
              "      <th>75%</th>\n",
              "      <td>4.000000</td>\n",
              "      <td>1.300000e+06</td>\n",
              "      <td>14.000000</td>\n",
              "      <td>2.000000</td>\n",
              "      <td>2.000000</td>\n",
              "      <td>648.716257</td>\n",
              "      <td>-37.749315</td>\n",
              "      <td>145.068600</td>\n",
              "      <td>10412.000000</td>\n",
              "      <td>10.000000</td>\n",
              "      <td>1.000000</td>\n",
              "      <td>0.000000</td>\n",
              "      <td>0.000000</td>\n",
              "      <td>0.000000</td>\n",
              "      <td>1.000000</td>\n",
              "      <td>0.000000</td>\n",
              "      <td>0.000000</td>\n",
              "      <td>0.000000</td>\n",
              "      <td>0.000000</td>\n",
              "      <td>0.000000</td>\n",
              "      <td>0.000000</td>\n",
              "      <td>0.000000</td>\n",
              "      <td>0.000000</td>\n",
              "      <td>0.000000</td>\n",
              "      <td>0.000000</td>\n",
              "      <td>0.000000</td>\n",
              "      <td>0.000000</td>\n",
              "      <td>0.000000</td>\n",
              "      <td>0.000000</td>\n",
              "      <td>0.000000</td>\n",
              "      <td>0.000000</td>\n",
              "      <td>0.000000</td>\n",
              "      <td>0.000000</td>\n",
              "      <td>0.000000</td>\n",
              "      <td>0.000000</td>\n",
              "      <td>0.000000</td>\n",
              "      <td>0.000000</td>\n",
              "      <td>0.000000</td>\n",
              "      <td>0.000000</td>\n",
              "      <td>0.000000</td>\n",
              "      <td>0.000000</td>\n",
              "      <td>0.000000</td>\n",
              "      <td>0.000000</td>\n",
              "      <td>0.00000</td>\n",
              "      <td>0.000000</td>\n",
              "      <td>0.000000</td>\n",
              "      <td>0.000000</td>\n",
              "      <td>0.000000</td>\n",
              "      <td>0.000000</td>\n",
              "      <td>0.000000</td>\n",
              "      <td>0.000000</td>\n",
              "      <td>0.000000</td>\n",
              "      <td>0.000000</td>\n",
              "      <td>1.000000</td>\n",
              "      <td>0.000000</td>\n",
              "      <td>0.000000</td>\n",
              "      <td>1.000000</td>\n",
              "      <td>0.000000</td>\n",
              "      <td>0.000000</td>\n",
              "    </tr>\n",
              "    <tr>\n",
              "      <th>max</th>\n",
              "      <td>16.000000</td>\n",
              "      <td>1.120000e+07</td>\n",
              "      <td>48.100000</td>\n",
              "      <td>9.000000</td>\n",
              "      <td>18.000000</td>\n",
              "      <td>433014.000000</td>\n",
              "      <td>-37.397800</td>\n",
              "      <td>145.526350</td>\n",
              "      <td>21650.000000</td>\n",
              "      <td>12.000000</td>\n",
              "      <td>1.000000</td>\n",
              "      <td>1.000000</td>\n",
              "      <td>1.000000</td>\n",
              "      <td>1.000000</td>\n",
              "      <td>1.000000</td>\n",
              "      <td>1.000000</td>\n",
              "      <td>1.000000</td>\n",
              "      <td>1.000000</td>\n",
              "      <td>1.000000</td>\n",
              "      <td>1.000000</td>\n",
              "      <td>1.000000</td>\n",
              "      <td>1.000000</td>\n",
              "      <td>1.000000</td>\n",
              "      <td>1.000000</td>\n",
              "      <td>1.000000</td>\n",
              "      <td>1.000000</td>\n",
              "      <td>1.000000</td>\n",
              "      <td>1.000000</td>\n",
              "      <td>1.000000</td>\n",
              "      <td>1.000000</td>\n",
              "      <td>1.000000</td>\n",
              "      <td>1.000000</td>\n",
              "      <td>1.000000</td>\n",
              "      <td>1.000000</td>\n",
              "      <td>1.000000</td>\n",
              "      <td>1.000000</td>\n",
              "      <td>1.000000</td>\n",
              "      <td>1.000000</td>\n",
              "      <td>1.000000</td>\n",
              "      <td>1.000000</td>\n",
              "      <td>1.000000</td>\n",
              "      <td>1.000000</td>\n",
              "      <td>1.000000</td>\n",
              "      <td>1.00000</td>\n",
              "      <td>1.000000</td>\n",
              "      <td>1.000000</td>\n",
              "      <td>1.000000</td>\n",
              "      <td>1.000000</td>\n",
              "      <td>1.000000</td>\n",
              "      <td>1.000000</td>\n",
              "      <td>1.000000</td>\n",
              "      <td>1.000000</td>\n",
              "      <td>1.000000</td>\n",
              "      <td>1.000000</td>\n",
              "      <td>1.000000</td>\n",
              "      <td>1.000000</td>\n",
              "      <td>1.000000</td>\n",
              "      <td>1.000000</td>\n",
              "      <td>1.000000</td>\n",
              "    </tr>\n",
              "  </tbody>\n",
              "</table>\n",
              "</div>\n",
              "      <button class=\"colab-df-convert\" onclick=\"convertToInteractive('df-38789147-cc9f-4a7e-81d1-99043d346295')\"\n",
              "              title=\"Convert this dataframe to an interactive table.\"\n",
              "              style=\"display:none;\">\n",
              "        \n",
              "  <svg xmlns=\"http://www.w3.org/2000/svg\" height=\"24px\"viewBox=\"0 0 24 24\"\n",
              "       width=\"24px\">\n",
              "    <path d=\"M0 0h24v24H0V0z\" fill=\"none\"/>\n",
              "    <path d=\"M18.56 5.44l.94 2.06.94-2.06 2.06-.94-2.06-.94-.94-2.06-.94 2.06-2.06.94zm-11 1L8.5 8.5l.94-2.06 2.06-.94-2.06-.94L8.5 2.5l-.94 2.06-2.06.94zm10 10l.94 2.06.94-2.06 2.06-.94-2.06-.94-.94-2.06-.94 2.06-2.06.94z\"/><path d=\"M17.41 7.96l-1.37-1.37c-.4-.4-.92-.59-1.43-.59-.52 0-1.04.2-1.43.59L10.3 9.45l-7.72 7.72c-.78.78-.78 2.05 0 2.83L4 21.41c.39.39.9.59 1.41.59.51 0 1.02-.2 1.41-.59l7.78-7.78 2.81-2.81c.8-.78.8-2.07 0-2.86zM5.41 20L4 18.59l7.72-7.72 1.47 1.35L5.41 20z\"/>\n",
              "  </svg>\n",
              "      </button>\n",
              "      \n",
              "  <style>\n",
              "    .colab-df-container {\n",
              "      display:flex;\n",
              "      flex-wrap:wrap;\n",
              "      gap: 12px;\n",
              "    }\n",
              "\n",
              "    .colab-df-convert {\n",
              "      background-color: #E8F0FE;\n",
              "      border: none;\n",
              "      border-radius: 50%;\n",
              "      cursor: pointer;\n",
              "      display: none;\n",
              "      fill: #1967D2;\n",
              "      height: 32px;\n",
              "      padding: 0 0 0 0;\n",
              "      width: 32px;\n",
              "    }\n",
              "\n",
              "    .colab-df-convert:hover {\n",
              "      background-color: #E2EBFA;\n",
              "      box-shadow: 0px 1px 2px rgba(60, 64, 67, 0.3), 0px 1px 3px 1px rgba(60, 64, 67, 0.15);\n",
              "      fill: #174EA6;\n",
              "    }\n",
              "\n",
              "    [theme=dark] .colab-df-convert {\n",
              "      background-color: #3B4455;\n",
              "      fill: #D2E3FC;\n",
              "    }\n",
              "\n",
              "    [theme=dark] .colab-df-convert:hover {\n",
              "      background-color: #434B5C;\n",
              "      box-shadow: 0px 1px 3px 1px rgba(0, 0, 0, 0.15);\n",
              "      filter: drop-shadow(0px 1px 2px rgba(0, 0, 0, 0.3));\n",
              "      fill: #FFFFFF;\n",
              "    }\n",
              "  </style>\n",
              "\n",
              "      <script>\n",
              "        const buttonEl =\n",
              "          document.querySelector('#df-38789147-cc9f-4a7e-81d1-99043d346295 button.colab-df-convert');\n",
              "        buttonEl.style.display =\n",
              "          google.colab.kernel.accessAllowed ? 'block' : 'none';\n",
              "\n",
              "        async function convertToInteractive(key) {\n",
              "          const element = document.querySelector('#df-38789147-cc9f-4a7e-81d1-99043d346295');\n",
              "          const dataTable =\n",
              "            await google.colab.kernel.invokeFunction('convertToInteractive',\n",
              "                                                     [key], {});\n",
              "          if (!dataTable) return;\n",
              "\n",
              "          const docLinkHtml = 'Like what you see? Visit the ' +\n",
              "            '<a target=\"_blank\" href=https://colab.research.google.com/notebooks/data_table.ipynb>data table notebook</a>'\n",
              "            + ' to learn more about interactive tables.';\n",
              "          element.innerHTML = '';\n",
              "          dataTable['output_type'] = 'display_data';\n",
              "          await google.colab.output.renderOutput(dataTable, element);\n",
              "          const docLink = document.createElement('div');\n",
              "          docLink.innerHTML = docLinkHtml;\n",
              "          element.appendChild(docLink);\n",
              "        }\n",
              "      </script>\n",
              "    </div>\n",
              "  </div>\n",
              "  "
            ],
            "text/plain": [
              "              Rooms  ...  Regionname_Western Victoria\n",
              "count  27174.000000  ...                 27174.000000\n",
              "mean       2.992051  ...                     0.003496\n",
              "std        0.954765  ...                     0.059025\n",
              "min        1.000000  ...                     0.000000\n",
              "25%        2.000000  ...                     0.000000\n",
              "50%        3.000000  ...                     0.000000\n",
              "75%        4.000000  ...                     0.000000\n",
              "max       16.000000  ...                     1.000000\n",
              "\n",
              "[8 rows x 59 columns]"
            ]
          },
          "metadata": {},
          "execution_count": 23
        }
      ]
    },
    {
      "cell_type": "markdown",
      "source": [
        "– Compare the importance of selected features using bar chart (10 points)"
      ],
      "metadata": {
        "id": "kyfOywL7BoMX"
      }
    },
    {
      "cell_type": "code",
      "source": [
        "\n",
        "import numpy as np\n",
        "import pandas as pd\n",
        "import seaborn as sns\n",
        "import matplotlib.pyplot as plt\n",
        "from sklearn.preprocessing import StandardScaler  \n",
        "from scipy import stats\n",
        "from sklearn.cluster import KMeans\n",
        "from sklearn import metrics\n",
        "from sklearn.preprocessing import scale \n",
        "from sklearn.model_selection import train_test_split\n",
        "from sklearn.linear_model import Ridge, RidgeCV, Lasso, LassoCV\n",
        "from sklearn.metrics import mean_squared_error\n",
        "#%matplotlib inline \n",
        "#!pip install tabulate\n",
        "df=pd.read_csv(\"/content/drive/MyDrive/AIDI/0002/data_regression.csv\")\n",
        "df.describe()\n",
        "\n",
        "X = df.drop(['Price'], axis = 1)\n",
        "y= df.Price\n",
        "X_train, X_test, y_train, y_test = train_test_split(X,y, test_size=0.2, random_state=101)\n",
        "\n",
        "from sklearn.ensemble import RandomForestRegressor\n",
        "rf = RandomForestRegressor(random_state = 42)\n",
        "rf.fit(X_train, y_train)\n",
        "\n",
        "predictions_2 =rf.predict(X_test)\n",
        "print('RMSE:', np.sqrt(metrics.mean_squared_error(y_test, predictions_2)))\n",
        "\n",
        "feature_importance = rf.feature_importances_\n",
        "# make importances relative to max importance\n",
        "feature_importance = 100.0 * (feature_importance / feature_importance.max())\n",
        "sorted_idx = np.argsort(feature_importance)\n",
        "pos = np.arange(sorted_idx.shape[0]) + .5\n",
        "plt.figure(figsize=(12, 6))\n",
        "plt.subplot(1, 1, 1)\n",
        "plt.barh(pos[25:], feature_importance[sorted_idx][25:], align='center')\n",
        "plt.yticks(pos[25:], X.columns[sorted_idx][25:])\n",
        "plt.xlabel('Random Forest Feature Importance')\n",
        "plt.title('Important selected Features')\n",
        "plt.show()"
      ],
      "metadata": {
        "id": "tFuruuvLhkSr",
        "colab": {
          "base_uri": "https://localhost:8080/",
          "height": 421
        },
        "outputId": "e5f1349e-98f0-4550-97f7-b16df754d81b"
      },
      "execution_count": null,
      "outputs": [
        {
          "output_type": "stream",
          "name": "stdout",
          "text": [
            "RMSE: 308180.0690556184\n"
          ]
        },
        {
          "output_type": "display_data",
          "data": {
            "image/png": "[encoded data removed]",
            "text/plain": [
              "<Figure size 864x432 with 1 Axes>"
            ]
          },
          "metadata": {
            "needs_background": "light"
          }
        }
      ]
    },
    {
      "cell_type": "markdown",
      "source": [
        "\n",
        "– Comment on the results obtained from various feature selection techniques and which is the best and worst feature selection selection technique on the given dataset (10 points)."
      ],
      "metadata": {
        "id": "VJ2f3wU5bg7K"
      }
    },
    {
      "cell_type": "markdown",
      "source": [
        "In the experiment, we performed multiple types of feature selection techniques. These techniques are used to extract the validated features. Initially, we have to view the patterns of the acquired data. We can use the plots and descriptions of the data and view the data. Here, we use the correlation matrix as the first feature extraction method. It reveals that the price, year, longitude, and latitude are less co-related while Rooms and Bedroom2 are highly correlated. The less co-related are dropped in the Featured data, and the highly correlated features are preferred as a featured matrix. \n",
        "In the following method, we have a score of the Chi-Square. In the method, we have to validate the variables with the assumption of the hypothesis. If the variable successfully qualifies the p-value test, we can consider the feature else can reject that feature.\n",
        "Apart from these two methods, we can measure the mutual dependence between variables such as Bedroom and Prices. Mutual information is simply a measurement of the dependence between random variables. So, in our experiment, we have variables that are non-negative value or equal to zero are independent as featured variables such as Bathroom and Price have an information gain of 0.17323631.\n",
        "\n",
        "Random Forest-based feature importance is computing the mean and standard deviation of the variables. The feature_importances_ of in Scikit-Learn is used to perform the logic. In our experiment, it can be seen that Room Distance, Landsize, and others are the essential variables. So, we will consider these variables for the experimentation. \n",
        "Thus, we have the following columns as a final featured matrix.\n",
        "\n",
        "1. Rooms\n",
        "2. Price\n",
        "3. Distance\n",
        "4. Bathroom\n",
        "5. Car\n",
        "6. Land\n",
        "7. size\n",
        "8. Lattitude\n",
        "9. Longtitude\n",
        "10. Property\n",
        "11. count\n",
        "12. month\n",
        "13. Type\n",
        "14. Method\n",
        "15. CouncilArea\n",
        "16. Metropolitan"
      ],
      "metadata": {
        "id": "1admXIZ5O8yk"
      }
    }
  ]
}