{
  "nbformat": 4,
  "nbformat_minor": 0,
  "metadata": {
    "colab": {
      "name": "AIDI_week_2_lab_2.ipynb",
      "provenance": []
    },
    "kernelspec": {
      "name": "python3",
      "display_name": "Python 3"
    },
    "language_info": {
      "name": "python"
    }
  },
  "cells": [
    {
      "cell_type": "markdown",
      "source": [
        "#### Question 1. Choose a text analytic data set from kaggle (more han 1000 rows) and apply text preprocessing techniques.\n",
        "* Examine the text data closely and see which set of stopwords you can add into your set.\n",
        "* what type of patterns should be deleted from the text\n",
        "* whether it requires lemmatization or stemming\n",
        "* output should be as clean as possible\n",
        "* special credits to some innovative techniques you can pply to clean the text apart from what discussed in the class"
      ],
      "metadata": {
        "id": "uQ1Cuwi7sH3s"
      }
    },
    {
      "cell_type": "markdown",
      "source": [
        "#### Question 2. Download the google.csv from the blackboard (Time series data set) and answer the following questions.\n",
        "* Examine the correlation in data\n",
        "* Visualize the trend in volume of stock data\n",
        "* Visualize the outliers \n",
        "* How many times open price surpassed the close price of the stock\n",
        "\n"
      ],
      "metadata": {
        "id": "ZNAFAYHdstby"
      }
    },
    {
      "cell_type": "code",
      "execution_count": null,
      "metadata": {
        "id": "5Kaqb4M1sE1B"
      },
      "outputs": [],
      "source": [
        ""
      ]
    },
    {
      "cell_type": "code",
      "source": [
        ""
      ],
      "metadata": {
        "id": "tfGjGsN6yH8d"
      },
      "execution_count": null,
      "outputs": []
    }
  ]
}