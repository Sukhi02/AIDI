{
  "nbformat": 4,
  "nbformat_minor": 0,
  "metadata": {
    "colab": {
      "name": "Project1-200501801__Sukhwinder__Singh.ipynb",
      "provenance": [],
      "mount_file_id": "1tdgVlC95tGO3Jp8s3lqgjgAY09L1Qdsn",
      "authorship_tag": "ABX9TyOalPO92LmLBiCAZBg7S/9e",
      "include_colab_link": true
    },
    "kernelspec": {
      "name": "python3",
      "display_name": "Python 3"
    },
    "language_info": {
      "name": "python"
    }
  },
  "cells": [
    {
      "cell_type": "markdown",
      "metadata": {
        "id": "view-in-github",
        "colab_type": "text"
      },
      "source": [
        "<a href=\"https://colab.research.google.com/github/Sukhi02/AIDI/blob/master/0003/Project1_200501801__Sukhwinder__Singh.ipynb\" target=\"_parent\"><img src=\"https://colab.research.google.com/assets/colab-badge.svg\" alt=\"Open In Colab\"/></a>"
      ]
    },
    {
      "cell_type": "code",
      "execution_count": 1,
      "metadata": {
        "colab": {
          "base_uri": "https://localhost:8080/"
        },
        "id": "NlL37Rf6NMS2",
        "outputId": "6225a9db-e054-4a3c-c260-c37b667f3d00"
      },
      "outputs": [
        {
          "output_type": "stream",
          "name": "stdout",
          "text": [
            "<class 'pandas.core.frame.DataFrame'>\n",
            "RangeIndex: 150 entries, 0 to 149\n",
            "Data columns (total 5 columns):\n",
            " #   Column        Non-Null Count  Dtype  \n",
            "---  ------        --------------  -----  \n",
            " 0   sepal.length  150 non-null    float64\n",
            " 1   sepal.width   150 non-null    float64\n",
            " 2   petal.length  150 non-null    float64\n",
            " 3   petal.width   150 non-null    float64\n",
            " 4   variety       150 non-null    object \n",
            "dtypes: float64(4), object(1)\n",
            "memory usage: 6.0+ KB\n",
            "<class 'pandas.core.frame.DataFrame'>\n",
            "RangeIndex: 150 entries, 0 to 149\n",
            "Data columns (total 5 columns):\n",
            " #   Column        Non-Null Count  Dtype  \n",
            "---  ------        --------------  -----  \n",
            " 0   sepal.length  150 non-null    float64\n",
            " 1   sepal.width   150 non-null    float64\n",
            " 2   petal.length  150 non-null    float64\n",
            " 3   petal.width   150 non-null    float64\n",
            " 4   variety       150 non-null    object \n",
            "dtypes: float64(4), object(1)\n",
            "memory usage: 6.0+ KB\n"
          ]
        },
        {
          "output_type": "execute_result",
          "data": {
            "text/plain": [
              "sepal.length    0\n",
              "sepal.width     0\n",
              "petal.length    0\n",
              "petal.width     0\n",
              "variety         0\n",
              "dtype: int64"
            ]
          },
          "metadata": {},
          "execution_count": 1
        }
      ],
      "source": [
        "import pandas as pd\n",
        "import matplotlib as plt\n",
        "import os \n",
        "path= \"/content/drive/MyDrive/AIDI/0003/iris.csv\"\n",
        "data = pd.read_csv(path)\n",
        "data.info()\n",
        "data.shape\n",
        "data.info()\n",
        "data.describe(include='all')\n",
        "data.duplicated().sum() \n",
        "# Total no of duplicates in the dataset3\n",
        "data[data.duplicated()] \n",
        "data['variety'].value_counts()\n",
        "data.isnull().sum(axis=0)"
      ]
    },
    {
      "cell_type": "markdown",
      "source": [
        "Q1: Perform EDA and Explore the features using histograms"
      ],
      "metadata": {
        "id": "T3_PiNioNPwC"
      }
    },
    {
      "cell_type": "code",
      "source": [
        "# Perform EDA and Explore the features using histograms\n",
        "import matplotlib.pyplot as plt\n",
        "fig, axes = plt.subplots(2, 2, figsize=(16,9))\n",
        "axes[0,0].set_title(\"Distribution of Sepal Width\")\n",
        "axes[0,0].hist(data['sepal.width'], bins=20);\n",
        "axes[0,1].set_title(\"Distribution of Sepal Length\")\n",
        "axes[0,1].hist(data['sepal.length'], bins=20);\n",
        "axes[1,0].set_title(\"Distribution of Petal Width\")\n",
        "axes[1,0].hist(data['petal.width'], bins=20);\n",
        "axes[1,1].set_title(\"Distribution of Petal Length\")\n",
        "axes[1,1].hist(data['petal.length'], bins=20);"
      ],
      "metadata": {
        "colab": {
          "base_uri": "https://localhost:8080/",
          "height": 553
        },
        "id": "_hP85G00NQ-w",
        "outputId": "52fb4b76-ffd1-40af-cb4c-ea7e0df0638e"
      },
      "execution_count": 2,
      "outputs": [
        {
          "output_type": "display_data",
          "data": {
            "image/png": "[encoded data removed]",
            "text/plain": [
              "<Figure size 1152x648 with 4 Axes>"
            ]
          },
          "metadata": {
            "needs_background": "light"
          }
        }
      ]
    },
    {
      "cell_type": "markdown",
      "source": [
        "Q2: Encode the target variable ie convert it to numeric type"
      ],
      "metadata": {
        "id": "arXSeUcQOdyZ"
      }
    },
    {
      "cell_type": "code",
      "source": [
        "#Separating dependent and independent values..\n",
        "X=data.iloc[:, :-1].values\n",
        "X\n",
        "y=data.iloc[:, -1].values\n",
        "y\n",
        "print(\"Before Encoding\")\n",
        "print(y)\t\n",
        "import numpy as np\n",
        "# Encode the target variable ie convert it to numeric type\n",
        "from sklearn.preprocessing import LabelEncoder\n",
        "le = LabelEncoder()\n",
        "y = le.fit_transform(y)\n",
        "print(\"\\n After Encoding\")\n",
        "print(y)"
      ],
      "metadata": {
        "colab": {
          "base_uri": "https://localhost:8080/"
        },
        "id": "wBGtSd4oOfPz",
        "outputId": "313a38b4-0611-4373-a68d-fd53f61aca28"
      },
      "execution_count": 3,
      "outputs": [
        {
          "output_type": "stream",
          "name": "stdout",
          "text": [
            "Before Encoding\n",
            "['Setosa' 'Setosa' 'Setosa' 'Setosa' 'Setosa' 'Setosa' 'Setosa' 'Setosa'\n",
            " 'Setosa' 'Setosa' 'Setosa' 'Setosa' 'Setosa' 'Setosa' 'Setosa' 'Setosa'\n",
            " 'Setosa' 'Setosa' 'Setosa' 'Setosa' 'Setosa' 'Setosa' 'Setosa' 'Setosa'\n",
            " 'Setosa' 'Setosa' 'Setosa' 'Setosa' 'Setosa' 'Setosa' 'Setosa' 'Setosa'\n",
            " 'Setosa' 'Setosa' 'Setosa' 'Setosa' 'Setosa' 'Setosa' 'Setosa' 'Setosa'\n",
            " 'Setosa' 'Setosa' 'Setosa' 'Setosa' 'Setosa' 'Setosa' 'Setosa' 'Setosa'\n",
            " 'Setosa' 'Setosa' 'Versicolor' 'Versicolor' 'Versicolor' 'Versicolor'\n",
            " 'Versicolor' 'Versicolor' 'Versicolor' 'Versicolor' 'Versicolor'\n",
            " 'Versicolor' 'Versicolor' 'Versicolor' 'Versicolor' 'Versicolor'\n",
            " 'Versicolor' 'Versicolor' 'Versicolor' 'Versicolor' 'Versicolor'\n",
            " 'Versicolor' 'Versicolor' 'Versicolor' 'Versicolor' 'Versicolor'\n",
            " 'Versicolor' 'Versicolor' 'Versicolor' 'Versicolor' 'Versicolor'\n",
            " 'Versicolor' 'Versicolor' 'Versicolor' 'Versicolor' 'Versicolor'\n",
            " 'Versicolor' 'Versicolor' 'Versicolor' 'Versicolor' 'Versicolor'\n",
            " 'Versicolor' 'Versicolor' 'Versicolor' 'Versicolor' 'Versicolor'\n",
            " 'Versicolor' 'Versicolor' 'Versicolor' 'Versicolor' 'Versicolor'\n",
            " 'Versicolor' 'Virginica' 'Virginica' 'Virginica' 'Virginica' 'Virginica'\n",
            " 'Virginica' 'Virginica' 'Virginica' 'Virginica' 'Virginica' 'Virginica'\n",
            " 'Virginica' 'Virginica' 'Virginica' 'Virginica' 'Virginica' 'Virginica'\n",
            " 'Virginica' 'Virginica' 'Virginica' 'Virginica' 'Virginica' 'Virginica'\n",
            " 'Virginica' 'Virginica' 'Virginica' 'Virginica' 'Virginica' 'Virginica'\n",
            " 'Virginica' 'Virginica' 'Virginica' 'Virginica' 'Virginica' 'Virginica'\n",
            " 'Virginica' 'Virginica' 'Virginica' 'Virginica' 'Virginica' 'Virginica'\n",
            " 'Virginica' 'Virginica' 'Virginica' 'Virginica' 'Virginica' 'Virginica'\n",
            " 'Virginica' 'Virginica' 'Virginica']\n",
            "\n",
            " After Encoding\n",
            "[0 0 0 0 0 0 0 0 0 0 0 0 0 0 0 0 0 0 0 0 0 0 0 0 0 0 0 0 0 0 0 0 0 0 0 0 0\n",
            " 0 0 0 0 0 0 0 0 0 0 0 0 0 1 1 1 1 1 1 1 1 1 1 1 1 1 1 1 1 1 1 1 1 1 1 1 1\n",
            " 1 1 1 1 1 1 1 1 1 1 1 1 1 1 1 1 1 1 1 1 1 1 1 1 1 1 2 2 2 2 2 2 2 2 2 2 2\n",
            " 2 2 2 2 2 2 2 2 2 2 2 2 2 2 2 2 2 2 2 2 2 2 2 2 2 2 2 2 2 2 2 2 2 2 2 2 2\n",
            " 2 2]\n"
          ]
        }
      ]
    },
    {
      "cell_type": "markdown",
      "source": [
        "Experiment using two different ratios of training, validation and test data ie 60-20-20, 80-10-10. On the two different split ratios do the following\n",
        "\n",
        "o Implement KFold Cross Validation\n",
        "\n",
        "o Implement Grid Search to find optimal hyperparameters for any 3 algorithms (out of LR, SVM, MLP, RF, Boosting)\n",
        "\n",
        "o Analyze the results on Validation set and test set and mention which model performed the best and why?\n",
        "\n",
        "o Compare the performance of models(using precision, recall, accuracy, latency). What was the best proportion or split ratio of data from the set of experiments you conducted?"
      ],
      "metadata": {
        "id": "f9k0zovqPHWg"
      }
    },
    {
      "cell_type": "code",
      "source": [
        "# -*- coding: utf-8 -*-\n",
        "\"\"\"\n",
        "Created on Mon Feb 14 04:10:23 2022\n",
        "\n",
        "@author: hp\n",
        "\"\"\"\n",
        "from sklearn.linear_model import LogisticRegression\n",
        "from sklearn.neighbors import KNeighborsClassifier\n",
        "from sklearn.svm import SVC\n",
        "from sklearn.ensemble import RandomForestClassifier\n",
        "from sklearn.naive_bayes import GaussianNB\n",
        "from sklearn import model_selection\n",
        "from sklearn.utils import class_weight\n",
        "from sklearn.metrics import classification_report\n",
        "from sklearn.metrics import confusion_matrix\n",
        "import numpy as np\n",
        "import pandas as pd\n",
        "import copy\n",
        "from sklearn.model_selection import train_test_split\n",
        "from sklearn.model_selection import RepeatedStratifiedKFold\n",
        "from sklearn.model_selection import GridSearchCV\n",
        "from sklearn.linear_model import LogisticRegression\n",
        "\n",
        "dfs = []\n",
        "models = [\n",
        "      ('LR', LogisticRegression()), \n",
        "      ('RF', RandomForestClassifier()),\n",
        "      ('SVM', SVC()),       ]\n",
        "from sklearn.model_selection import GridSearchCV\n",
        "\n",
        "\n",
        "results = []\n",
        "names = []\n",
        "scoring = ['accuracy', 'precision', 'recall', 'f1', 'roc_auc']\n",
        "target_names = ['Setosa', 'Versicolor',\"Virginca\"\n",
        "                ]\n",
        "\n",
        "solvers = ['newton-cg', 'lbfgs', 'liblinear']\n",
        "penalty = ['l2']\n",
        "c_values = [100, 10, 1.0, 0.1, 0.01]\n",
        "# define grid search\n",
        "grid = dict(solver=solvers,penalty=penalty,C=c_values)\n",
        "\n",
        "\n",
        "\n",
        "\n",
        "subsets = [0.6, 0.8]\n",
        "for subset in subsets:\n",
        "    print(subset)\n",
        "    for name, model in models:\n",
        "        \n",
        "        X_train, X_rem, y_train, y_rem = train_test_split(X,y, train_size=subset)\n",
        "        \n",
        "        X_valid, X_test, y_valid, y_test = train_test_split(X_rem,y_rem, test_size = 0.5)\n",
        "        print(\"X_train.shape >> \"+ str(X_train.shape) + \" ||  y_train.shape >> \" + str(y_train.shape))\n",
        "        print(\"X_valid.shape >> \"+ str(X_valid.shape) + \"  ||  y_valid.shape >>  \" + str(y_valid.shape))\n",
        "        print(\"X_test.shape  >> \"+ str(X_test.shape) +   \"  ||  y_test.shape  >>  \" + str(y_test.shape))\n",
        "        classifier = model.fit(X_train, y_train)\n",
        "        \n",
        "        kfold = model_selection.KFold(n_splits=12, shuffle=True, random_state=1)\n",
        "        cv_results = model_selection.cross_validate(model, X_train, y_train, cv=kfold, scoring='accuracy')\n",
        "        kfold = GridSearchCV(estimator=model, param_grid=grid, n_jobs=-1, cv=kfold, scoring='accuracy',error_score=0)\n",
        "        \n",
        "        #grid_result = grid_search.fit(X_train, y_train)\n",
        "        y_pred = classifier.predict(X_test)\n",
        "        print(name)\n",
        "        print(classification_report(y_test, y_pred, target_names=target_names))\n",
        "        print(confusion_matrix(y_test, y_pred), target_names)\n",
        "        results.append(cv_results)\n",
        "        names.append(name)\n",
        "        this_df = pd.DataFrame(cv_results)\n",
        "        this_df['model'] = name\n",
        "        this_df['subset'] = subset\n",
        "        this_df['solvers'] = solvers[0]\n",
        "        dfs.append(this_df)\n",
        "        #print(dfs)\n",
        "        final = pd.concat(dfs, ignore_index=True)\n",
        "        final = pd.DataFrame(final)\n",
        "    \n",
        "    \n",
        "        from sklearn.metrics import confusion_matrix\n",
        "        cm = confusion_matrix(y_test, y_pred)\n",
        "        #print(cm)\n",
        "        fig = plt.figure()\n",
        "        ax = fig.add_subplot(111)\n",
        "        cax = ax.matshow(cm)\n",
        "        plt.title('IRIS ->> Confusion matrix')\n",
        "        fig.colorbar(cax)\n",
        "        ax.set_xticklabels([''] + target_names)\n",
        "        ax.set_yticklabels([''] + target_names)\n",
        "        plt.xlabel('Predicted')\n",
        "        plt.ylabel('Actual')\n",
        "        plt.show()\n",
        "    \n",
        "    print()\n",
        "    print(\"Summary of the Models\")\n",
        "    print(final)\n",
        "    print()\n",
        "    print(\"BEST model\")    \n",
        "    Sorted = final.sort_values(by='test_score')\n",
        "    print(Sorted.tail(1))\n",
        "    print()\n",
        "    print(\"WORST model\")    \n",
        "    Sorted = final.sort_values(by='test_score')\n",
        "    print(Sorted.head(1))\n",
        "    \n",
        "    print(subset)\n"
      ],
      "metadata": {
        "colab": {
          "base_uri": "https://localhost:8080/",
          "height": 1000
        },
        "id": "0c6VFfVIPLPh",
        "outputId": "09aad3ec-968d-4266-abb4-12022334e43f"
      },
      "execution_count": 4,
      "outputs": [
        {
          "output_type": "stream",
          "name": "stdout",
          "text": [
            "0.6\n",
            "X_train.shape >> (90, 4) ||  y_train.shape >> (90,)\n",
            "X_valid.shape >> (30, 4)  ||  y_valid.shape >>  (30,)\n",
            "X_test.shape  >> (30, 4)  ||  y_test.shape  >>  (30,)\n"
          ]
        },
        {
          "output_type": "stream",
          "name": "stderr",
          "text": [
            "/usr/local/lib/python3.7/dist-packages/sklearn/linear_model/_logistic.py:818: ConvergenceWarning: lbfgs failed to converge (status=1):\n",
            "STOP: TOTAL NO. of ITERATIONS REACHED LIMIT.\n",
            "\n",
            "Increase the number of iterations (max_iter) or scale the data as shown in:\n",
            "    https://scikit-learn.org/stable/modules/preprocessing.html\n",
            "Please also refer to the documentation for alternative solver options:\n",
            "    https://scikit-learn.org/stable/modules/linear_model.html#logistic-regression\n",
            "  extra_warning_msg=_LOGISTIC_SOLVER_CONVERGENCE_MSG,\n",
            "/usr/local/lib/python3.7/dist-packages/sklearn/linear_model/_logistic.py:818: ConvergenceWarning: lbfgs failed to converge (status=1):\n",
            "STOP: TOTAL NO. of ITERATIONS REACHED LIMIT.\n",
            "\n",
            "Increase the number of iterations (max_iter) or scale the data as shown in:\n",
            "    https://scikit-learn.org/stable/modules/preprocessing.html\n",
            "Please also refer to the documentation for alternative solver options:\n",
            "    https://scikit-learn.org/stable/modules/linear_model.html#logistic-regression\n",
            "  extra_warning_msg=_LOGISTIC_SOLVER_CONVERGENCE_MSG,\n",
            "/usr/local/lib/python3.7/dist-packages/sklearn/linear_model/_logistic.py:818: ConvergenceWarning: lbfgs failed to converge (status=1):\n",
            "STOP: TOTAL NO. of ITERATIONS REACHED LIMIT.\n",
            "\n",
            "Increase the number of iterations (max_iter) or scale the data as shown in:\n",
            "    https://scikit-learn.org/stable/modules/preprocessing.html\n",
            "Please also refer to the documentation for alternative solver options:\n",
            "    https://scikit-learn.org/stable/modules/linear_model.html#logistic-regression\n",
            "  extra_warning_msg=_LOGISTIC_SOLVER_CONVERGENCE_MSG,\n",
            "/usr/local/lib/python3.7/dist-packages/sklearn/linear_model/_logistic.py:818: ConvergenceWarning: lbfgs failed to converge (status=1):\n",
            "STOP: TOTAL NO. of ITERATIONS REACHED LIMIT.\n",
            "\n",
            "Increase the number of iterations (max_iter) or scale the data as shown in:\n",
            "    https://scikit-learn.org/stable/modules/preprocessing.html\n",
            "Please also refer to the documentation for alternative solver options:\n",
            "    https://scikit-learn.org/stable/modules/linear_model.html#logistic-regression\n",
            "  extra_warning_msg=_LOGISTIC_SOLVER_CONVERGENCE_MSG,\n",
            "/usr/local/lib/python3.7/dist-packages/sklearn/linear_model/_logistic.py:818: ConvergenceWarning: lbfgs failed to converge (status=1):\n",
            "STOP: TOTAL NO. of ITERATIONS REACHED LIMIT.\n",
            "\n",
            "Increase the number of iterations (max_iter) or scale the data as shown in:\n",
            "    https://scikit-learn.org/stable/modules/preprocessing.html\n",
            "Please also refer to the documentation for alternative solver options:\n",
            "    https://scikit-learn.org/stable/modules/linear_model.html#logistic-regression\n",
            "  extra_warning_msg=_LOGISTIC_SOLVER_CONVERGENCE_MSG,\n"
          ]
        },
        {
          "output_type": "stream",
          "name": "stdout",
          "text": [
            "LR\n",
            "              precision    recall  f1-score   support\n",
            "\n",
            "      Setosa       1.00      1.00      1.00        11\n",
            "  Versicolor       1.00      0.91      0.95        11\n",
            "    Virginca       0.89      1.00      0.94         8\n",
            "\n",
            "    accuracy                           0.97        30\n",
            "   macro avg       0.96      0.97      0.96        30\n",
            "weighted avg       0.97      0.97      0.97        30\n",
            "\n",
            "[[11  0  0]\n",
            " [ 0 10  1]\n",
            " [ 0  0  8]] ['Setosa', 'Versicolor', 'Virginca']\n"
          ]
        },
        {
          "output_type": "display_data",
          "data": {
            "image/png": "[encoded data removed]",
            "text/plain": [
              "<Figure size 432x288 with 2 Axes>"
            ]
          },
          "metadata": {
            "needs_background": "light"
          }
        },
        {
          "output_type": "stream",
          "name": "stdout",
          "text": [
            "X_train.shape >> (90, 4) ||  y_train.shape >> (90,)\n",
            "X_valid.shape >> (30, 4)  ||  y_valid.shape >>  (30,)\n",
            "X_test.shape  >> (30, 4)  ||  y_test.shape  >>  (30,)\n",
            "RF\n",
            "              precision    recall  f1-score   support\n",
            "\n",
            "      Setosa       1.00      1.00      1.00        14\n",
            "  Versicolor       1.00      1.00      1.00         8\n",
            "    Virginca       1.00      1.00      1.00         8\n",
            "\n",
            "    accuracy                           1.00        30\n",
            "   macro avg       1.00      1.00      1.00        30\n",
            "weighted avg       1.00      1.00      1.00        30\n",
            "\n",
            "[[14  0  0]\n",
            " [ 0  8  0]\n",
            " [ 0  0  8]] ['Setosa', 'Versicolor', 'Virginca']\n"
          ]
        },
        {
          "output_type": "display_data",
          "data": {
            "image/png": "[encoded data removed]",
            "text/plain": [
              "<Figure size 432x288 with 2 Axes>"
            ]
          },
          "metadata": {
            "needs_background": "light"
          }
        },
        {
          "output_type": "stream",
          "name": "stdout",
          "text": [
            "X_train.shape >> (90, 4) ||  y_train.shape >> (90,)\n",
            "X_valid.shape >> (30, 4)  ||  y_valid.shape >>  (30,)\n",
            "X_test.shape  >> (30, 4)  ||  y_test.shape  >>  (30,)\n",
            "SVM\n",
            "              precision    recall  f1-score   support\n",
            "\n",
            "      Setosa       1.00      1.00      1.00        10\n",
            "  Versicolor       1.00      1.00      1.00        14\n",
            "    Virginca       1.00      1.00      1.00         6\n",
            "\n",
            "    accuracy                           1.00        30\n",
            "   macro avg       1.00      1.00      1.00        30\n",
            "weighted avg       1.00      1.00      1.00        30\n",
            "\n",
            "[[10  0  0]\n",
            " [ 0 14  0]\n",
            " [ 0  0  6]] ['Setosa', 'Versicolor', 'Virginca']\n"
          ]
        },
        {
          "output_type": "display_data",
          "data": {
            "image/png": "[encoded data removed]",
            "text/plain": [
              "<Figure size 432x288 with 2 Axes>"
            ]
          },
          "metadata": {
            "needs_background": "light"
          }
        },
        {
          "output_type": "stream",
          "name": "stdout",
          "text": [
            "\n",
            "Summary of the Models\n",
            "    fit_time  score_time  test_score model  subset    solvers\n",
            "0   0.030185    0.000620    1.000000    LR     0.6  newton-cg\n",
            "1   0.024049    0.000457    1.000000    LR     0.6  newton-cg\n",
            "2   0.031128    0.000430    1.000000    LR     0.6  newton-cg\n",
            "3   0.040085    0.000397    1.000000    LR     0.6  newton-cg\n",
            "4   0.026641    0.000397    1.000000    LR     0.6  newton-cg\n",
            "5   0.024884    0.000413    1.000000    LR     0.6  newton-cg\n",
            "6   0.024773    0.000439    1.000000    LR     0.6  newton-cg\n",
            "7   0.023137    0.000457    0.857143    LR     0.6  newton-cg\n",
            "8   0.024822    0.000424    1.000000    LR     0.6  newton-cg\n",
            "9   0.026288    0.000394    1.000000    LR     0.6  newton-cg\n",
            "10  0.024111    0.000396    1.000000    LR     0.6  newton-cg\n",
            "11  0.032829    0.000425    1.000000    LR     0.6  newton-cg\n",
            "12  0.169595    0.018164    0.875000    RF     0.6  newton-cg\n",
            "13  0.263657    0.011035    1.000000    RF     0.6  newton-cg\n",
            "14  0.140326    0.011458    0.875000    RF     0.6  newton-cg\n",
            "15  0.140920    0.010022    0.875000    RF     0.6  newton-cg\n",
            "16  0.152027    0.010140    0.750000    RF     0.6  newton-cg\n",
            "17  0.258355    0.025905    0.875000    RF     0.6  newton-cg\n",
            "18  0.271384    0.020108    1.000000    RF     0.6  newton-cg\n",
            "19  0.242299    0.034922    1.000000    RF     0.6  newton-cg\n",
            "20  0.273105    0.020096    0.714286    RF     0.6  newton-cg\n",
            "21  0.307669    0.022539    1.000000    RF     0.6  newton-cg\n",
            "22  0.312102    0.020305    0.857143    RF     0.6  newton-cg\n",
            "23  0.340772    0.021572    1.000000    RF     0.6  newton-cg\n",
            "24  0.001696    0.000872    1.000000   SVM     0.6  newton-cg\n",
            "25  0.001827    0.000663    0.875000   SVM     0.6  newton-cg\n",
            "26  0.001530    0.000633    1.000000   SVM     0.6  newton-cg\n",
            "27  0.001236    0.000610    0.750000   SVM     0.6  newton-cg\n",
            "28  0.001209    0.000637    1.000000   SVM     0.6  newton-cg\n",
            "29  0.001237    0.000624    1.000000   SVM     0.6  newton-cg\n",
            "30  0.001183    0.000601    1.000000   SVM     0.6  newton-cg\n",
            "31  0.001250    0.000630    1.000000   SVM     0.6  newton-cg\n",
            "32  0.001180    0.000577    0.857143   SVM     0.6  newton-cg\n",
            "33  0.001173    0.000586    1.000000   SVM     0.6  newton-cg\n",
            "34  0.001194    0.000586    1.000000   SVM     0.6  newton-cg\n",
            "35  0.001189    0.000618    1.000000   SVM     0.6  newton-cg\n",
            "\n",
            "BEST model\n",
            "    fit_time  score_time  test_score model  subset    solvers\n",
            "35  0.001189    0.000618         1.0   SVM     0.6  newton-cg\n",
            "\n",
            "WORST model\n",
            "    fit_time  score_time  test_score model  subset    solvers\n",
            "20  0.273105    0.020096    0.714286    RF     0.6  newton-cg\n",
            "0.6\n",
            "0.8\n",
            "X_train.shape >> (120, 4) ||  y_train.shape >> (120,)\n",
            "X_valid.shape >> (15, 4)  ||  y_valid.shape >>  (15,)\n",
            "X_test.shape  >> (15, 4)  ||  y_test.shape  >>  (15,)\n"
          ]
        },
        {
          "output_type": "stream",
          "name": "stderr",
          "text": [
            "/usr/local/lib/python3.7/dist-packages/sklearn/linear_model/_logistic.py:818: ConvergenceWarning: lbfgs failed to converge (status=1):\n",
            "STOP: TOTAL NO. of ITERATIONS REACHED LIMIT.\n",
            "\n",
            "Increase the number of iterations (max_iter) or scale the data as shown in:\n",
            "    https://scikit-learn.org/stable/modules/preprocessing.html\n",
            "Please also refer to the documentation for alternative solver options:\n",
            "    https://scikit-learn.org/stable/modules/linear_model.html#logistic-regression\n",
            "  extra_warning_msg=_LOGISTIC_SOLVER_CONVERGENCE_MSG,\n",
            "/usr/local/lib/python3.7/dist-packages/sklearn/linear_model/_logistic.py:818: ConvergenceWarning: lbfgs failed to converge (status=1):\n",
            "STOP: TOTAL NO. of ITERATIONS REACHED LIMIT.\n",
            "\n",
            "Increase the number of iterations (max_iter) or scale the data as shown in:\n",
            "    https://scikit-learn.org/stable/modules/preprocessing.html\n",
            "Please also refer to the documentation for alternative solver options:\n",
            "    https://scikit-learn.org/stable/modules/linear_model.html#logistic-regression\n",
            "  extra_warning_msg=_LOGISTIC_SOLVER_CONVERGENCE_MSG,\n",
            "/usr/local/lib/python3.7/dist-packages/sklearn/linear_model/_logistic.py:818: ConvergenceWarning: lbfgs failed to converge (status=1):\n",
            "STOP: TOTAL NO. of ITERATIONS REACHED LIMIT.\n",
            "\n",
            "Increase the number of iterations (max_iter) or scale the data as shown in:\n",
            "    https://scikit-learn.org/stable/modules/preprocessing.html\n",
            "Please also refer to the documentation for alternative solver options:\n",
            "    https://scikit-learn.org/stable/modules/linear_model.html#logistic-regression\n",
            "  extra_warning_msg=_LOGISTIC_SOLVER_CONVERGENCE_MSG,\n",
            "/usr/local/lib/python3.7/dist-packages/sklearn/linear_model/_logistic.py:818: ConvergenceWarning: lbfgs failed to converge (status=1):\n",
            "STOP: TOTAL NO. of ITERATIONS REACHED LIMIT.\n",
            "\n",
            "Increase the number of iterations (max_iter) or scale the data as shown in:\n",
            "    https://scikit-learn.org/stable/modules/preprocessing.html\n",
            "Please also refer to the documentation for alternative solver options:\n",
            "    https://scikit-learn.org/stable/modules/linear_model.html#logistic-regression\n",
            "  extra_warning_msg=_LOGISTIC_SOLVER_CONVERGENCE_MSG,\n",
            "/usr/local/lib/python3.7/dist-packages/sklearn/linear_model/_logistic.py:818: ConvergenceWarning: lbfgs failed to converge (status=1):\n",
            "STOP: TOTAL NO. of ITERATIONS REACHED LIMIT.\n",
            "\n",
            "Increase the number of iterations (max_iter) or scale the data as shown in:\n",
            "    https://scikit-learn.org/stable/modules/preprocessing.html\n",
            "Please also refer to the documentation for alternative solver options:\n",
            "    https://scikit-learn.org/stable/modules/linear_model.html#logistic-regression\n",
            "  extra_warning_msg=_LOGISTIC_SOLVER_CONVERGENCE_MSG,\n",
            "/usr/local/lib/python3.7/dist-packages/sklearn/linear_model/_logistic.py:818: ConvergenceWarning: lbfgs failed to converge (status=1):\n",
            "STOP: TOTAL NO. of ITERATIONS REACHED LIMIT.\n",
            "\n",
            "Increase the number of iterations (max_iter) or scale the data as shown in:\n",
            "    https://scikit-learn.org/stable/modules/preprocessing.html\n",
            "Please also refer to the documentation for alternative solver options:\n",
            "    https://scikit-learn.org/stable/modules/linear_model.html#logistic-regression\n",
            "  extra_warning_msg=_LOGISTIC_SOLVER_CONVERGENCE_MSG,\n",
            "/usr/local/lib/python3.7/dist-packages/sklearn/linear_model/_logistic.py:818: ConvergenceWarning: lbfgs failed to converge (status=1):\n",
            "STOP: TOTAL NO. of ITERATIONS REACHED LIMIT.\n",
            "\n",
            "Increase the number of iterations (max_iter) or scale the data as shown in:\n",
            "    https://scikit-learn.org/stable/modules/preprocessing.html\n",
            "Please also refer to the documentation for alternative solver options:\n",
            "    https://scikit-learn.org/stable/modules/linear_model.html#logistic-regression\n",
            "  extra_warning_msg=_LOGISTIC_SOLVER_CONVERGENCE_MSG,\n",
            "/usr/local/lib/python3.7/dist-packages/sklearn/linear_model/_logistic.py:818: ConvergenceWarning: lbfgs failed to converge (status=1):\n",
            "STOP: TOTAL NO. of ITERATIONS REACHED LIMIT.\n",
            "\n",
            "Increase the number of iterations (max_iter) or scale the data as shown in:\n",
            "    https://scikit-learn.org/stable/modules/preprocessing.html\n",
            "Please also refer to the documentation for alternative solver options:\n",
            "    https://scikit-learn.org/stable/modules/linear_model.html#logistic-regression\n",
            "  extra_warning_msg=_LOGISTIC_SOLVER_CONVERGENCE_MSG,\n",
            "/usr/local/lib/python3.7/dist-packages/sklearn/linear_model/_logistic.py:818: ConvergenceWarning: lbfgs failed to converge (status=1):\n",
            "STOP: TOTAL NO. of ITERATIONS REACHED LIMIT.\n",
            "\n",
            "Increase the number of iterations (max_iter) or scale the data as shown in:\n",
            "    https://scikit-learn.org/stable/modules/preprocessing.html\n",
            "Please also refer to the documentation for alternative solver options:\n",
            "    https://scikit-learn.org/stable/modules/linear_model.html#logistic-regression\n",
            "  extra_warning_msg=_LOGISTIC_SOLVER_CONVERGENCE_MSG,\n",
            "/usr/local/lib/python3.7/dist-packages/sklearn/linear_model/_logistic.py:818: ConvergenceWarning: lbfgs failed to converge (status=1):\n",
            "STOP: TOTAL NO. of ITERATIONS REACHED LIMIT.\n",
            "\n",
            "Increase the number of iterations (max_iter) or scale the data as shown in:\n",
            "    https://scikit-learn.org/stable/modules/preprocessing.html\n",
            "Please also refer to the documentation for alternative solver options:\n",
            "    https://scikit-learn.org/stable/modules/linear_model.html#logistic-regression\n",
            "  extra_warning_msg=_LOGISTIC_SOLVER_CONVERGENCE_MSG,\n"
          ]
        },
        {
          "output_type": "stream",
          "name": "stdout",
          "text": [
            "LR\n",
            "              precision    recall  f1-score   support\n",
            "\n",
            "      Setosa       1.00      1.00      1.00         4\n",
            "  Versicolor       1.00      1.00      1.00         5\n",
            "    Virginca       1.00      1.00      1.00         6\n",
            "\n",
            "    accuracy                           1.00        15\n",
            "   macro avg       1.00      1.00      1.00        15\n",
            "weighted avg       1.00      1.00      1.00        15\n",
            "\n",
            "[[4 0 0]\n",
            " [0 5 0]\n",
            " [0 0 6]] ['Setosa', 'Versicolor', 'Virginca']\n"
          ]
        },
        {
          "output_type": "display_data",
          "data": {
            "image/png": "[encoded data removed]",
            "text/plain": [
              "<Figure size 432x288 with 2 Axes>"
            ]
          },
          "metadata": {
            "needs_background": "light"
          }
        },
        {
          "output_type": "stream",
          "name": "stdout",
          "text": [
            "X_train.shape >> (120, 4) ||  y_train.shape >> (120,)\n",
            "X_valid.shape >> (15, 4)  ||  y_valid.shape >>  (15,)\n",
            "X_test.shape  >> (15, 4)  ||  y_test.shape  >>  (15,)\n",
            "RF\n",
            "              precision    recall  f1-score   support\n",
            "\n",
            "      Setosa       1.00      1.00      1.00         7\n",
            "  Versicolor       1.00      1.00      1.00         4\n",
            "    Virginca       1.00      1.00      1.00         4\n",
            "\n",
            "    accuracy                           1.00        15\n",
            "   macro avg       1.00      1.00      1.00        15\n",
            "weighted avg       1.00      1.00      1.00        15\n",
            "\n",
            "[[7 0 0]\n",
            " [0 4 0]\n",
            " [0 0 4]] ['Setosa', 'Versicolor', 'Virginca']\n"
          ]
        },
        {
          "output_type": "display_data",
          "data": {
            "image/png": "[encoded data removed]",
            "text/plain": [
              "<Figure size 432x288 with 2 Axes>"
            ]
          },
          "metadata": {
            "needs_background": "light"
          }
        },
        {
          "output_type": "stream",
          "name": "stdout",
          "text": [
            "X_train.shape >> (120, 4) ||  y_train.shape >> (120,)\n",
            "X_valid.shape >> (15, 4)  ||  y_valid.shape >>  (15,)\n",
            "X_test.shape  >> (15, 4)  ||  y_test.shape  >>  (15,)\n",
            "SVM\n",
            "              precision    recall  f1-score   support\n",
            "\n",
            "      Setosa       1.00      1.00      1.00         4\n",
            "  Versicolor       1.00      1.00      1.00         7\n",
            "    Virginca       1.00      1.00      1.00         4\n",
            "\n",
            "    accuracy                           1.00        15\n",
            "   macro avg       1.00      1.00      1.00        15\n",
            "weighted avg       1.00      1.00      1.00        15\n",
            "\n",
            "[[4 0 0]\n",
            " [0 7 0]\n",
            " [0 0 4]] ['Setosa', 'Versicolor', 'Virginca']\n"
          ]
        },
        {
          "output_type": "display_data",
          "data": {
            "image/png": "[encoded data removed]",
            "text/plain": [
              "<Figure size 432x288 with 2 Axes>"
            ]
          },
          "metadata": {
            "needs_background": "light"
          }
        },
        {
          "output_type": "stream",
          "name": "stdout",
          "text": [
            "\n",
            "Summary of the Models\n",
            "    fit_time  score_time  test_score model  subset    solvers\n",
            "0   0.030185    0.000620         1.0    LR     0.6  newton-cg\n",
            "1   0.024049    0.000457         1.0    LR     0.6  newton-cg\n",
            "2   0.031128    0.000430         1.0    LR     0.6  newton-cg\n",
            "3   0.040085    0.000397         1.0    LR     0.6  newton-cg\n",
            "4   0.026641    0.000397         1.0    LR     0.6  newton-cg\n",
            "..       ...         ...         ...   ...     ...        ...\n",
            "67  0.001400    0.000644         0.9   SVM     0.8  newton-cg\n",
            "68  0.001383    0.000644         1.0   SVM     0.8  newton-cg\n",
            "69  0.001449    0.000616         0.8   SVM     0.8  newton-cg\n",
            "70  0.001338    0.000591         0.9   SVM     0.8  newton-cg\n",
            "71  0.001323    0.000608         1.0   SVM     0.8  newton-cg\n",
            "\n",
            "[72 rows x 6 columns]\n",
            "\n",
            "BEST model\n",
            "    fit_time  score_time  test_score model  subset    solvers\n",
            "71  0.001323    0.000608         1.0   SVM     0.8  newton-cg\n",
            "\n",
            "WORST model\n",
            "    fit_time  score_time  test_score model  subset    solvers\n",
            "20  0.273105    0.020096    0.714286    RF     0.6  newton-cg\n",
            "0.8\n"
          ]
        }
      ]
    },
    {
      "cell_type": "markdown",
      "source": [
        " Analyze the results on Validation set and test set and mention which model performed the best and why? \n",
        "\n",
        " In the experiement, the IRIS dataset is implemented. the acauqred dataset is processed with different classifiers suchas Logisitic Regression, Random Forest and SVC.  \n",
        " In the Experiement, it is seen that the best suited model for the dataset is SVC i.e., Support Vector Classifier having accuracy 99% and the worst model is RF (Random Forest). "
      ],
      "metadata": {
        "id": "zTTZfiE_RfOU"
      }
    }
  ]
}