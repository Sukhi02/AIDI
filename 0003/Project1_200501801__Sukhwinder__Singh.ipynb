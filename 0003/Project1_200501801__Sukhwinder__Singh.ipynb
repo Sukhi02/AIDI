{
  "nbformat": 4,
  "nbformat_minor": 0,
  "metadata": {
    "colab": {
      "name": "Project1-200501801__Sukhwinder__Singh.ipynb",
      "provenance": [],
      "mount_file_id": "1tdgVlC95tGO3Jp8s3lqgjgAY09L1Qdsn",
      "authorship_tag": "ABX9TyOe2btfEXn/jnwOtz7cxMIf",
      "include_colab_link": true
    },
    "kernelspec": {
      "name": "python3",
      "display_name": "Python 3"
    },
    "language_info": {
      "name": "python"
    }
  },
  "cells": [
    {
      "cell_type": "markdown",
      "metadata": {
        "id": "view-in-github",
        "colab_type": "text"
      },
      "source": [
        "<a href=\"https://colab.research.google.com/github/Sukhi02/AIDI/blob/master/0003/Project1_200501801__Sukhwinder__Singh.ipynb\" target=\"_parent\"><img src=\"https://colab.research.google.com/assets/colab-badge.svg\" alt=\"Open In Colab\"/></a>"
      ]
    },
    {
      "cell_type": "markdown",
      "source": [
        "Data Acquistion"
      ],
      "metadata": {
        "id": "revQvaKIpnBN"
      }
    },
    {
      "cell_type": "code",
      "execution_count": 1,
      "metadata": {
        "colab": {
          "base_uri": "https://localhost:8080/"
        },
        "id": "NlL37Rf6NMS2",
        "outputId": "6a0c5c12-a535-4aa9-f189-597646e19fdd"
      },
      "outputs": [
        {
          "output_type": "stream",
          "name": "stdout",
          "text": [
            "<class 'pandas.core.frame.DataFrame'>\n",
            "RangeIndex: 150 entries, 0 to 149\n",
            "Data columns (total 5 columns):\n",
            " #   Column        Non-Null Count  Dtype  \n",
            "---  ------        --------------  -----  \n",
            " 0   sepal.length  150 non-null    float64\n",
            " 1   sepal.width   150 non-null    float64\n",
            " 2   petal.length  150 non-null    float64\n",
            " 3   petal.width   150 non-null    float64\n",
            " 4   variety       150 non-null    object \n",
            "dtypes: float64(4), object(1)\n",
            "memory usage: 6.0+ KB\n",
            "<class 'pandas.core.frame.DataFrame'>\n",
            "RangeIndex: 150 entries, 0 to 149\n",
            "Data columns (total 5 columns):\n",
            " #   Column        Non-Null Count  Dtype  \n",
            "---  ------        --------------  -----  \n",
            " 0   sepal.length  150 non-null    float64\n",
            " 1   sepal.width   150 non-null    float64\n",
            " 2   petal.length  150 non-null    float64\n",
            " 3   petal.width   150 non-null    float64\n",
            " 4   variety       150 non-null    object \n",
            "dtypes: float64(4), object(1)\n",
            "memory usage: 6.0+ KB\n"
          ]
        },
        {
          "output_type": "execute_result",
          "data": {
            "text/plain": [
              "sepal.length    0\n",
              "sepal.width     0\n",
              "petal.length    0\n",
              "petal.width     0\n",
              "variety         0\n",
              "dtype: int64"
            ]
          },
          "metadata": {},
          "execution_count": 1
        }
      ],
      "source": [
        "import pandas as pd\n",
        "import matplotlib as plt\n",
        "import os \n",
        "path= \"/content/drive/MyDrive/AIDI/0003/iris.csv\"\n",
        "data = pd.read_csv(path)\n",
        "data.info()\n",
        "data.shape\n",
        "data.info()\n",
        "data.describe(include='all')\n",
        "data.duplicated().sum() \n",
        "# Total no of duplicates in the dataset3\n",
        "data[data.duplicated()] \n",
        "data['variety'].value_counts()\n",
        "data.isnull().sum(axis=0)"
      ]
    },
    {
      "cell_type": "markdown",
      "source": [
        "Q1: Perform EDA and Explore the features using histograms"
      ],
      "metadata": {
        "id": "T3_PiNioNPwC"
      }
    },
    {
      "cell_type": "code",
      "source": [
        "# Perform EDA and Explore the features using histograms\n",
        "import matplotlib.pyplot as plt\n",
        "fig, axes = plt.subplots(2, 2, figsize=(16,9))\n",
        "axes[0,0].set_title(\"Distribution of Sepal Width\")\n",
        "axes[0,0].hist(data['sepal.width'], bins=20);\n",
        "axes[0,1].set_title(\"Distribution of Sepal Length\")\n",
        "axes[0,1].hist(data['sepal.length'], bins=20);\n",
        "axes[1,0].set_title(\"Distribution of Petal Width\")\n",
        "axes[1,0].hist(data['petal.width'], bins=20);\n",
        "axes[1,1].set_title(\"Distribution of Petal Length\")\n",
        "axes[1,1].hist(data['petal.length'], bins=20);"
      ],
      "metadata": {
        "colab": {
          "base_uri": "https://localhost:8080/",
          "height": 553
        },
        "id": "_hP85G00NQ-w",
        "outputId": "eee4e6f4-477c-4ff9-bfea-b65091015471"
      },
      "execution_count": 2,
      "outputs": [
        {
          "output_type": "display_data",
          "data": {
            "image/png": "[encoded data removed]",
            "text/plain": [
              "<Figure size 1152x648 with 4 Axes>"
            ]
          },
          "metadata": {
            "needs_background": "light"
          }
        }
      ]
    },
    {
      "cell_type": "markdown",
      "source": [
        "Q2: Encode the target variable ie convert it to numeric type"
      ],
      "metadata": {
        "id": "arXSeUcQOdyZ"
      }
    },
    {
      "cell_type": "code",
      "source": [
        "#Separating dependent and independent values..\n",
        "X=data.iloc[:, :-1].values\n",
        "X\n",
        "y=data.iloc[:, -1].values\n",
        "y\n",
        "print(\"Before Encoding\")\n",
        "print(y)\t\n",
        "import numpy as np\n",
        "# Encode the target variable ie convert it to numeric type\n",
        "from sklearn.preprocessing import LabelEncoder\n",
        "le = LabelEncoder()\n",
        "y = le.fit_transform(y)\n",
        "print(\"\\n After Encoding\")\n",
        "print(y)"
      ],
      "metadata": {
        "colab": {
          "base_uri": "https://localhost:8080/"
        },
        "id": "wBGtSd4oOfPz",
        "outputId": "1595098f-f991-4d2e-b9b2-57652028ab42"
      },
      "execution_count": 3,
      "outputs": [
        {
          "output_type": "stream",
          "name": "stdout",
          "text": [
            "Before Encoding\n",
            "['Setosa' 'Setosa' 'Setosa' 'Setosa' 'Setosa' 'Setosa' 'Setosa' 'Setosa'\n",
            " 'Setosa' 'Setosa' 'Setosa' 'Setosa' 'Setosa' 'Setosa' 'Setosa' 'Setosa'\n",
            " 'Setosa' 'Setosa' 'Setosa' 'Setosa' 'Setosa' 'Setosa' 'Setosa' 'Setosa'\n",
            " 'Setosa' 'Setosa' 'Setosa' 'Setosa' 'Setosa' 'Setosa' 'Setosa' 'Setosa'\n",
            " 'Setosa' 'Setosa' 'Setosa' 'Setosa' 'Setosa' 'Setosa' 'Setosa' 'Setosa'\n",
            " 'Setosa' 'Setosa' 'Setosa' 'Setosa' 'Setosa' 'Setosa' 'Setosa' 'Setosa'\n",
            " 'Setosa' 'Setosa' 'Versicolor' 'Versicolor' 'Versicolor' 'Versicolor'\n",
            " 'Versicolor' 'Versicolor' 'Versicolor' 'Versicolor' 'Versicolor'\n",
            " 'Versicolor' 'Versicolor' 'Versicolor' 'Versicolor' 'Versicolor'\n",
            " 'Versicolor' 'Versicolor' 'Versicolor' 'Versicolor' 'Versicolor'\n",
            " 'Versicolor' 'Versicolor' 'Versicolor' 'Versicolor' 'Versicolor'\n",
            " 'Versicolor' 'Versicolor' 'Versicolor' 'Versicolor' 'Versicolor'\n",
            " 'Versicolor' 'Versicolor' 'Versicolor' 'Versicolor' 'Versicolor'\n",
            " 'Versicolor' 'Versicolor' 'Versicolor' 'Versicolor' 'Versicolor'\n",
            " 'Versicolor' 'Versicolor' 'Versicolor' 'Versicolor' 'Versicolor'\n",
            " 'Versicolor' 'Versicolor' 'Versicolor' 'Versicolor' 'Versicolor'\n",
            " 'Versicolor' 'Virginica' 'Virginica' 'Virginica' 'Virginica' 'Virginica'\n",
            " 'Virginica' 'Virginica' 'Virginica' 'Virginica' 'Virginica' 'Virginica'\n",
            " 'Virginica' 'Virginica' 'Virginica' 'Virginica' 'Virginica' 'Virginica'\n",
            " 'Virginica' 'Virginica' 'Virginica' 'Virginica' 'Virginica' 'Virginica'\n",
            " 'Virginica' 'Virginica' 'Virginica' 'Virginica' 'Virginica' 'Virginica'\n",
            " 'Virginica' 'Virginica' 'Virginica' 'Virginica' 'Virginica' 'Virginica'\n",
            " 'Virginica' 'Virginica' 'Virginica' 'Virginica' 'Virginica' 'Virginica'\n",
            " 'Virginica' 'Virginica' 'Virginica' 'Virginica' 'Virginica' 'Virginica'\n",
            " 'Virginica' 'Virginica' 'Virginica']\n",
            "\n",
            " After Encoding\n",
            "[0 0 0 0 0 0 0 0 0 0 0 0 0 0 0 0 0 0 0 0 0 0 0 0 0 0 0 0 0 0 0 0 0 0 0 0 0\n",
            " 0 0 0 0 0 0 0 0 0 0 0 0 0 1 1 1 1 1 1 1 1 1 1 1 1 1 1 1 1 1 1 1 1 1 1 1 1\n",
            " 1 1 1 1 1 1 1 1 1 1 1 1 1 1 1 1 1 1 1 1 1 1 1 1 1 1 2 2 2 2 2 2 2 2 2 2 2\n",
            " 2 2 2 2 2 2 2 2 2 2 2 2 2 2 2 2 2 2 2 2 2 2 2 2 2 2 2 2 2 2 2 2 2 2 2 2 2\n",
            " 2 2]\n"
          ]
        }
      ]
    },
    {
      "cell_type": "markdown",
      "source": [
        "Experiment using two different ratios of training, validation and test data ie 60-20-20, 80-10-10. On the two different split ratios do the following\n",
        "\n",
        "o Implement KFold Cross Validation\n",
        "\n",
        "o Implement Grid Search to find optimal hyperparameters for any 3 algorithms (out of LR, SVM, MLP, RF, Boosting)\n",
        "\n",
        "o Analyze the results on Validation set and test set and mention which model performed the best and why?\n",
        "\n",
        "o Compare the performance of models(using precision, recall, accuracy, latency). What was the best proportion or split ratio of data from the set of experiments you conducted?"
      ],
      "metadata": {
        "id": "f9k0zovqPHWg"
      }
    },
    {
      "cell_type": "code",
      "source": [
        "# -*- coding: utf-8 -*-\n",
        "\"\"\"\n",
        "Created on Mon Feb 14 04:10:23 2022\n",
        "\n",
        "@author: hp\n",
        "\"\"\"\n",
        "from sklearn.linear_model import LogisticRegression\n",
        "from sklearn.neighbors import KNeighborsClassifier\n",
        "from sklearn.svm import SVC\n",
        "from sklearn.ensemble import RandomForestClassifier\n",
        "from sklearn.naive_bayes import GaussianNB\n",
        "from sklearn import model_selection\n",
        "from sklearn.utils import class_weight\n",
        "from sklearn.metrics import classification_report\n",
        "from sklearn.metrics import confusion_matrix\n",
        "import numpy as np\n",
        "import pandas as pd\n",
        "import copy\n",
        "from sklearn.model_selection import train_test_split\n",
        "from sklearn.model_selection import RepeatedStratifiedKFold\n",
        "from sklearn.model_selection import GridSearchCV\n",
        "from sklearn.linear_model import LogisticRegression\n",
        "\n",
        "dfs = []\n",
        "models = [\n",
        "      ('LR', LogisticRegression()), \n",
        "      ('RF', RandomForestClassifier()),\n",
        "      ('SVM', SVC()),       ]\n",
        "from sklearn.model_selection import GridSearchCV\n",
        "\n",
        "\n",
        "results = []\n",
        "names = []\n",
        "scoring = ['accuracy', 'precision', 'recall', 'f1', 'roc_auc']\n",
        "solvers = ['newton-cg', 'lbfgs', 'liblinear']\n",
        "penalty = ['l2']\n",
        "c_values = [100, 10, 1.0, 0.1, 0.01]\n",
        "target_names = ['Setosa', 'Versicolor',\"Virginca\"\n",
        "# define grid search\n",
        "grid = dict(solver=solvers,penalty=penalty,C=c_values)\n",
        "subsets = [0.6, 0.8]\n",
        "for subset in subsets:\n",
        "    print(subset)\n",
        "    for name, model in models:\n",
        "        \n",
        "        X_train, X_rem, y_train, y_rem = train_test_split(X,y, train_size=subset)\n",
        "        \n",
        "        X_valid, X_test, y_valid, y_test = train_test_split(X_rem,y_rem, test_size = 0.5)\n",
        "        print(\"X_train.shape >> \"+ str(X_train.shape) + \" ||  y_train.shape >> \" + str(y_train.shape))\n",
        "        print(\"X_valid.shape >> \"+ str(X_valid.shape) + \"  ||  y_valid.shape >>  \" + str(y_valid.shape))\n",
        "        print(\"X_test.shape  >> \"+ str(X_test.shape) +   \"  ||  y_test.shape  >>  \" + str(y_test.shape))\n",
        "        classifier = model.fit(X_train, y_train)\n",
        "        \n",
        "        kfold = model_selection.KFold(n_splits=12, shuffle=True, random_state=1)\n",
        "        cv_results = model_selection.cross_validate(model, X_train, y_train, cv=kfold, scoring='accuracy')\n",
        "        kfold = GridSearchCV(estimator=model, param_grid=grid, n_jobs=-1, cv=kfold, scoring='accuracy',error_score=0)\n",
        "        \n",
        "        #grid_result = grid_search.fit(X_train, y_train)\n",
        "        y_pred = classifier.predict(X_test)\n",
        "        print(name)\n",
        "        print(classification_report(y_test, y_pred, target_names=target_names))\n",
        "        print(confusion_matrix(y_test, y_pred), target_names)\n",
        "        results.append(cv_results)\n",
        "        names.append(name)\n",
        "        this_df = pd.DataFrame(cv_results)\n",
        "        this_df['model'] = name\n",
        "        this_df['subset'] = subset\n",
        "        this_df['solvers'] = solvers[0]\n",
        "        dfs.append(this_df)\n",
        "        #print(dfs)\n",
        "        final = pd.concat(dfs, ignore_index=True)\n",
        "        final = pd.DataFrame(final)\n",
        "    \n",
        "    \n",
        "        from sklearn.metrics import confusion_matrix\n",
        "        cm = confusion_matrix(y_test, y_pred)\n",
        "        #print(cm)\n",
        "        fig = plt.figure()\n",
        "        ax = fig.add_subplot(111)\n",
        "        cax = ax.matshow(cm)\n",
        "        plt.title('IRIS ->> Confusion matrix')\n",
        "        fig.colorbar(cax)\n",
        "        ax.set_xticklabels([''] + target_names)\n",
        "        ax.set_yticklabels([''] + target_names)\n",
        "        plt.xlabel('Predicted')\n",
        "        plt.ylabel('Actual')\n",
        "        plt.show()\n",
        "    \n",
        "    print()\n",
        "    print(\"Summary of the Models\")\n",
        "    print(final)\n",
        "    print()\n",
        "    print(\"BEST model\")    \n",
        "    Sorted = final.sort_values(by='test_score')\n",
        "    print(Sorted.tail(1))\n",
        "    print()\n",
        "    print(\"WORST model\")    \n",
        "    Sorted = final.sort_values(by='test_score')\n",
        "    print(Sorted.head(1))\n",
        "    \n",
        "    print(subset)\n"
      ],
      "metadata": {
        "colab": {
          "base_uri": "https://localhost:8080/",
          "height": 1000
        },
        "id": "0c6VFfVIPLPh",
        "outputId": "3f4a469e-54e4-4522-da04-0e113b6f3988"
      },
      "execution_count": 4,
      "outputs": [
        {
          "output_type": "stream",
          "name": "stdout",
          "text": [
            "0.6\n",
            "X_train.shape >> (90, 4) ||  y_train.shape >> (90,)\n",
            "X_valid.shape >> (30, 4)  ||  y_valid.shape >>  (30,)\n",
            "X_test.shape  >> (30, 4)  ||  y_test.shape  >>  (30,)\n"
          ]
        },
        {
          "output_type": "stream",
          "name": "stderr",
          "text": [
            "/usr/local/lib/python3.7/dist-packages/sklearn/linear_model/_logistic.py:818: ConvergenceWarning: lbfgs failed to converge (status=1):\n",
            "STOP: TOTAL NO. of ITERATIONS REACHED LIMIT.\n",
            "\n",
            "Increase the number of iterations (max_iter) or scale the data as shown in:\n",
            "    https://scikit-learn.org/stable/modules/preprocessing.html\n",
            "Please also refer to the documentation for alternative solver options:\n",
            "    https://scikit-learn.org/stable/modules/linear_model.html#logistic-regression\n",
            "  extra_warning_msg=_LOGISTIC_SOLVER_CONVERGENCE_MSG,\n",
            "/usr/local/lib/python3.7/dist-packages/sklearn/linear_model/_logistic.py:818: ConvergenceWarning: lbfgs failed to converge (status=1):\n",
            "STOP: TOTAL NO. of ITERATIONS REACHED LIMIT.\n",
            "\n",
            "Increase the number of iterations (max_iter) or scale the data as shown in:\n",
            "    https://scikit-learn.org/stable/modules/preprocessing.html\n",
            "Please also refer to the documentation for alternative solver options:\n",
            "    https://scikit-learn.org/stable/modules/linear_model.html#logistic-regression\n",
            "  extra_warning_msg=_LOGISTIC_SOLVER_CONVERGENCE_MSG,\n",
            "/usr/local/lib/python3.7/dist-packages/sklearn/linear_model/_logistic.py:818: ConvergenceWarning: lbfgs failed to converge (status=1):\n",
            "STOP: TOTAL NO. of ITERATIONS REACHED LIMIT.\n",
            "\n",
            "Increase the number of iterations (max_iter) or scale the data as shown in:\n",
            "    https://scikit-learn.org/stable/modules/preprocessing.html\n",
            "Please also refer to the documentation for alternative solver options:\n",
            "    https://scikit-learn.org/stable/modules/linear_model.html#logistic-regression\n",
            "  extra_warning_msg=_LOGISTIC_SOLVER_CONVERGENCE_MSG,\n",
            "/usr/local/lib/python3.7/dist-packages/sklearn/linear_model/_logistic.py:818: ConvergenceWarning: lbfgs failed to converge (status=1):\n",
            "STOP: TOTAL NO. of ITERATIONS REACHED LIMIT.\n",
            "\n",
            "Increase the number of iterations (max_iter) or scale the data as shown in:\n",
            "    https://scikit-learn.org/stable/modules/preprocessing.html\n",
            "Please also refer to the documentation for alternative solver options:\n",
            "    https://scikit-learn.org/stable/modules/linear_model.html#logistic-regression\n",
            "  extra_warning_msg=_LOGISTIC_SOLVER_CONVERGENCE_MSG,\n",
            "/usr/local/lib/python3.7/dist-packages/sklearn/linear_model/_logistic.py:818: ConvergenceWarning: lbfgs failed to converge (status=1):\n",
            "STOP: TOTAL NO. of ITERATIONS REACHED LIMIT.\n",
            "\n",
            "Increase the number of iterations (max_iter) or scale the data as shown in:\n",
            "    https://scikit-learn.org/stable/modules/preprocessing.html\n",
            "Please also refer to the documentation for alternative solver options:\n",
            "    https://scikit-learn.org/stable/modules/linear_model.html#logistic-regression\n",
            "  extra_warning_msg=_LOGISTIC_SOLVER_CONVERGENCE_MSG,\n",
            "/usr/local/lib/python3.7/dist-packages/sklearn/linear_model/_logistic.py:818: ConvergenceWarning: lbfgs failed to converge (status=1):\n",
            "STOP: TOTAL NO. of ITERATIONS REACHED LIMIT.\n",
            "\n",
            "Increase the number of iterations (max_iter) or scale the data as shown in:\n",
            "    https://scikit-learn.org/stable/modules/preprocessing.html\n",
            "Please also refer to the documentation for alternative solver options:\n",
            "    https://scikit-learn.org/stable/modules/linear_model.html#logistic-regression\n",
            "  extra_warning_msg=_LOGISTIC_SOLVER_CONVERGENCE_MSG,\n",
            "/usr/local/lib/python3.7/dist-packages/sklearn/linear_model/_logistic.py:818: ConvergenceWarning: lbfgs failed to converge (status=1):\n",
            "STOP: TOTAL NO. of ITERATIONS REACHED LIMIT.\n",
            "\n",
            "Increase the number of iterations (max_iter) or scale the data as shown in:\n",
            "    https://scikit-learn.org/stable/modules/preprocessing.html\n",
            "Please also refer to the documentation for alternative solver options:\n",
            "    https://scikit-learn.org/stable/modules/linear_model.html#logistic-regression\n",
            "  extra_warning_msg=_LOGISTIC_SOLVER_CONVERGENCE_MSG,\n",
            "/usr/local/lib/python3.7/dist-packages/sklearn/linear_model/_logistic.py:818: ConvergenceWarning: lbfgs failed to converge (status=1):\n",
            "STOP: TOTAL NO. of ITERATIONS REACHED LIMIT.\n",
            "\n",
            "Increase the number of iterations (max_iter) or scale the data as shown in:\n",
            "    https://scikit-learn.org/stable/modules/preprocessing.html\n",
            "Please also refer to the documentation for alternative solver options:\n",
            "    https://scikit-learn.org/stable/modules/linear_model.html#logistic-regression\n",
            "  extra_warning_msg=_LOGISTIC_SOLVER_CONVERGENCE_MSG,\n"
          ]
        },
        {
          "output_type": "stream",
          "name": "stdout",
          "text": [
            "LR\n",
            "              precision    recall  f1-score   support\n",
            "\n",
            "      Setosa       1.00      1.00      1.00        10\n",
            "  Versicolor       0.89      1.00      0.94         8\n",
            "    Virginca       1.00      0.92      0.96        12\n",
            "\n",
            "    accuracy                           0.97        30\n",
            "   macro avg       0.96      0.97      0.97        30\n",
            "weighted avg       0.97      0.97      0.97        30\n",
            "\n",
            "[[10  0  0]\n",
            " [ 0  8  0]\n",
            " [ 0  1 11]] ['Setosa', 'Versicolor', 'Virginca']\n"
          ]
        },
        {
          "output_type": "display_data",
          "data": {
            "image/png": "[encoded data removed]",
            "text/plain": [
              "<Figure size 432x288 with 2 Axes>"
            ]
          },
          "metadata": {
            "needs_background": "light"
          }
        },
        {
          "output_type": "stream",
          "name": "stdout",
          "text": [
            "X_train.shape >> (90, 4) ||  y_train.shape >> (90,)\n",
            "X_valid.shape >> (30, 4)  ||  y_valid.shape >>  (30,)\n",
            "X_test.shape  >> (30, 4)  ||  y_test.shape  >>  (30,)\n",
            "RF\n",
            "              precision    recall  f1-score   support\n",
            "\n",
            "      Setosa       1.00      1.00      1.00        10\n",
            "  Versicolor       1.00      1.00      1.00        14\n",
            "    Virginca       1.00      1.00      1.00         6\n",
            "\n",
            "    accuracy                           1.00        30\n",
            "   macro avg       1.00      1.00      1.00        30\n",
            "weighted avg       1.00      1.00      1.00        30\n",
            "\n",
            "[[10  0  0]\n",
            " [ 0 14  0]\n",
            " [ 0  0  6]] ['Setosa', 'Versicolor', 'Virginca']\n"
          ]
        },
        {
          "output_type": "display_data",
          "data": {
            "image/png": "[encoded data removed]",
            "text/plain": [
              "<Figure size 432x288 with 2 Axes>"
            ]
          },
          "metadata": {
            "needs_background": "light"
          }
        },
        {
          "output_type": "stream",
          "name": "stdout",
          "text": [
            "X_train.shape >> (90, 4) ||  y_train.shape >> (90,)\n",
            "X_valid.shape >> (30, 4)  ||  y_valid.shape >>  (30,)\n",
            "X_test.shape  >> (30, 4)  ||  y_test.shape  >>  (30,)\n",
            "SVM\n",
            "              precision    recall  f1-score   support\n",
            "\n",
            "      Setosa       1.00      1.00      1.00        10\n",
            "  Versicolor       0.89      1.00      0.94         8\n",
            "    Virginca       1.00      0.92      0.96        12\n",
            "\n",
            "    accuracy                           0.97        30\n",
            "   macro avg       0.96      0.97      0.97        30\n",
            "weighted avg       0.97      0.97      0.97        30\n",
            "\n",
            "[[10  0  0]\n",
            " [ 0  8  0]\n",
            " [ 0  1 11]] ['Setosa', 'Versicolor', 'Virginca']\n"
          ]
        },
        {
          "output_type": "display_data",
          "data": {
            "image/png": "[encoded data removed]",
            "text/plain": [
              "<Figure size 432x288 with 2 Axes>"
            ]
          },
          "metadata": {
            "needs_background": "light"
          }
        },
        {
          "output_type": "stream",
          "name": "stdout",
          "text": [
            "\n",
            "Summary of the Models\n",
            "    fit_time  score_time  test_score model  subset    solvers\n",
            "0   0.031174    0.000661    1.000000    LR     0.6  newton-cg\n",
            "1   0.061549    0.001095    1.000000    LR     0.6  newton-cg\n",
            "2   0.086906    0.000599    1.000000    LR     0.6  newton-cg\n",
            "3   0.062229    0.001382    0.875000    LR     0.6  newton-cg\n",
            "4   0.045855    0.000587    0.750000    LR     0.6  newton-cg\n",
            "5   0.047999    0.001061    1.000000    LR     0.6  newton-cg\n",
            "6   0.042068    0.000619    1.000000    LR     0.6  newton-cg\n",
            "7   0.038447    0.000558    1.000000    LR     0.6  newton-cg\n",
            "8   0.074554    0.000844    1.000000    LR     0.6  newton-cg\n",
            "9   0.071877    0.000585    0.857143    LR     0.6  newton-cg\n",
            "10  0.050264    0.000983    1.000000    LR     0.6  newton-cg\n",
            "11  0.050010    0.000979    0.857143    LR     0.6  newton-cg\n",
            "12  0.328725    0.021232    1.000000    RF     0.6  newton-cg\n",
            "13  0.241135    0.034463    0.750000    RF     0.6  newton-cg\n",
            "14  0.281389    0.027882    0.750000    RF     0.6  newton-cg\n",
            "15  0.352114    0.019475    1.000000    RF     0.6  newton-cg\n",
            "16  0.269963    0.019080    0.875000    RF     0.6  newton-cg\n",
            "17  0.358853    0.019258    1.000000    RF     0.6  newton-cg\n",
            "18  0.287191    0.022816    0.857143    RF     0.6  newton-cg\n",
            "19  0.308096    0.067477    1.000000    RF     0.6  newton-cg\n",
            "20  0.316494    0.041902    1.000000    RF     0.6  newton-cg\n",
            "21  0.314698    0.016284    1.000000    RF     0.6  newton-cg\n",
            "22  0.279923    0.019369    1.000000    RF     0.6  newton-cg\n",
            "23  0.358651    0.019471    0.857143    RF     0.6  newton-cg\n",
            "24  0.001619    0.001532    1.000000   SVM     0.6  newton-cg\n",
            "25  0.003930    0.001788    1.000000   SVM     0.6  newton-cg\n",
            "26  0.001408    0.000918    1.000000   SVM     0.6  newton-cg\n",
            "27  0.001240    0.000687    1.000000   SVM     0.6  newton-cg\n",
            "28  0.001356    0.000651    0.875000   SVM     0.6  newton-cg\n",
            "29  0.001218    0.000623    0.875000   SVM     0.6  newton-cg\n",
            "30  0.001276    0.000598    0.857143   SVM     0.6  newton-cg\n",
            "31  0.001208    0.000638    1.000000   SVM     0.6  newton-cg\n",
            "32  0.001169    0.000586    0.857143   SVM     0.6  newton-cg\n",
            "33  0.001348    0.000711    0.857143   SVM     0.6  newton-cg\n",
            "34  0.001211    0.000597    1.000000   SVM     0.6  newton-cg\n",
            "35  0.001205    0.000635    1.000000   SVM     0.6  newton-cg\n",
            "\n",
            "BEST model\n",
            "    fit_time  score_time  test_score model  subset    solvers\n",
            "35  0.001205    0.000635         1.0   SVM     0.6  newton-cg\n",
            "\n",
            "WORST model\n",
            "   fit_time  score_time  test_score model  subset    solvers\n",
            "4  0.045855    0.000587        0.75    LR     0.6  newton-cg\n",
            "0.6\n",
            "0.8\n",
            "X_train.shape >> (120, 4) ||  y_train.shape >> (120,)\n",
            "X_valid.shape >> (15, 4)  ||  y_valid.shape >>  (15,)\n",
            "X_test.shape  >> (15, 4)  ||  y_test.shape  >>  (15,)\n"
          ]
        },
        {
          "output_type": "stream",
          "name": "stderr",
          "text": [
            "/usr/local/lib/python3.7/dist-packages/sklearn/linear_model/_logistic.py:818: ConvergenceWarning: lbfgs failed to converge (status=1):\n",
            "STOP: TOTAL NO. of ITERATIONS REACHED LIMIT.\n",
            "\n",
            "Increase the number of iterations (max_iter) or scale the data as shown in:\n",
            "    https://scikit-learn.org/stable/modules/preprocessing.html\n",
            "Please also refer to the documentation for alternative solver options:\n",
            "    https://scikit-learn.org/stable/modules/linear_model.html#logistic-regression\n",
            "  extra_warning_msg=_LOGISTIC_SOLVER_CONVERGENCE_MSG,\n",
            "/usr/local/lib/python3.7/dist-packages/sklearn/linear_model/_logistic.py:818: ConvergenceWarning: lbfgs failed to converge (status=1):\n",
            "STOP: TOTAL NO. of ITERATIONS REACHED LIMIT.\n",
            "\n",
            "Increase the number of iterations (max_iter) or scale the data as shown in:\n",
            "    https://scikit-learn.org/stable/modules/preprocessing.html\n",
            "Please also refer to the documentation for alternative solver options:\n",
            "    https://scikit-learn.org/stable/modules/linear_model.html#logistic-regression\n",
            "  extra_warning_msg=_LOGISTIC_SOLVER_CONVERGENCE_MSG,\n",
            "/usr/local/lib/python3.7/dist-packages/sklearn/linear_model/_logistic.py:818: ConvergenceWarning: lbfgs failed to converge (status=1):\n",
            "STOP: TOTAL NO. of ITERATIONS REACHED LIMIT.\n",
            "\n",
            "Increase the number of iterations (max_iter) or scale the data as shown in:\n",
            "    https://scikit-learn.org/stable/modules/preprocessing.html\n",
            "Please also refer to the documentation for alternative solver options:\n",
            "    https://scikit-learn.org/stable/modules/linear_model.html#logistic-regression\n",
            "  extra_warning_msg=_LOGISTIC_SOLVER_CONVERGENCE_MSG,\n",
            "/usr/local/lib/python3.7/dist-packages/sklearn/linear_model/_logistic.py:818: ConvergenceWarning: lbfgs failed to converge (status=1):\n",
            "STOP: TOTAL NO. of ITERATIONS REACHED LIMIT.\n",
            "\n",
            "Increase the number of iterations (max_iter) or scale the data as shown in:\n",
            "    https://scikit-learn.org/stable/modules/preprocessing.html\n",
            "Please also refer to the documentation for alternative solver options:\n",
            "    https://scikit-learn.org/stable/modules/linear_model.html#logistic-regression\n",
            "  extra_warning_msg=_LOGISTIC_SOLVER_CONVERGENCE_MSG,\n",
            "/usr/local/lib/python3.7/dist-packages/sklearn/linear_model/_logistic.py:818: ConvergenceWarning: lbfgs failed to converge (status=1):\n",
            "STOP: TOTAL NO. of ITERATIONS REACHED LIMIT.\n",
            "\n",
            "Increase the number of iterations (max_iter) or scale the data as shown in:\n",
            "    https://scikit-learn.org/stable/modules/preprocessing.html\n",
            "Please also refer to the documentation for alternative solver options:\n",
            "    https://scikit-learn.org/stable/modules/linear_model.html#logistic-regression\n",
            "  extra_warning_msg=_LOGISTIC_SOLVER_CONVERGENCE_MSG,\n",
            "/usr/local/lib/python3.7/dist-packages/sklearn/linear_model/_logistic.py:818: ConvergenceWarning: lbfgs failed to converge (status=1):\n",
            "STOP: TOTAL NO. of ITERATIONS REACHED LIMIT.\n",
            "\n",
            "Increase the number of iterations (max_iter) or scale the data as shown in:\n",
            "    https://scikit-learn.org/stable/modules/preprocessing.html\n",
            "Please also refer to the documentation for alternative solver options:\n",
            "    https://scikit-learn.org/stable/modules/linear_model.html#logistic-regression\n",
            "  extra_warning_msg=_LOGISTIC_SOLVER_CONVERGENCE_MSG,\n",
            "/usr/local/lib/python3.7/dist-packages/sklearn/linear_model/_logistic.py:818: ConvergenceWarning: lbfgs failed to converge (status=1):\n",
            "STOP: TOTAL NO. of ITERATIONS REACHED LIMIT.\n",
            "\n",
            "Increase the number of iterations (max_iter) or scale the data as shown in:\n",
            "    https://scikit-learn.org/stable/modules/preprocessing.html\n",
            "Please also refer to the documentation for alternative solver options:\n",
            "    https://scikit-learn.org/stable/modules/linear_model.html#logistic-regression\n",
            "  extra_warning_msg=_LOGISTIC_SOLVER_CONVERGENCE_MSG,\n",
            "/usr/local/lib/python3.7/dist-packages/sklearn/linear_model/_logistic.py:818: ConvergenceWarning: lbfgs failed to converge (status=1):\n",
            "STOP: TOTAL NO. of ITERATIONS REACHED LIMIT.\n",
            "\n",
            "Increase the number of iterations (max_iter) or scale the data as shown in:\n",
            "    https://scikit-learn.org/stable/modules/preprocessing.html\n",
            "Please also refer to the documentation for alternative solver options:\n",
            "    https://scikit-learn.org/stable/modules/linear_model.html#logistic-regression\n",
            "  extra_warning_msg=_LOGISTIC_SOLVER_CONVERGENCE_MSG,\n",
            "/usr/local/lib/python3.7/dist-packages/sklearn/linear_model/_logistic.py:818: ConvergenceWarning: lbfgs failed to converge (status=1):\n",
            "STOP: TOTAL NO. of ITERATIONS REACHED LIMIT.\n",
            "\n",
            "Increase the number of iterations (max_iter) or scale the data as shown in:\n",
            "    https://scikit-learn.org/stable/modules/preprocessing.html\n",
            "Please also refer to the documentation for alternative solver options:\n",
            "    https://scikit-learn.org/stable/modules/linear_model.html#logistic-regression\n",
            "  extra_warning_msg=_LOGISTIC_SOLVER_CONVERGENCE_MSG,\n"
          ]
        },
        {
          "output_type": "stream",
          "name": "stdout",
          "text": [
            "LR\n",
            "              precision    recall  f1-score   support\n",
            "\n",
            "      Setosa       1.00      1.00      1.00         5\n",
            "  Versicolor       0.83      0.83      0.83         6\n",
            "    Virginca       0.75      0.75      0.75         4\n",
            "\n",
            "    accuracy                           0.87        15\n",
            "   macro avg       0.86      0.86      0.86        15\n",
            "weighted avg       0.87      0.87      0.87        15\n",
            "\n",
            "[[5 0 0]\n",
            " [0 5 1]\n",
            " [0 1 3]] ['Setosa', 'Versicolor', 'Virginca']\n"
          ]
        },
        {
          "output_type": "display_data",
          "data": {
            "image/png": "[encoded data removed]",
            "text/plain": [
              "<Figure size 432x288 with 2 Axes>"
            ]
          },
          "metadata": {
            "needs_background": "light"
          }
        },
        {
          "output_type": "stream",
          "name": "stdout",
          "text": [
            "X_train.shape >> (120, 4) ||  y_train.shape >> (120,)\n",
            "X_valid.shape >> (15, 4)  ||  y_valid.shape >>  (15,)\n",
            "X_test.shape  >> (15, 4)  ||  y_test.shape  >>  (15,)\n",
            "RF\n",
            "              precision    recall  f1-score   support\n",
            "\n",
            "      Setosa       1.00      1.00      1.00         4\n",
            "  Versicolor       1.00      0.80      0.89         5\n",
            "    Virginca       0.86      1.00      0.92         6\n",
            "\n",
            "    accuracy                           0.93        15\n",
            "   macro avg       0.95      0.93      0.94        15\n",
            "weighted avg       0.94      0.93      0.93        15\n",
            "\n",
            "[[4 0 0]\n",
            " [0 4 1]\n",
            " [0 0 6]] ['Setosa', 'Versicolor', 'Virginca']\n"
          ]
        },
        {
          "output_type": "display_data",
          "data": {
            "image/png": "[encoded data removed]",
            "text/plain": [
              "<Figure size 432x288 with 2 Axes>"
            ]
          },
          "metadata": {
            "needs_background": "light"
          }
        },
        {
          "output_type": "stream",
          "name": "stdout",
          "text": [
            "X_train.shape >> (120, 4) ||  y_train.shape >> (120,)\n",
            "X_valid.shape >> (15, 4)  ||  y_valid.shape >>  (15,)\n",
            "X_test.shape  >> (15, 4)  ||  y_test.shape  >>  (15,)\n",
            "SVM\n",
            "              precision    recall  f1-score   support\n",
            "\n",
            "      Setosa       1.00      1.00      1.00         6\n",
            "  Versicolor       0.50      1.00      0.67         2\n",
            "    Virginca       1.00      0.71      0.83         7\n",
            "\n",
            "    accuracy                           0.87        15\n",
            "   macro avg       0.83      0.90      0.83        15\n",
            "weighted avg       0.93      0.87      0.88        15\n",
            "\n",
            "[[6 0 0]\n",
            " [0 2 0]\n",
            " [0 2 5]] ['Setosa', 'Versicolor', 'Virginca']\n"
          ]
        },
        {
          "output_type": "display_data",
          "data": {
            "image/png": "[encoded data removed]",
            "text/plain": [
              "<Figure size 432x288 with 2 Axes>"
            ]
          },
          "metadata": {
            "needs_background": "light"
          }
        },
        {
          "output_type": "stream",
          "name": "stdout",
          "text": [
            "\n",
            "Summary of the Models\n",
            "    fit_time  score_time  test_score model  subset    solvers\n",
            "0   0.031174    0.000661       1.000    LR     0.6  newton-cg\n",
            "1   0.061549    0.001095       1.000    LR     0.6  newton-cg\n",
            "2   0.086906    0.000599       1.000    LR     0.6  newton-cg\n",
            "3   0.062229    0.001382       0.875    LR     0.6  newton-cg\n",
            "4   0.045855    0.000587       0.750    LR     0.6  newton-cg\n",
            "..       ...         ...         ...   ...     ...        ...\n",
            "67  0.000824    0.000343       0.900   SVM     0.8  newton-cg\n",
            "68  0.000859    0.000398       1.000   SVM     0.8  newton-cg\n",
            "69  0.000821    0.000405       1.000   SVM     0.8  newton-cg\n",
            "70  0.000839    0.000345       1.000   SVM     0.8  newton-cg\n",
            "71  0.000806    0.000381       0.900   SVM     0.8  newton-cg\n",
            "\n",
            "[72 rows x 6 columns]\n",
            "\n",
            "BEST model\n",
            "    fit_time  score_time  test_score model  subset    solvers\n",
            "35  0.001205    0.000635         1.0   SVM     0.6  newton-cg\n",
            "\n",
            "WORST model\n",
            "    fit_time  score_time  test_score model  subset    solvers\n",
            "14  0.281389    0.027882        0.75    RF     0.6  newton-cg\n",
            "0.8\n"
          ]
        }
      ]
    },
    {
      "cell_type": "markdown",
      "source": [
        " Analyze the results on Validation set and test set and mention which model performed the best and why? \n",
        "\n",
        " In the experiement, the IRIS dataset is implemented. the acauqred dataset is processed with different classifiers suchas Logisitic Regression, Random Forest and SVC.  \n",
        " In the Experiement, it is seen that the best suited model for the dataset is SVC i.e., Support Vector Classifier having accuracy 99% and the worst model is RF (Random Forest). "
      ],
      "metadata": {
        "id": "zTTZfiE_RfOU"
      }
    }
  ]
}