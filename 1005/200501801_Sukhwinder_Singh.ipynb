{
  "cells": [
    {
      "cell_type": "markdown",
      "metadata": {
        "id": "dL1fM8t4aYdX"
      },
      "source": [
        "## Project - Implement Data Science Process Lifecycle on Red Wine Quality Dataset\n",
        "\n",
        "<img src=\"wine.gif\">"
      ]
    },
    {
      "cell_type": "markdown",
      "metadata": {
        "button": false,
        "new_sheet": false,
        "run_control": {
          "read_only": false
        },
        "id": "mQ0s_X-uaYda"
      },
      "source": [
        "### Business Understanding\n",
        "\n",
        "The red wine industry shows a recent exponential growth as social drinking is on the rise. Nowadays, industry players are using product quality certifications to promote their products. This is a time-consuming process and requires the assessment given by human experts, which makes this process very expensive. Also, the price of red wine depends on a rather abstract concept of wine appreciation by wine tasters, opinion among whom may have a high degree of variability. Another vital factor in red wine certification and quality assessment is physicochemical tests, which are laboratory-based and consider factors like acidity, pH level, sugar, and other chemical properties. The red wine market would be of interest if the human quality of tasting can be related to wine’s chemical properties so that certification and quality assessment and assurance processes are more controlled. This project aims to determine which features are the best quality red wine indicators and generate insights into each of these factors to our model’s red wine quality."
      ]
    },
    {
      "cell_type": "markdown",
      "metadata": {
        "id": "uZq9TT3FaYdb"
      },
      "source": [
        "### Analytic Approach\n",
        "\n",
        "**Q1. What is the analytical approach that you would take for this project? Why do you think its the right approach?**\n",
        "\n",
        "*Diagnostic Analysis*"
      ]
    },
    {
      "cell_type": "markdown",
      "metadata": {
        "id": "QtmDRy2eaYdb"
      },
      "source": [
        "### Data Requirements\n",
        "\n",
        "**Q2. What kind of data do we require for predicting the red wine quality and for determining the features that are the best quality red wine indicators?**\n",
        "\n",
        "*To see which variables are likely to affect the quality of red wine the most, I ran a correlation analysis of our independent variables against our dependent variable, quality. This analysis ended up with a list of variables of interest that had the highest correlations with quality.\n",
        "\n",
        "\n",
        "\n",
        "###1. These variables are used as independent features:\n",
        "1. Alcohol: The amount of alcohol in wine\n",
        "2. Volatile acidity: acetic acid in wine which leads to an unpleasant vinegar taste.\n",
        "3. Sulphates: An additive that acts as an antimicrobial and antioxidant\n",
        "4. Citric Acid: As a preservative to increase acidity.\n",
        "5. Total Sulfur Dioxide: Amount of free + bound forms of SO2.\n",
        "6. Density: The sweeter wines have a higher density.\n",
        "7. Chlorides: An amount of salt in the wine.\n",
        "8. Fixed acidity: Non-volatile acids that do not evaporate readily.\n",
        "9. pH: the level of acidity\n",
        "10. Free Sulfur Dioxide: it prevents microbial growth and the oxidation of wine.\n",
        "11. Residual sugar: is the amount of sugar remaining after fermentation stops. The key is to have a perfect balance between — sweetness and sourness (wines > 45g/ltrs are sweet)\n",
        "\n",
        "###2.  we require for predicting the red wine quality  \n",
        "12. quality\n",
        "It is found that the 5 and 6 are popular of the medium/average values.*"
      ]
    },
    {
      "cell_type": "markdown",
      "metadata": {
        "id": "-x8O1TAsaYdc"
      },
      "source": [
        "## Data Collection\n",
        "\n",
        "**Q3. From where do we get our data?**\n",
        "\n",
        "*TODO*\n",
        "\n",
        "available on the UCI machine learning repository (https://archive.ics.uci.edu/ml/datasets/wine+quality).\n",
        "\n"
      ]
    },
    {
      "cell_type": "code",
      "source": [
        "from google.colab import drive\n",
        "drive.mount('/content/drive')\n",
        "\n",
        "import pandas as pd\n",
        "data = pd.read_csv(\"/content/drive/MyDrive/AIDI/0005/winequality-red.csv\")"
      ],
      "metadata": {
        "colab": {
          "base_uri": "https://localhost:8080/"
        },
        "id": "tEdaSVnA8brK",
        "outputId": "abcc9d42-c16e-494a-b107-8bc40edba125"
      },
      "execution_count": 1,
      "outputs": [
        {
          "output_type": "stream",
          "name": "stdout",
          "text": [
            "Drive already mounted at /content/drive; to attempt to forcibly remount, call drive.mount(\"/content/drive\", force_remount=True).\n"
          ]
        }
      ]
    },
    {
      "cell_type": "markdown",
      "metadata": {
        "id": "qvKsxiOfaYdc"
      },
      "source": [
        "### Data Understanding\n",
        "\n",
        "Link for the dataset https://archive.ics.uci.edu/ml/datasets/wine+quality for context\n",
        "\n",
        "**Q4. From where are red wine samples obtained?**\n",
        "\n",
        "*I obtained the red wine samples from the north of Portugal to model red wine quality based on physicochemical tests.*\n",
        "\n",
        "\n",
        "**Q5. How can knowing the impact of each variable on the red wine quality help businesses(producers, distributors, etc) ?**\n",
        "\n",
        "*By analyzing the physicochemical tests samples data of red wines from the north of Portugal, I was able to create a model (like a machine learning model suchas Decision Tree or Random Forest) that can help wine industry producers, distributors, and sellers predict the quality of red wine products and have a better understanding of each critical and up-to-date features.\n",
        "In the experiment we can implement the Decision Tree, Random Forests and other models. the results from these models will made easy to analyse the most influential features and the specific features for the desireed output*\n"
      ]
    },
    {
      "cell_type": "markdown",
      "source": [
        "Check the shape of data, and the datatypes of the features</li>"
      ],
      "metadata": {
        "id": "4WVn-mfv7aGL"
      }
    },
    {
      "cell_type": "code",
      "source": [
        "print(data.shape)\n",
        "print(data.size)\n",
        "print(type(data))"
      ],
      "metadata": {
        "id": "4njZj6ZL7MpK",
        "colab": {
          "base_uri": "https://localhost:8080/"
        },
        "outputId": "6cd981d0-be07-42d4-bc57-38e1f35edffe"
      },
      "execution_count": 2,
      "outputs": [
        {
          "output_type": "stream",
          "name": "stdout",
          "text": [
            "(1599, 12)\n",
            "19188\n",
            "<class 'pandas.core.frame.DataFrame'>\n"
          ]
        }
      ]
    },
    {
      "cell_type": "markdown",
      "source": [
        "Understand the data by carrying out any steps that you think are necessary"
      ],
      "metadata": {
        "id": "ors_WevT7dq-"
      }
    },
    {
      "cell_type": "code",
      "source": [
        "# Take a look at the first few rows\n",
        "print(data.head())\n",
        "\n",
        "# Looking at the ST_NUM column\n",
        "print((data.isnull()).sum())"
      ],
      "metadata": {
        "id": "2eryrYEz7X6o",
        "colab": {
          "base_uri": "https://localhost:8080/"
        },
        "outputId": "b2d4d5a8-f295-44f8-cb19-8afad2cbab3b"
      },
      "execution_count": 3,
      "outputs": [
        {
          "output_type": "stream",
          "name": "stdout",
          "text": [
            "   fixed acidity  volatile acidity  citric acid  ...  sulphates  alcohol  quality\n",
            "0            7.4              0.70         0.00  ...       0.56      9.4        5\n",
            "1            7.8              0.88         0.00  ...       0.68      9.8        5\n",
            "2            7.8              0.76         0.04  ...       0.65      9.8        5\n",
            "3           11.2              0.28         0.56  ...       0.58      9.8        6\n",
            "4            7.4              0.70         0.00  ...       0.56      9.4        5\n",
            "\n",
            "[5 rows x 12 columns]\n",
            "fixed acidity           0\n",
            "volatile acidity        0\n",
            "citric acid             0\n",
            "residual sugar          0\n",
            "chlorides               0\n",
            "free sulfur dioxide     0\n",
            "total sulfur dioxide    0\n",
            "density                 0\n",
            "pH                      0\n",
            "sulphates               0\n",
            "alcohol                 0\n",
            "quality                 0\n",
            "dtype: int64\n"
          ]
        }
      ]
    },
    {
      "cell_type": "markdown",
      "metadata": {
        "id": "Wp7vCUsPaYdd"
      },
      "source": [
        "### Data Preparation\n",
        "\n",
        "#### Explore the dataset further\n",
        "*TODO*\n",
        "\n",
        "\n",
        "\n"
      ]
    },
    {
      "cell_type": "markdown",
      "source": [
        "<li>Check for missing values and handle if any</li>"
      ],
      "metadata": {
        "id": "r3Hw80da8EUB"
      }
    },
    {
      "cell_type": "code",
      "source": [
        "# Looking at the ST_NUM column\n",
        "print((data.isnull()).sum())"
      ],
      "metadata": {
        "colab": {
          "base_uri": "https://localhost:8080/"
        },
        "id": "CUXs2Aa8926R",
        "outputId": "4033acd2-9bac-4f7c-9f0f-260217a60533"
      },
      "execution_count": 4,
      "outputs": [
        {
          "output_type": "stream",
          "name": "stdout",
          "text": [
            "fixed acidity           0\n",
            "volatile acidity        0\n",
            "citric acid             0\n",
            "residual sugar          0\n",
            "chlorides               0\n",
            "free sulfur dioxide     0\n",
            "total sulfur dioxide    0\n",
            "density                 0\n",
            "pH                      0\n",
            "sulphates               0\n",
            "alcohol                 0\n",
            "quality                 0\n",
            "dtype: int64\n"
          ]
        }
      ]
    },
    {
      "cell_type": "markdown",
      "source": [
        "<li>Check for outliers if any and handle them</li>"
      ],
      "metadata": {
        "id": "J6qyz7h87-K8"
      }
    },
    {
      "cell_type": "code",
      "source": [
        "# Looking at the ST_NUM column\n",
        "print((data.isnull()).sum())\n",
        "print((data.isna()).sum())\n",
        "\n",
        "\n",
        "# Outlier\n",
        "data.describe()\n",
        "\n",
        "Q1 = data.quantile(0.25)\n",
        "Q3 = data.quantile(0.75)\n",
        "IQR = Q3 - Q1\n",
        "print(IQR)\n",
        "\n",
        "import numpy as np\n",
        "from scipy import stats\n",
        "def is_normal(x, treshhold = 0.05):\n",
        "    k2,p = stats.normaltest(x)\n",
        "    print(p)\n",
        "    print(p > treshhold)\n",
        "    print('\\n')\n",
        "    return p > treshhold\n",
        "\n",
        "for name in list(data):\n",
        "    is_normal(np.array(data))\n"
      ],
      "metadata": {
        "id": "aleFcJya77al",
        "colab": {
          "base_uri": "https://localhost:8080/"
        },
        "outputId": "a55baf27-74a9-4c05-b6af-1b41a4510f46"
      },
      "execution_count": 5,
      "outputs": [
        {
          "output_type": "stream",
          "name": "stdout",
          "text": [
            "fixed acidity           0\n",
            "volatile acidity        0\n",
            "citric acid             0\n",
            "residual sugar          0\n",
            "chlorides               0\n",
            "free sulfur dioxide     0\n",
            "total sulfur dioxide    0\n",
            "density                 0\n",
            "pH                      0\n",
            "sulphates               0\n",
            "alcohol                 0\n",
            "quality                 0\n",
            "dtype: int64\n",
            "fixed acidity           0\n",
            "volatile acidity        0\n",
            "citric acid             0\n",
            "residual sugar          0\n",
            "chlorides               0\n",
            "free sulfur dioxide     0\n",
            "total sulfur dioxide    0\n",
            "density                 0\n",
            "pH                      0\n",
            "sulphates               0\n",
            "alcohol                 0\n",
            "quality                 0\n",
            "dtype: int64\n",
            "fixed acidity            2.100000\n",
            "volatile acidity         0.250000\n",
            "citric acid              0.330000\n",
            "residual sugar           0.700000\n",
            "chlorides                0.020000\n",
            "free sulfur dioxide     14.000000\n",
            "total sulfur dioxide    40.000000\n",
            "density                  0.002235\n",
            "pH                       0.190000\n",
            "sulphates                0.180000\n",
            "alcohol                  1.600000\n",
            "quality                  1.000000\n",
            "dtype: float64\n",
            "[1.75282777e-049 7.19258904e-032 9.66282226e-034 0.00000000e+000\n",
            " 0.00000000e+000 4.77936533e-075 1.43389083e-106 2.14732027e-007\n",
            " 4.84686453e-008 1.17590652e-197 3.31632883e-034 1.78450303e-004]\n",
            "[False False False False False False False False False False False False]\n",
            "\n",
            "\n",
            "[1.75282777e-049 7.19258904e-032 9.66282226e-034 0.00000000e+000\n",
            " 0.00000000e+000 4.77936533e-075 1.43389083e-106 2.14732027e-007\n",
            " 4.84686453e-008 1.17590652e-197 3.31632883e-034 1.78450303e-004]\n",
            "[False False False False False False False False False False False False]\n",
            "\n",
            "\n",
            "[1.75282777e-049 7.19258904e-032 9.66282226e-034 0.00000000e+000\n",
            " 0.00000000e+000 4.77936533e-075 1.43389083e-106 2.14732027e-007\n",
            " 4.84686453e-008 1.17590652e-197 3.31632883e-034 1.78450303e-004]\n",
            "[False False False False False False False False False False False False]\n",
            "\n",
            "\n",
            "[1.75282777e-049 7.19258904e-032 9.66282226e-034 0.00000000e+000\n",
            " 0.00000000e+000 4.77936533e-075 1.43389083e-106 2.14732027e-007\n",
            " 4.84686453e-008 1.17590652e-197 3.31632883e-034 1.78450303e-004]\n",
            "[False False False False False False False False False False False False]\n",
            "\n",
            "\n",
            "[1.75282777e-049 7.19258904e-032 9.66282226e-034 0.00000000e+000\n",
            " 0.00000000e+000 4.77936533e-075 1.43389083e-106 2.14732027e-007\n",
            " 4.84686453e-008 1.17590652e-197 3.31632883e-034 1.78450303e-004]\n",
            "[False False False False False False False False False False False False]\n",
            "\n",
            "\n",
            "[1.75282777e-049 7.19258904e-032 9.66282226e-034 0.00000000e+000\n",
            " 0.00000000e+000 4.77936533e-075 1.43389083e-106 2.14732027e-007\n",
            " 4.84686453e-008 1.17590652e-197 3.31632883e-034 1.78450303e-004]\n",
            "[False False False False False False False False False False False False]\n",
            "\n",
            "\n",
            "[1.75282777e-049 7.19258904e-032 9.66282226e-034 0.00000000e+000\n",
            " 0.00000000e+000 4.77936533e-075 1.43389083e-106 2.14732027e-007\n",
            " 4.84686453e-008 1.17590652e-197 3.31632883e-034 1.78450303e-004]\n",
            "[False False False False False False False False False False False False]\n",
            "\n",
            "\n",
            "[1.75282777e-049 7.19258904e-032 9.66282226e-034 0.00000000e+000\n",
            " 0.00000000e+000 4.77936533e-075 1.43389083e-106 2.14732027e-007\n",
            " 4.84686453e-008 1.17590652e-197 3.31632883e-034 1.78450303e-004]\n",
            "[False False False False False False False False False False False False]\n",
            "\n",
            "\n",
            "[1.75282777e-049 7.19258904e-032 9.66282226e-034 0.00000000e+000\n",
            " 0.00000000e+000 4.77936533e-075 1.43389083e-106 2.14732027e-007\n",
            " 4.84686453e-008 1.17590652e-197 3.31632883e-034 1.78450303e-004]\n",
            "[False False False False False False False False False False False False]\n",
            "\n",
            "\n",
            "[1.75282777e-049 7.19258904e-032 9.66282226e-034 0.00000000e+000\n",
            " 0.00000000e+000 4.77936533e-075 1.43389083e-106 2.14732027e-007\n",
            " 4.84686453e-008 1.17590652e-197 3.31632883e-034 1.78450303e-004]\n",
            "[False False False False False False False False False False False False]\n",
            "\n",
            "\n",
            "[1.75282777e-049 7.19258904e-032 9.66282226e-034 0.00000000e+000\n",
            " 0.00000000e+000 4.77936533e-075 1.43389083e-106 2.14732027e-007\n",
            " 4.84686453e-008 1.17590652e-197 3.31632883e-034 1.78450303e-004]\n",
            "[False False False False False False False False False False False False]\n",
            "\n",
            "\n",
            "[1.75282777e-049 7.19258904e-032 9.66282226e-034 0.00000000e+000\n",
            " 0.00000000e+000 4.77936533e-075 1.43389083e-106 2.14732027e-007\n",
            " 4.84686453e-008 1.17590652e-197 3.31632883e-034 1.78450303e-004]\n",
            "[False False False False False False False False False False False False]\n",
            "\n",
            "\n"
          ]
        }
      ]
    },
    {
      "cell_type": "markdown",
      "source": [
        "<li>Implement Correlation heatmap</li>"
      ],
      "metadata": {
        "id": "mFnQZUzZ73JH"
      }
    },
    {
      "cell_type": "code",
      "source": [
        "import seaborn as sb\n",
        "import matplotlib.pyplot as plt\n",
        "# plotting correlation heatmap\n",
        "dataplot=sb.heatmap(data.corr())\n",
        "\n",
        "# displaying heatmap\n",
        "plt.show()"
      ],
      "metadata": {
        "id": "KFTujL-e7yGn",
        "colab": {
          "base_uri": "https://localhost:8080/",
          "height": 353
        },
        "outputId": "a5885393-0903-40d5-ed8e-f59e22b09353"
      },
      "execution_count": 6,
      "outputs": [
        {
          "output_type": "display_data",
          "data": {
            "image/png": "[encoded data removed]",
            "text/plain": [
              "<Figure size 432x288 with 2 Axes>"
            ]
          },
          "metadata": {
            "needs_background": "light"
          }
        }
      ]
    },
    {
      "cell_type": "markdown",
      "source": [
        "\n",
        "<li>Check the distribution of data using histograms</li>"
      ],
      "metadata": {
        "id": "Ihdxhylv7q7h"
      }
    },
    {
      "cell_type": "code",
      "source": [
        "import matplotlib.pyplot as plt\n",
        "fig, axes = plt.subplots(6, 2, figsize=(16,9))\n",
        "axes[0,0].set_title(\"fixed acidity\")\n",
        "axes[0,0].hist(data['fixed acidity'], bins=20);\n",
        "\n",
        "axes[0,1].set_title(\"volatile acidity\")\n",
        "axes[0,1].hist(data['volatile acidity'], bins=20);\n",
        "\n",
        "axes[1,0].set_title(\"citric acid\")\n",
        "axes[1,0].hist(data['citric acid'], bins=20);\n",
        "\n",
        "axes[1,1].set_title(\"residual sugar\")\n",
        "axes[1,1].hist(data['residual sugar'], bins=20);\n",
        "\n",
        "axes[2,0].set_title(\"chlorides\")\n",
        "axes[2,0].hist(data['chlorides'], bins=20);\n",
        "\n",
        "axes[2,1].set_title(\"free sulfur dioxide\")\n",
        "axes[2,1].hist(data['free sulfur dioxide'], bins=20);\n",
        "\n",
        "axes[3,0].set_title(\"total sulfur dioxide\")\n",
        "axes[3,0].hist(data['total sulfur dioxide'], bins=20);\n",
        "\n",
        "axes[3,1].set_title(\"density\")\n",
        "axes[3,1].hist(data['density'], bins=20);\n",
        "\n",
        "axes[4,0].set_title(\"pH\")\n",
        "axes[4,0].hist(data['pH'], bins=20);\n",
        "\n",
        "axes[4,1].set_title(\"sulphates\")\n",
        "axes[4,1].hist(data['sulphates'], bins=20);\n",
        "\n",
        "axes[5,0].set_title(\"alcohol\")\n",
        "axes[5,0].hist(data['alcohol'], bins=20);\n",
        "\n",
        "axes[5,1].set_title(\"quality\")\n",
        "axes[5,1].hist(data['quality'], bins=20);"
      ],
      "metadata": {
        "id": "Cxk3s2vG7r4G",
        "colab": {
          "base_uri": "https://localhost:8080/",
          "height": 553
        },
        "outputId": "125fe59c-5140-4814-b666-7bc96f0c04f3"
      },
      "execution_count": 7,
      "outputs": [
        {
          "output_type": "display_data",
          "data": {
            "image/png": "[encoded data removed]",
            "text/plain": [
              "<Figure size 1152x648 with 12 Axes>"
            ]
          },
          "metadata": {
            "needs_background": "light"
          }
        }
      ]
    },
    {
      "cell_type": "markdown",
      "source": [
        "<li>Prepare the data for modeling by carrying out any steps that you think are necessary</li>"
      ],
      "metadata": {
        "id": "F3KTJ7mo7mNY"
      }
    },
    {
      "cell_type": "markdown",
      "metadata": {
        "id": "RCDopPenaYde"
      },
      "source": [
        "### Modeling\n",
        "\n",
        "*TODO*\n",
        "<li>Implement Multivariable Linear Regression using any 2 Regression algorithms of your choice</li>"
      ]
    },
    {
      "cell_type": "markdown",
      "metadata": {
        "id": "v1cYcYj9aYde"
      },
      "source": [
        "### Model Evaluation\n",
        "\n",
        "Evaluating the model accuracy is an essential part of the process in creating machine learning models to describe how well the model is performing in its predictions. Evaluation metrics change according to the problem type. Here, we'll briefly learn how to check the accuracy of the regression model.\n",
        "\n",
        "The linear model (regression) can be a typical example of this type of problem, and the main characteristic of the regression problem is that the targets of a dataset contain the real numbers only. The errors represent how much the model is making mistakes in its prediction. The basic concept of accuracy evaluation is to compare the original target with the predicted one according to certain metrics.\n",
        "\n",
        "\n",
        "Regression model evaluation metrics\n",
        "\n",
        "The MAE, RMSE, and R-Squared metrics are mainly used to evaluate the prediction error rates and model performance in regression analysis.\n",
        "\n",
        "**MAE (Mean absolute error)** represents the difference between the original and predicted values extracted by averaged the absolute difference over the data set.\n",
        "\n",
        "**RMSE (Root Mean Squared Error)** is the error rate by the square root of MSE.\n",
        "\n",
        "**R-squared (Coefficient of determination)** represents the coefficient of how well the values fit compared to the original values. The value from 0 to 1 interpreted as percentages. The higher the value is, the better the model is.\n",
        "\n",
        "The above metrics can be expressed as following:\n",
        "<img src = \"formulae.png\">\n",
        "\n",
        "Please find more information on how to implement them from this link: https://scikit-learn.org/stable/modules/classes.html#regression-metrics\n",
        "\n",
        "Find more about feature importances from here: https://machinelearningmastery.com/calculate-feature-importance-with-python/"
      ]
    },
    {
      "cell_type": "code",
      "source": [
        "from sklearn.preprocessing import MinMaxScaler\n",
        "scaler = MinMaxScaler(feature_range=(0, 1))\n",
        "normal_data = scaler.fit_transform(data)\n",
        "normal_data = pd.DataFrame(data, columns = data.columns)\n",
        "print(normal_data.head())"
      ],
      "metadata": {
        "colab": {
          "base_uri": "https://localhost:8080/"
        },
        "id": "aBkp712WSb1d",
        "outputId": "bf860eaf-3411-44d0-ece0-141630d52977"
      },
      "execution_count": 8,
      "outputs": [
        {
          "output_type": "stream",
          "name": "stdout",
          "text": [
            "   fixed acidity  volatile acidity  citric acid  ...  sulphates  alcohol  quality\n",
            "0            7.4              0.70         0.00  ...       0.56      9.4        5\n",
            "1            7.8              0.88         0.00  ...       0.68      9.8        5\n",
            "2            7.8              0.76         0.04  ...       0.65      9.8        5\n",
            "3           11.2              0.28         0.56  ...       0.58      9.8        6\n",
            "4            7.4              0.70         0.00  ...       0.56      9.4        5\n",
            "\n",
            "[5 rows x 12 columns]\n"
          ]
        }
      ]
    },
    {
      "cell_type": "code",
      "source": [
        "from sklearn.preprocessing import MinMaxScaler\n",
        "scaler = MinMaxScaler(feature_range=(0, 1))\n",
        "normal_dsta = scaler.fit_transform(data)\n",
        "normal_data = pd.DataFrame(normal_data, columns = data.columns)\n",
        "\n",
        "X = normal_data.drop([\"quality\"], axis = 1)\n",
        "y = data[\"quality\"]\n",
        "y.value_counts()"
      ],
      "metadata": {
        "colab": {
          "base_uri": "https://localhost:8080/"
        },
        "id": "9doBDD0JTBLu",
        "outputId": "2469974d-2af5-4820-f017-c2fe30e717b5"
      },
      "execution_count": 9,
      "outputs": [
        {
          "output_type": "execute_result",
          "data": {
            "text/plain": [
              "5    681\n",
              "6    638\n",
              "7    199\n",
              "4     53\n",
              "8     18\n",
              "3     10\n",
              "Name: quality, dtype: int64"
            ]
          },
          "metadata": {},
          "execution_count": 9
        }
      ]
    },
    {
      "cell_type": "code",
      "source": [
        "from sklearn.model_selection import train_test_split\n",
        "X_train, X_test, y_train, y_test = train_test_split(X, y, test_size=0.3, random_state=2020, stratify=y)\n",
        "print(X_test, y_test)"
      ],
      "metadata": {
        "colab": {
          "base_uri": "https://localhost:8080/"
        },
        "id": "kNx7K8VeT7Rf",
        "outputId": "513f8927-fcb3-4bca-b85d-3723c7d1a4d7"
      },
      "execution_count": 10,
      "outputs": [
        {
          "output_type": "stream",
          "name": "stdout",
          "text": [
            "      fixed acidity  volatile acidity  citric acid  ...    pH  sulphates  alcohol\n",
            "644             9.9             0.540         0.45  ...  3.39       0.62      9.4\n",
            "99              8.1             0.545         0.18  ...  3.30       0.59      9.0\n",
            "1586            7.5             0.310         0.41  ...  3.34       0.85     11.4\n",
            "59              7.3             0.390         0.31  ...  3.41       0.54      9.4\n",
            "992             6.5             0.400         0.10  ...  3.36       0.48      9.4\n",
            "...             ...               ...          ...  ...   ...        ...      ...\n",
            "284             9.9             0.590         0.07  ...  3.31       0.71      9.8\n",
            "396             6.6             0.735         0.02  ...  3.47       0.53      9.9\n",
            "287             7.5             0.400         0.12  ...  3.37       0.70     10.3\n",
            "561             9.0             0.440         0.49  ...  3.23       0.58      9.2\n",
            "391            13.7             0.415         0.68  ...  3.06       0.80     10.0\n",
            "\n",
            "[480 rows x 11 columns] 644     5\n",
            "99      6\n",
            "1586    6\n",
            "59      6\n",
            "992     6\n",
            "       ..\n",
            "284     5\n",
            "396     5\n",
            "287     6\n",
            "561     5\n",
            "391     6\n",
            "Name: quality, Length: 480, dtype: int64\n"
          ]
        }
      ]
    },
    {
      "cell_type": "markdown",
      "metadata": {
        "id": "LLY59WXEaYdf"
      },
      "source": [
        "*TODO*\n",
        "<li>Use three metrics: R-squared, RMSE, and MAE, to evaluate model prediction performance</li>\n",
        "<li>Compare these 3 metrics for the two models and analyze the performance</li>\n",
        "<li>Calculate the feature importance scores for the top features that help predicting wine quality and visualize them</li>"
      ]
    },
    {
      "cell_type": "code",
      "source": [
        "# machine learning\n",
        "from sklearn.ensemble import RandomForestClassifier\n",
        "random_forest = RandomForestClassifier(n_estimators=100,max_depth= 10)\n",
        "random_forest.fit(X_train, y_train)\n",
        "y_pred = random_forest.predict(X_test)\n",
        "\n",
        "from sklearn.metrics import accuracy_score\n",
        "score = accuracy_score(y_pred, y_test)\n",
        "print(\"1. Accuracy of Random Forest\", score)\n",
        "\n",
        "import sklearn.metrics as metrics\n",
        "mae = metrics.mean_absolute_error(y_pred, y_test)\n",
        "mse = metrics.mean_squared_error(y_pred, y_test)\n",
        "rmse = np.sqrt(mse) \n",
        "r2 = metrics.r2_score(y_pred, y_test) # or mse**(0.5) \n",
        "print() \n",
        "print(\"MAE      \", \"MSE               \", \"R2\")\n",
        "print(mae, mse, r2)\n",
        "\n",
        "\n",
        "print()\n",
        "print()\n",
        "from sklearn.tree import DecisionTreeClassifier\n",
        "decision_tree = DecisionTreeClassifier()\n",
        "decision_tree.fit(X_train, y_train)\n",
        "y_pred = decision_tree.predict(X_test)\n",
        "\n",
        "from sklearn.metrics import accuracy_score\n",
        "score = accuracy_score(y_pred, y_test)\n",
        "print(\"2. Accuracy of Decision Tree\", score)\n",
        "\n",
        "import sklearn.metrics as metrics\n",
        "mae = metrics.mean_absolute_error(y_pred, y_test)\n",
        "mse = metrics.mean_squared_error(y_pred, y_test)\n",
        "rmse = np.sqrt(mse) # or mse**(0.5)  \n",
        "r2 = metrics.r2_score(y_pred, y_test)\n",
        "print()\n",
        "print(\"MAE      \", \"MSE               \", \"R2\")\n",
        "print(mae, mse, r2)\n",
        "\n",
        "print()\n",
        "print()\n",
        "\n",
        "from matplotlib import pyplot\n",
        "importance =random_forest.feature_importances_\n",
        "# summarize feature importance\n",
        "for i,v in enumerate(importance):\n",
        "\tprint('Feature: %0d, Score: %.5f' % (i,v))\n",
        "# plot feature importance\n",
        "pyplot.bar([x for x in range(len(importance))], importance)\n",
        "pyplot.show()"
      ],
      "metadata": {
        "colab": {
          "base_uri": "https://localhost:8080/",
          "height": 651
        },
        "id": "662fue8gfD2o",
        "outputId": "8a22ae98-3b3f-4534-c570-285fe9bcfb39"
      },
      "execution_count": 12,
      "outputs": [
        {
          "output_type": "stream",
          "name": "stdout",
          "text": [
            "1. Accuracy of Random Forest 0.6770833333333334\n",
            "MAE       MSE                R2\n",
            "0.35625 0.42291666666666666 -0.004991955113659685\n",
            "\n",
            "\n",
            "2. Accuracy of Decision Tree 0.6604166666666667\n",
            "MAE       MSE                R2\n",
            "0.4041666666666667 0.5458333333333333 0.13838817750190124\n",
            "\n",
            "\n",
            "Feature: 0, Score: 0.07628\n",
            "Feature: 1, Score: 0.10237\n",
            "Feature: 2, Score: 0.07226\n",
            "Feature: 3, Score: 0.06843\n",
            "Feature: 4, Score: 0.07347\n",
            "Feature: 5, Score: 0.06444\n",
            "Feature: 6, Score: 0.09809\n",
            "Feature: 7, Score: 0.08919\n",
            "Feature: 8, Score: 0.06922\n",
            "Feature: 9, Score: 0.11085\n",
            "Feature: 10, Score: 0.17540\n"
          ]
        },
        {
          "output_type": "display_data",
          "data": {
            "image/png": "[encoded data removed]",
            "text/plain": [
              "<Figure size 432x288 with 1 Axes>"
            ]
          },
          "metadata": {
            "needs_background": "light"
          }
        }
      ]
    },
    {
      "cell_type": "markdown",
      "metadata": {
        "id": "W3AnyQXtaYdf"
      },
      "source": [
        "### Conclusion\n",
        "\n",
        "The project begins with the introductions of the data that the data has been acquired from a Portugal. it has 12 columns where the 11 are used as matrix of features **(X)** and the Quality is used as a dependent variable **(y)**.\n",
        "After acquring the data it has been processed with several functions suchas checking nan values or Null values or anything else. \n",
        "Afterwards a coorelation matrix is defiend to evaluate the co-relations amoung the parameters and histogram of all the columns. It is plotted to analyse the outliers in the acquired dataset, However, their is no any outlier is founded in the dataset. \n",
        "In the following step, the data scaled using a MinMaxSCaler for the better performance. The scaled data is divided into four different subsets (X_train, X_test, y_train, y_test). These four sets are used to fit, build a model and predict the observations. \n",
        "In the end, it is found that the **Decision Tree** (65%) has an accuracy score of 65 percentile while the another model **Random Forest** (68%) score 4 percent more accuracy in the experiement. It is also seen that the variable 9th and 10th has high role of data importance in the process of  redwine quality predictions.\n",
        "So, in the case of the qualititative redwine the **Random Forest** model acheives higher in the experiment and it won in the project. "
      ]
    }
  ],
  "metadata": {
    "kernelspec": {
      "display_name": "Python 3",
      "language": "python",
      "name": "python3"
    },
    "language_info": {
      "codemirror_mode": {
        "name": "ipython",
        "version": 3
      },
      "file_extension": ".py",
      "mimetype": "text/x-python",
      "name": "python",
      "nbconvert_exporter": "python",
      "pygments_lexer": "ipython3",
      "version": "3.7.3"
    },
    "colab": {
      "name": "200501801_Sukhwinder_Singh.ipynb",
      "provenance": [],
      "collapsed_sections": []
    }
  },
  "nbformat": 4,
  "nbformat_minor": 0
}